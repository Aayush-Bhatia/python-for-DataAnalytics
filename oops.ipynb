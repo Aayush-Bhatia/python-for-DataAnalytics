{
 "cells": [
  {
   "cell_type": "markdown",
   "id": "c84deb01-e638-4692-aa0a-7ab5b954b751",
   "metadata": {},
   "source": [
    "# OOPS\n"
   ]
  },
  {
   "cell_type": "markdown",
   "id": "85a056c1-77a9-4ad4-893c-7a476eecebc7",
   "metadata": {},
   "source": [
    "# class - bluePrint of any entity\n",
    "- it layouts all the characteristics amd methods the object of my class to have\n",
    "- iss blue Print se hum object bnate h\n",
    "- har object apne ek taereeke se ek real world entity ko represent  kerega\n",
    "- "
   ]
  },
  {
   "cell_type": "code",
   "execution_count": 10,
   "id": "bf538d1b-8904-464e-8022-943c08b1d9e5",
   "metadata": {},
   "outputs": [],
   "source": [
    "class person:\n",
    "    #constructor\n",
    "    def __init__(self,name = 'xyz', age = 0):\n",
    "        self.name = name\n",
    "        self.age = age\n",
    "                 \n",
    "     #conventionally(by default) arguments m self denge           \n",
    "    #def sayHello(self):\n",
    "     #   print(self)\n",
    "      #  print(f\"ram ram ladder{self.name}\") # name bhi sath print hoga\n",
    "\n",
    "    def sayHello(self,oth):\n",
    "        print(f'{self.name} says hello to {oth}')\n",
    "        "
   ]
  },
  {
   "cell_type": "code",
   "execution_count": 11,
   "id": "7034fa94-4088-4816-aa3c-0b79816bf219",
   "metadata": {},
   "outputs": [
    {
     "name": "stdout",
     "output_type": "stream",
     "text": [
      "xyz says hello to aayush\n"
     ]
    }
   ],
   "source": [
    "p1 = person()\n",
    "p1.sayHello(\"aayush\")\n",
    "#argument mei self lgne k baad ye error dega"
   ]
  },
  {
   "cell_type": "code",
   "execution_count": 12,
   "id": "1b472d47-7aed-4e31-92f8-7ba34e571c88",
   "metadata": {},
   "outputs": [
    {
     "name": "stdout",
     "output_type": "stream",
     "text": [
      "aayush 20\n"
     ]
    }
   ],
   "source": [
    "p1 = person('aayush',20)\n",
    "#p1.name = ' Aayush' # yha p1 k sarh variable bnane se ye automatically class ka var. bngya\n",
    "#p1.age = 20\n",
    "print(p1.name,p1.age)\n"
   ]
  },
  {
   "cell_type": "code",
   "execution_count": 13,
   "id": "eebecdfe-aafc-445c-a15c-427e756f67da",
   "metadata": {},
   "outputs": [
    {
     "name": "stdout",
     "output_type": "stream",
     "text": [
      "aayush says hello to kaka\n"
     ]
    }
   ],
   "source": [
    "p1.sayHello('kaka')"
   ]
  },
  {
   "cell_type": "code",
   "execution_count": 35,
   "id": "8ceb9043-745b-45db-a322-0c187bf02a5e",
   "metadata": {},
   "outputs": [
    {
     "name": "stdout",
     "output_type": "stream",
     "text": [
      "xyz says hello to  jagi\n"
     ]
    }
   ],
   "source": [
    "p2 = person()\n",
    "p2.sayHello(' jagi') #koi name or age ki value nhi di so ye error show krega....isiliye hum upr class m \n",
    "            #constructor bnayenge jo iss problem ko overcome krega or name and age ki jgah default value dega"
   ]
  },
  {
   "cell_type": "code",
   "execution_count": 37,
   "id": "f2584453-9cdc-428d-98fd-7b391e19cb2f",
   "metadata": {},
   "outputs": [
    {
     "data": {
      "text/plain": [
       "True"
      ]
     },
     "execution_count": 37,
     "metadata": {},
     "output_type": "execute_result"
    }
   ],
   "source": [
    "isinstance(2,int) #check krega ki ye object iss class se belong krta h  ya nhi krta"
   ]
  },
  {
   "cell_type": "code",
   "execution_count": 52,
   "id": "66ba8c7a-a0ff-4251-9900-49d39e83acf1",
   "metadata": {},
   "outputs": [],
   "source": [
    "class dog:\n",
    "    legs = 4\n",
    "    tail = 1\n",
    "    tricks = []\n",
    "\n",
    "    def __init__(self,name = 'xyz',breed='abc'):\n",
    "        self.name = name\n",
    "        self.breed = breed\n",
    "\n",
    "    def bark(self,sound = 'bhow'):\n",
    "        self.sound = sound\n",
    "        print(f'{self.name} : {sound} {sound}')"
   ]
  },
  {
   "cell_type": "code",
   "execution_count": 53,
   "id": "1f7d5d45-98fe-461c-b206-9209b823ed6c",
   "metadata": {},
   "outputs": [],
   "source": [
    "d1 = dog('brandy','shitzu')\n",
    "d2 = dog('jacky', 'german shepherd')"
   ]
  },
  {
   "cell_type": "code",
   "execution_count": 54,
   "id": "47aab8d1-b9e1-4d3e-9004-d516873c6f33",
   "metadata": {},
   "outputs": [
    {
     "name": "stdout",
     "output_type": "stream",
     "text": [
      "brandy : bhow bhow\n"
     ]
    }
   ],
   "source": [
    "d1.bark()"
   ]
  },
  {
   "cell_type": "code",
   "execution_count": 55,
   "id": "d0370a81-d2ad-4401-83ea-fbfb27f6eed4",
   "metadata": {},
   "outputs": [
    {
     "name": "stdout",
     "output_type": "stream",
     "text": [
      "jacky : bhow bhow\n"
     ]
    }
   ],
   "source": [
    "d2.bark()"
   ]
  },
  {
   "cell_type": "code",
   "execution_count": 56,
   "id": "4d560298-caf5-4acf-8e16-cf283adf0204",
   "metadata": {},
   "outputs": [],
   "source": [
    "d1.tricks.append('sit')\n",
    "d1.tricks.append('stand')"
   ]
  },
  {
   "cell_type": "code",
   "execution_count": 57,
   "id": "63759d16-92fb-4f53-8a88-f085648dc566",
   "metadata": {},
   "outputs": [
    {
     "data": {
      "text/plain": [
       "['sit', 'stand']"
      ]
     },
     "execution_count": 57,
     "metadata": {},
     "output_type": "execute_result"
    }
   ],
   "source": [
    "d2.tricks"
   ]
  },
  {
   "cell_type": "code",
   "execution_count": 58,
   "id": "036f83e1-28be-4c47-9ef5-253cd36c623a",
   "metadata": {},
   "outputs": [],
   "source": [
    "d1.tail = 6 # yha class vale common variable ki value m change nhi hoga ye d1 ka ek apna var. bnega or usko value assign hogi"
   ]
  },
  {
   "cell_type": "code",
   "execution_count": 59,
   "id": "709d3f3f-b7a3-4420-835e-c752ea1c52bd",
   "metadata": {},
   "outputs": [
    {
     "data": {
      "text/plain": [
       "1"
      ]
     },
     "execution_count": 59,
     "metadata": {},
     "output_type": "execute_result"
    }
   ],
   "source": [
    "d2.tail  #d2 ka koi tail vala apna variable tha hi nhi to usne class vala common variable hi print krva dia"
   ]
  },
  {
   "cell_type": "code",
   "execution_count": 60,
   "id": "4c050ad3-66e2-437b-a17e-ef5e2c66c0e0",
   "metadata": {},
   "outputs": [
    {
     "name": "stdout",
     "output_type": "stream",
     "text": [
      "['sit', 'handshake']\n",
      "['sit', 'stand']\n"
     ]
    }
   ],
   "source": [
    "d1.tricks= ['sit', 'handshake']\n",
    "print(d1.tricks)\n",
    "print(d2.tricks)"
   ]
  },
  {
   "cell_type": "markdown",
   "id": "ba3da864-7444-4127-ae45-47fd560e8152",
   "metadata": {},
   "source": [
    "# inheritance\n",
    "- child class k argument m parent class dedo"
   ]
  },
  {
   "cell_type": "code",
   "execution_count": 82,
   "id": "fd845603-13bc-4855-b85c-8fe9983f2c26",
   "metadata": {},
   "outputs": [],
   "source": [
    "class student(person): #person class constructed in starting is inherited to this student class\n",
    "    def __init__(self,name = 'xyz', age = 0, roll = 1):\n",
    "        # super().__init__(name,age)  #better way\n",
    "        person.__init__(self,name,age)\n",
    "        self.roll = roll\n",
    "    def sayHello(self):\n",
    "        print(f'{self.name} says hello ')"
   ]
  },
  {
   "cell_type": "code",
   "execution_count": 83,
   "id": "8421bc5f-3b59-4ec3-93e1-25cde1a3d665",
   "metadata": {},
   "outputs": [
    {
     "name": "stdout",
     "output_type": "stream",
     "text": [
      "aayush says hello \n"
     ]
    }
   ],
   "source": [
    "s = student('aayush',20,20)\n",
    "s.sayHello()"
   ]
  },
  {
   "cell_type": "code",
   "execution_count": 84,
   "id": "30b4ee58-26c6-42f3-8e19-6d40bfadcd76",
   "metadata": {},
   "outputs": [
    {
     "data": {
      "text/plain": [
       "20"
      ]
     },
     "execution_count": 84,
     "metadata": {},
     "output_type": "execute_result"
    }
   ],
   "source": [
    "s.roll"
   ]
  },
  {
   "cell_type": "markdown",
   "id": "21f98c60-edc9-4943-944c-b8461ba4925c",
   "metadata": {},
   "source": [
    "# dunders - methods of object class"
   ]
  },
  {
   "cell_type": "code",
   "execution_count": 138,
   "id": "77c37a90-5a38-4b2f-b8c2-5c6e633fa64a",
   "metadata": {},
   "outputs": [],
   "source": [
    "class car:\n",
    "    def __init__(self,model,color,speed):\n",
    "        self.model = model\n",
    "        self.color = color\n",
    "        self.speed = speed\n",
    "\n",
    "    def __len__(self):  # len, add and init  are dunders\n",
    "        return self.speed\n",
    "\n",
    "    def __add__(self,oth):  # len, add and init  are dunders\n",
    "        return car(self.model,oth.color,self.speed + oth.speed)\n",
    "\n",
    "    def __str__(self):  # string dunder h jo print command p string print krvayega\n",
    "        return  f\"model : {self.model}, color : {self.color}, speed: {self.speed}\"\n",
    "        "
   ]
  },
  {
   "cell_type": "code",
   "execution_count": 139,
   "id": "af312008-8e95-4ce5-aa01-162b148de778",
   "metadata": {},
   "outputs": [],
   "source": [
    "c1 = car(\"toyota\", \"white\" , 20)\n",
    "c2 = car(\"tata\", \"black\" , 30)\n"
   ]
  },
  {
   "cell_type": "code",
   "execution_count": 140,
   "id": "f6e15f20-37b9-4fe8-aa06-d079b106934f",
   "metadata": {},
   "outputs": [
    {
     "data": {
      "text/plain": [
       "'white'"
      ]
     },
     "execution_count": 140,
     "metadata": {},
     "output_type": "execute_result"
    }
   ],
   "source": [
    "c1.color\n"
   ]
  },
  {
   "cell_type": "code",
   "execution_count": 141,
   "id": "08263a53-f557-440c-9360-5b750cdea12b",
   "metadata": {},
   "outputs": [
    {
     "data": {
      "text/plain": [
       "20"
      ]
     },
     "execution_count": 141,
     "metadata": {},
     "output_type": "execute_result"
    }
   ],
   "source": [
    "len(c1)"
   ]
  },
  {
   "cell_type": "code",
   "execution_count": 142,
   "id": "aeaeba8e-127d-451b-a307-9152b93395bf",
   "metadata": {},
   "outputs": [
    {
     "data": {
      "text/plain": [
       "30"
      ]
     },
     "execution_count": 142,
     "metadata": {},
     "output_type": "execute_result"
    }
   ],
   "source": [
    "len(c2)"
   ]
  },
  {
   "cell_type": "code",
   "execution_count": 143,
   "id": "dcb82834-5b98-4129-ba68-a31c94ab72a0",
   "metadata": {},
   "outputs": [
    {
     "name": "stdout",
     "output_type": "stream",
     "text": [
      "model : toyota, color : black, speed: 50\n"
     ]
    }
   ],
   "source": [
    "print(c3)"
   ]
  },
  {
   "cell_type": "code",
   "execution_count": 144,
   "id": "48d5403e-3902-41d1-91d1-be04788d9a7c",
   "metadata": {},
   "outputs": [
    {
     "name": "stdout",
     "output_type": "stream",
     "text": [
      "toyota black 50\n"
     ]
    }
   ],
   "source": [
    "c3 = c1+c2\n",
    "print(c3.model,c3.color,c3.speed)"
   ]
  },
  {
   "cell_type": "code",
   "execution_count": 145,
   "id": "b9d738d6-5da9-4c2a-a48b-efd71cb5de8d",
   "metadata": {},
   "outputs": [
    {
     "name": "stdout",
     "output_type": "stream",
     "text": [
      "model : toyota, color : black, speed: 50\n"
     ]
    }
   ],
   "source": [
    "print(c3)"
   ]
  },
  {
   "cell_type": "code",
   "execution_count": 146,
   "id": "d7e766d2-e5a4-4845-99e3-d912a3c3cce5",
   "metadata": {},
   "outputs": [
    {
     "data": {
      "text/plain": [
       "['__add__',\n",
       " '__class__',\n",
       " '__delattr__',\n",
       " '__dict__',\n",
       " '__dir__',\n",
       " '__doc__',\n",
       " '__eq__',\n",
       " '__firstlineno__',\n",
       " '__format__',\n",
       " '__ge__',\n",
       " '__getattribute__',\n",
       " '__getstate__',\n",
       " '__gt__',\n",
       " '__hash__',\n",
       " '__init__',\n",
       " '__init_subclass__',\n",
       " '__le__',\n",
       " '__len__',\n",
       " '__lt__',\n",
       " '__module__',\n",
       " '__ne__',\n",
       " '__new__',\n",
       " '__reduce__',\n",
       " '__reduce_ex__',\n",
       " '__repr__',\n",
       " '__setattr__',\n",
       " '__sizeof__',\n",
       " '__static_attributes__',\n",
       " '__str__',\n",
       " '__subclasshook__',\n",
       " '__weakref__']"
      ]
     },
     "execution_count": 146,
     "metadata": {},
     "output_type": "execute_result"
    }
   ],
   "source": [
    "dir(car) #give no. of dunders"
   ]
  },
  {
   "cell_type": "markdown",
   "id": "0257daa3-5bd5-4e3d-b7a6-75fb43c17791",
   "metadata": {},
   "source": [
    "# multiple inheritance\n",
    "- MRO( method resolution order) : is a way in python to reduce ambiguity in multiple inheritance"
   ]
  },
  {
   "cell_type": "code",
   "execution_count": 147,
   "id": "41a5e73e-e264-46db-b5d8-c0b1579b7608",
   "metadata": {},
   "outputs": [
    {
     "data": {
      "text/plain": [
       "(__main__.d, __main__.b, __main__.c, __main__.A, object)"
      ]
     },
     "execution_count": 147,
     "metadata": {},
     "output_type": "execute_result"
    }
   ],
   "source": [
    "class A:\n",
    "    pass\n",
    "class b(A):\n",
    "    pass\n",
    "class c(A):\n",
    "    pass\n",
    "class d(b,c):\n",
    "    pass\n",
    "\n",
    "d.__mro__"
   ]
  },
  {
   "cell_type": "code",
   "execution_count": 148,
   "id": "1c54c4d9-f203-448d-8442-df728c0935bc",
   "metadata": {},
   "outputs": [
    {
     "data": {
      "text/plain": [
       "(__main__.c, __main__.A, object)"
      ]
     },
     "execution_count": 148,
     "metadata": {},
     "output_type": "execute_result"
    }
   ],
   "source": [
    "c.__mro__"
   ]
  },
  {
   "cell_type": "code",
   "execution_count": null,
   "id": "9ba41d04-b907-47e7-8516-6a68a91748fd",
   "metadata": {},
   "outputs": [],
   "source": []
  }
 ],
 "metadata": {
  "kernelspec": {
   "display_name": "Python 3 (ipykernel)",
   "language": "python",
   "name": "python3"
  },
  "language_info": {
   "codemirror_mode": {
    "name": "ipython",
    "version": 3
   },
   "file_extension": ".py",
   "mimetype": "text/x-python",
   "name": "python",
   "nbconvert_exporter": "python",
   "pygments_lexer": "ipython3",
   "version": "3.13.3"
  }
 },
 "nbformat": 4,
 "nbformat_minor": 5
}
