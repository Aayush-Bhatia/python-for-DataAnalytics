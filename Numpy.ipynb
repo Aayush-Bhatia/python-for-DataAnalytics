{
 "cells": [
  {
   "cell_type": "markdown",
   "id": "fd3216ec-b50c-4263-98d3-27b0baef2fe3",
   "metadata": {},
   "source": [
    "# Numpy - used for mathematical calculations\n",
    "- faster than python(100x)\n",
    "- it is a library of python but it works in C language so it works fast\n",
    "- Array(homogenious data) operations k liye ek library h\n",
    "- Array k upr mathematical kaam krne k liye numpy ka use hota h...... but data manipulation k liye pandas ka use hota h\n",
    "- multithreading bhi support krta h to or bhi fast chlta h code\n",
    "- accumulation of 1d vectors( 2d array)\n",
    "- any = or\n",
    "- all = and\n",
    "- argmax = max value ka index\n",
    "- argmin = min value ka index\n",
    "- iteration - nditer, ndenumerate\n",
    "- \n"
   ]
  },
  {
   "cell_type": "code",
   "execution_count": 1,
   "id": "3d23cfb6-ba43-4cc7-b751-0463b5dfd15a",
   "metadata": {},
   "outputs": [
    {
     "name": "stdout",
     "output_type": "stream",
     "text": [
      "Defaulting to user installation because normal site-packages is not writeable\n",
      "Requirement already satisfied: numpy in /Users/aayushbhatia/Library/Python/3.9/lib/python/site-packages (2.0.2)\n",
      "\u001b[33mWARNING: You are using pip version 21.2.4; however, version 25.1.1 is available.\n",
      "You should consider upgrading via the '/Library/Developer/CommandLineTools/usr/bin/python3 -m pip install --upgrade pip' command.\u001b[0m\n"
     ]
    }
   ],
   "source": [
    "!pip3 install numpy"
   ]
  },
  {
   "cell_type": "code",
   "execution_count": 2,
   "id": "23d3e28a-e9dd-473d-bb06-dd6fbd9c48ac",
   "metadata": {},
   "outputs": [],
   "source": [
    "import numpy as np\n"
   ]
  },
  {
   "cell_type": "code",
   "execution_count": 3,
   "id": "0a07069d-75a8-41b0-8831-65d59ccf3dd5",
   "metadata": {},
   "outputs": [
    {
     "name": "stdout",
     "output_type": "stream",
     "text": [
      "2.2.4\n"
     ]
    }
   ],
   "source": [
    "print(np.__version__)"
   ]
  },
  {
   "cell_type": "code",
   "execution_count": 4,
   "id": "e0bfe4d2-a61c-4f62-b95b-34363b8b3af2",
   "metadata": {},
   "outputs": [],
   "source": [
    "l1 = [1,2,3,4]\n",
    "l2 = [[1,2],[3,4],[5,6]]\n",
    "l3 = [[[10,20],[30,40]],[[50,60],[70,80]]]"
   ]
  },
  {
   "cell_type": "code",
   "execution_count": 5,
   "id": "2d44e1ff-27ca-44c0-b320-aed1f3c65da4",
   "metadata": {},
   "outputs": [],
   "source": [
    "n1 = np.array(l1)\n",
    "n2 = np.array(l2)\n",
    "n3 = np.array(l3)"
   ]
  },
  {
   "cell_type": "code",
   "execution_count": 6,
   "id": "2f2d375c-6a5f-40de-a1c7-c035c13baff7",
   "metadata": {},
   "outputs": [
    {
     "data": {
      "text/plain": [
       "numpy.ndarray"
      ]
     },
     "execution_count": 6,
     "metadata": {},
     "output_type": "execute_result"
    }
   ],
   "source": [
    "type(n1)"
   ]
  },
  {
   "cell_type": "code",
   "execution_count": 13,
   "id": "a467759b-565d-41f0-95dc-3113fdda7950",
   "metadata": {},
   "outputs": [
    {
     "data": {
      "text/plain": [
       "(4,)"
      ]
     },
     "execution_count": 13,
     "metadata": {},
     "output_type": "execute_result"
    }
   ],
   "source": [
    "n1.shape\n"
   ]
  },
  {
   "cell_type": "code",
   "execution_count": 7,
   "id": "f40a34cc-0b5d-4607-8ee7-8ca9bedfcbf2",
   "metadata": {},
   "outputs": [
    {
     "data": {
      "text/plain": [
       "(3, 2)"
      ]
     },
     "execution_count": 7,
     "metadata": {},
     "output_type": "execute_result"
    }
   ],
   "source": [
    "n2.shape"
   ]
  },
  {
   "cell_type": "code",
   "execution_count": 8,
   "id": "0ebf06d2-f45e-4952-a31c-6642ffb206a9",
   "metadata": {},
   "outputs": [
    {
     "data": {
      "text/plain": [
       "(2, 2, 2)"
      ]
     },
     "execution_count": 8,
     "metadata": {},
     "output_type": "execute_result"
    }
   ],
   "source": [
    "n3.shape # iske 3 dimenssions ye bta rhe h ki ek 3d array m kitne 2d arr. hai....\n",
    "        # 2d arr. m kitne 1d arr. hai....1d arr. m kitne elements h\n"
   ]
  },
  {
   "cell_type": "code",
   "execution_count": 9,
   "id": "0d7bf1bd-9cc7-4de7-a6e9-6f513eb7246d",
   "metadata": {},
   "outputs": [
    {
     "data": {
      "text/plain": [
       "3"
      ]
     },
     "execution_count": 9,
     "metadata": {},
     "output_type": "execute_result"
    }
   ],
   "source": [
    "n3.ndim # tell the no. of dimenssions"
   ]
  },
  {
   "cell_type": "code",
   "execution_count": 10,
   "id": "42a699c6-d967-4235-8782-b7adcee4edf1",
   "metadata": {},
   "outputs": [
    {
     "ename": "ValueError",
     "evalue": "setting an array element with a sequence. The requested array has an inhomogeneous shape after 1 dimensions. The detected shape was (3,) + inhomogeneous part.",
     "output_type": "error",
     "traceback": [
      "\u001b[31m---------------------------------------------------------------------------\u001b[39m",
      "\u001b[31mValueError\u001b[39m                                Traceback (most recent call last)",
      "\u001b[36mCell\u001b[39m\u001b[36m \u001b[39m\u001b[32mIn[10]\u001b[39m\u001b[32m, line 2\u001b[39m\n\u001b[32m      1\u001b[39m l4 = [[\u001b[32m1\u001b[39m,\u001b[32m2\u001b[39m,\u001b[32m3\u001b[39m],[\u001b[32m3\u001b[39m,\u001b[32m4\u001b[39m],[\u001b[32m5\u001b[39m,\u001b[32m6\u001b[39m]]\n\u001b[32m----> \u001b[39m\u001b[32m2\u001b[39m n4 = \u001b[43mnp\u001b[49m\u001b[43m.\u001b[49m\u001b[43marray\u001b[49m\u001b[43m(\u001b[49m\u001b[43ml4\u001b[49m\u001b[43m)\u001b[49m\n",
      "\u001b[31mValueError\u001b[39m: setting an array element with a sequence. The requested array has an inhomogeneous shape after 1 dimensions. The detected shape was (3,) + inhomogeneous part."
     ]
    }
   ],
   "source": [
    "l4 = [[1,2,3],[3,4],[5,6]]\n",
    "n4 = np.array(l4)"
   ]
  },
  {
   "cell_type": "code",
   "execution_count": 11,
   "id": "9c265ab8-a732-4135-a875-44d9742508eb",
   "metadata": {},
   "outputs": [
    {
     "data": {
      "text/plain": [
       "(3,)"
      ]
     },
     "execution_count": 11,
     "metadata": {},
     "output_type": "execute_result"
    }
   ],
   "source": [
    "l4 = [[1,2,3],[3,4],[5,6]]\n",
    "n4 = np.array(l4, dtype = 'object')\n",
    "n4.shape"
   ]
  },
  {
   "cell_type": "code",
   "execution_count": null,
   "id": "1ffe03ac-fefb-468d-aa63-1e696ee7d14e",
   "metadata": {},
   "outputs": [],
   "source": [
    "print(l2[1][1], n2[1][1])\n",
    "\n",
    "print(l2[1][1], n2[1,1])\n",
    "\n",
    "print(l3[0][1][0], n3[0,1,0])\n",
    "\n",
    "print(l2[1])\n",
    "\n",
    "print(n2[1])\n"
   ]
  },
  {
   "cell_type": "code",
   "execution_count": null,
   "id": "12135c27-a399-40f2-ac30-04ea091a3e87",
   "metadata": {},
   "outputs": [],
   "source": [
    "narr = np.arange(1,50)\n",
    "narr"
   ]
  },
  {
   "cell_type": "code",
   "execution_count": null,
   "id": "3902bb20-b80e-4158-8f79-443661487c7c",
   "metadata": {},
   "outputs": [],
   "source": [
    "np.linspace(1,2,5) # 1 or 2 ko incclude krke 5 elements dega 1 or 2 k bich m"
   ]
  },
  {
   "cell_type": "code",
   "execution_count": null,
   "id": "e44a2fa1-6453-4bf9-b2ba-22c6dc16a292",
   "metadata": {},
   "outputs": [],
   "source": [
    "np.linspace(1,10,5)"
   ]
  },
  {
   "cell_type": "code",
   "execution_count": null,
   "id": "17ab7cfe-7ab3-4ba7-90f5-c09007eddea8",
   "metadata": {},
   "outputs": [],
   "source": [
    "np.ones(shape = (4,5))"
   ]
  },
  {
   "cell_type": "code",
   "execution_count": 18,
   "id": "b258c8f8-507e-4dd3-8fb3-a2f58c3d4e00",
   "metadata": {},
   "outputs": [
    {
     "data": {
      "text/plain": [
       "array([[[1., 1., 1., 1., 1.],\n",
       "        [1., 1., 1., 1., 1.],\n",
       "        [1., 1., 1., 1., 1.],\n",
       "        [1., 1., 1., 1., 1.]],\n",
       "\n",
       "       [[1., 1., 1., 1., 1.],\n",
       "        [1., 1., 1., 1., 1.],\n",
       "        [1., 1., 1., 1., 1.],\n",
       "        [1., 1., 1., 1., 1.]]])"
      ]
     },
     "execution_count": 18,
     "metadata": {},
     "output_type": "execute_result"
    }
   ],
   "source": [
    "np.ones(shape = (2,4,5))"
   ]
  },
  {
   "cell_type": "code",
   "execution_count": 19,
   "id": "69e49e9b-67a8-4c26-bcb7-931e92db5b2e",
   "metadata": {},
   "outputs": [
    {
     "data": {
      "text/plain": [
       "array([[[[1., 1., 1., 1., 1.],\n",
       "         [1., 1., 1., 1., 1.],\n",
       "         [1., 1., 1., 1., 1.],\n",
       "         [1., 1., 1., 1., 1.]],\n",
       "\n",
       "        [[1., 1., 1., 1., 1.],\n",
       "         [1., 1., 1., 1., 1.],\n",
       "         [1., 1., 1., 1., 1.],\n",
       "         [1., 1., 1., 1., 1.]]],\n",
       "\n",
       "\n",
       "       [[[1., 1., 1., 1., 1.],\n",
       "         [1., 1., 1., 1., 1.],\n",
       "         [1., 1., 1., 1., 1.],\n",
       "         [1., 1., 1., 1., 1.]],\n",
       "\n",
       "        [[1., 1., 1., 1., 1.],\n",
       "         [1., 1., 1., 1., 1.],\n",
       "         [1., 1., 1., 1., 1.],\n",
       "         [1., 1., 1., 1., 1.]]],\n",
       "\n",
       "\n",
       "       [[[1., 1., 1., 1., 1.],\n",
       "         [1., 1., 1., 1., 1.],\n",
       "         [1., 1., 1., 1., 1.],\n",
       "         [1., 1., 1., 1., 1.]],\n",
       "\n",
       "        [[1., 1., 1., 1., 1.],\n",
       "         [1., 1., 1., 1., 1.],\n",
       "         [1., 1., 1., 1., 1.],\n",
       "         [1., 1., 1., 1., 1.]]]])"
      ]
     },
     "execution_count": 19,
     "metadata": {},
     "output_type": "execute_result"
    }
   ],
   "source": [
    "np.ones(shape = (3,2,4,5))"
   ]
  },
  {
   "cell_type": "code",
   "execution_count": 20,
   "id": "cc812bc7-a14c-45ce-97bf-b1416f4f1b62",
   "metadata": {},
   "outputs": [
    {
     "data": {
      "text/plain": [
       "array([[0., 0., 0., 0., 0.],\n",
       "       [0., 0., 0., 0., 0.],\n",
       "       [0., 0., 0., 0., 0.],\n",
       "       [0., 0., 0., 0., 0.]])"
      ]
     },
     "execution_count": 20,
     "metadata": {},
     "output_type": "execute_result"
    }
   ],
   "source": [
    "np.zeros(shape = (4,5))"
   ]
  },
  {
   "cell_type": "code",
   "execution_count": null,
   "id": "15a45d18-035d-4b35-b974-f326d606fc96",
   "metadata": {},
   "outputs": [],
   "source": []
  },
  {
   "cell_type": "code",
   "execution_count": 21,
   "id": "8af78a7c-a323-4801-94fa-eebdc3810442",
   "metadata": {},
   "outputs": [],
   "source": [
    "l1 = np.eye(3,4) #give identity matrix"
   ]
  },
  {
   "cell_type": "code",
   "execution_count": 22,
   "id": "7694befd-0d93-4fd2-8e18-3971a04cec34",
   "metadata": {},
   "outputs": [
    {
     "data": {
      "text/plain": [
       "array([[1., 0., 0., 0.],\n",
       "       [0., 1., 0., 0.],\n",
       "       [0., 0., 1., 0.]])"
      ]
     },
     "execution_count": 22,
     "metadata": {},
     "output_type": "execute_result"
    }
   ],
   "source": [
    "l1"
   ]
  },
  {
   "cell_type": "code",
   "execution_count": 23,
   "id": "d0fa9929-a9a9-404e-aa9a-78ac9c6ace6c",
   "metadata": {},
   "outputs": [
    {
     "data": {
      "text/plain": [
       "array([[3., 0., 0., 0.],\n",
       "       [0., 3., 0., 0.],\n",
       "       [0., 0., 3., 0.]])"
      ]
     },
     "execution_count": 23,
     "metadata": {},
     "output_type": "execute_result"
    }
   ],
   "source": [
    "l1*3 "
   ]
  },
  {
   "cell_type": "code",
   "execution_count": 24,
   "id": "ae7ac014-54b8-4ce9-a2ef-e6174884fce1",
   "metadata": {},
   "outputs": [
    {
     "data": {
      "text/plain": [
       "array([[1, 0, 0, 0, 0],\n",
       "       [0, 2, 0, 0, 0],\n",
       "       [0, 0, 3, 0, 0],\n",
       "       [0, 0, 0, 4, 0],\n",
       "       [0, 0, 0, 0, 5]])"
      ]
     },
     "execution_count": 24,
     "metadata": {},
     "output_type": "execute_result"
    }
   ],
   "source": [
    "np.diag([1,2,3,4,5])"
   ]
  },
  {
   "cell_type": "code",
   "execution_count": 25,
   "id": "3d95fa30-9ab4-4b45-91b3-e1914c566b31",
   "metadata": {},
   "outputs": [],
   "source": [
    "narr = np.arange(1,101)\n"
   ]
  },
  {
   "cell_type": "code",
   "execution_count": 26,
   "id": "34bb7a3e-7ed6-46ed-ab60-8dfa9220a04f",
   "metadata": {},
   "outputs": [
    {
     "data": {
      "text/plain": [
       "(10, 10)"
      ]
     },
     "execution_count": 26,
     "metadata": {},
     "output_type": "execute_result"
    }
   ],
   "source": [
    "narr = narr.reshape((10,10))\n",
    "narr.shape"
   ]
  },
  {
   "cell_type": "code",
   "execution_count": 27,
   "id": "e448525e-ed0a-4e25-96e6-fdf022c1cbf1",
   "metadata": {},
   "outputs": [
    {
     "data": {
      "text/plain": [
       "array([[  1,   2,   3,   4,   5,   6,   7,   8,   9,  10],\n",
       "       [ 11,  12,  13,  14,  15,  16,  17,  18,  19,  20],\n",
       "       [ 21,  22,  23,  24,  25,  26,  27,  28,  29,  30],\n",
       "       [ 31,  32,  33,  34,  35,  36,  37,  38,  39,  40],\n",
       "       [ 41,  42,  43,  44,  45,  46,  47,  48,  49,  50],\n",
       "       [ 51,  52,  53,  54,  55,  56,  57,  58,  59,  60],\n",
       "       [ 61,  62,  63,  64,  65,  66,  67,  68,  69,  70],\n",
       "       [ 71,  72,  73,  74,  75,  76,  77,  78,  79,  80],\n",
       "       [ 81,  82,  83,  84,  85,  86,  87,  88,  89,  90],\n",
       "       [ 91,  92,  93,  94,  95,  96,  97,  98,  99, 100]])"
      ]
     },
     "execution_count": 27,
     "metadata": {},
     "output_type": "execute_result"
    }
   ],
   "source": [
    "narr"
   ]
  },
  {
   "cell_type": "code",
   "execution_count": 28,
   "id": "a7af50b9-b9b7-4465-aca0-2b1adb96752d",
   "metadata": {},
   "outputs": [
    {
     "data": {
      "text/plain": [
       "array([[[0.55345377, 0.86502964],\n",
       "        [0.9921775 , 0.34755196]],\n",
       "\n",
       "       [[0.09036725, 0.01434534],\n",
       "        [0.42955214, 0.3767178 ]],\n",
       "\n",
       "       [[0.87018756, 0.3029657 ],\n",
       "        [0.6717083 , 0.5035019 ]]])"
      ]
     },
     "execution_count": 28,
     "metadata": {},
     "output_type": "execute_result"
    }
   ],
   "source": [
    "np.random.rand(3,2,2)"
   ]
  },
  {
   "cell_type": "code",
   "execution_count": 29,
   "id": "3c025adc-29b8-4a1f-91b2-f52d3699d454",
   "metadata": {},
   "outputs": [
    {
     "data": {
      "text/plain": [
       "array([[[-2.55341791,  1.57996185],\n",
       "        [ 0.12121475,  1.19032508]],\n",
       "\n",
       "       [[-0.53993621,  1.51524472],\n",
       "        [-0.30913579,  1.41196791]],\n",
       "\n",
       "       [[ 1.15508382,  1.29271703],\n",
       "        [-0.38203331, -1.8051277 ]]])"
      ]
     },
     "execution_count": 29,
     "metadata": {},
     "output_type": "execute_result"
    }
   ],
   "source": [
    "np.random.randn(3,2,2) # n is used for normal distribution"
   ]
  },
  {
   "cell_type": "code",
   "execution_count": 30,
   "id": "fb1ee23b-f723-4829-ba31-62f18065689f",
   "metadata": {},
   "outputs": [
    {
     "data": {
      "text/plain": [
       "array([[64, 78],\n",
       "       [49,  9],\n",
       "       [18, 99],\n",
       "       [36, 70],\n",
       "       [35, 61]])"
      ]
     },
     "execution_count": 30,
     "metadata": {},
     "output_type": "execute_result"
    }
   ],
   "source": [
    "np.random.randint(1,101,size = (5,2))"
   ]
  },
  {
   "cell_type": "code",
   "execution_count": 31,
   "id": "25b97eff-1f85-4a72-8263-904b6a8d61c4",
   "metadata": {},
   "outputs": [
    {
     "data": {
      "text/plain": [
       "array([[0.22100942, 0.72019795],\n",
       "       [0.24486715, 0.71362678],\n",
       "       [0.99904332, 0.07278548],\n",
       "       [0.11342245, 0.21075406],\n",
       "       [0.69472265, 0.88731891]])"
      ]
     },
     "execution_count": 31,
     "metadata": {},
     "output_type": "execute_result"
    }
   ],
   "source": [
    "np.random.random(size = (5,2))"
   ]
  },
  {
   "cell_type": "code",
   "execution_count": 32,
   "id": "ae8bd4a8-f609-48b4-836d-b74e9fe86bb1",
   "metadata": {},
   "outputs": [
    {
     "data": {
      "text/plain": [
       "array([7, 4, 7, 5, 6])"
      ]
     },
     "execution_count": 32,
     "metadata": {},
     "output_type": "execute_result"
    }
   ],
   "source": [
    "np.random.choice(np.array([1,2,3,4,5,6,7,8,9]),size =(5,), replace = True, p =[0,0,0,0.1,0.2,0.2,0.4,0.1,0])"
   ]
  },
  {
   "cell_type": "code",
   "execution_count": 33,
   "id": "8a65949e-57e7-4802-b34b-6a7a3edb2900",
   "metadata": {},
   "outputs": [
    {
     "data": {
      "text/plain": [
       "array([[  1,   2,   3,   4,   5,   6,   7,   8,   9,  10],\n",
       "       [ 11,  12,  13,  14,  15,  16,  17,  18,  19,  20],\n",
       "       [ 21,  22,  23,  24,  25,  26,  27,  28,  29,  30],\n",
       "       [ 31,  32,  33,  34,  35,  36,  37,  38,  39,  40],\n",
       "       [ 41,  42,  43,  44,  45,  46,  47,  48,  49,  50],\n",
       "       [ 51,  52,  53,  54,  55,  56,  57,  58,  59,  60],\n",
       "       [ 61,  62,  63,  64,  65,  66,  67,  68,  69,  70],\n",
       "       [ 71,  72,  73,  74,  75,  76,  77,  78,  79,  80],\n",
       "       [ 81,  82,  83,  84,  85,  86,  87,  88,  89,  90],\n",
       "       [ 91,  92,  93,  94,  95,  96,  97,  98,  99, 100]])"
      ]
     },
     "execution_count": 33,
     "metadata": {},
     "output_type": "execute_result"
    }
   ],
   "source": [
    "narr = np.arange(1,101).reshape((10,10)) # sirf rows ko shuffle krega rows k andr k elements ko shuffle nhi krega kuki ek dimenssion m hi shuffling krta h\n",
    "narr"
   ]
  },
  {
   "cell_type": "code",
   "execution_count": 34,
   "id": "99d74e96-9068-43b4-a076-e618c8dfeedd",
   "metadata": {},
   "outputs": [
    {
     "data": {
      "text/plain": [
       "array([[ 91,  92,  93,  94,  95,  96,  97,  98,  99, 100],\n",
       "       [ 51,  52,  53,  54,  55,  56,  57,  58,  59,  60],\n",
       "       [ 31,  32,  33,  34,  35,  36,  37,  38,  39,  40],\n",
       "       [ 61,  62,  63,  64,  65,  66,  67,  68,  69,  70],\n",
       "       [ 41,  42,  43,  44,  45,  46,  47,  48,  49,  50],\n",
       "       [ 11,  12,  13,  14,  15,  16,  17,  18,  19,  20],\n",
       "       [ 71,  72,  73,  74,  75,  76,  77,  78,  79,  80],\n",
       "       [ 21,  22,  23,  24,  25,  26,  27,  28,  29,  30],\n",
       "       [  1,   2,   3,   4,   5,   6,   7,   8,   9,  10],\n",
       "       [ 81,  82,  83,  84,  85,  86,  87,  88,  89,  90]])"
      ]
     },
     "execution_count": 34,
     "metadata": {},
     "output_type": "execute_result"
    }
   ],
   "source": [
    "np.random.shuffle(narr) # sirf rows ko shuffle krega rows k andr k elements ko shuffle nhi krega kuki ek dimenssion m hi shuffling krta h\n",
    "narr\n"
   ]
  },
  {
   "cell_type": "code",
   "execution_count": 35,
   "id": "803cad3d-e328-4614-9b99-52193eb3900a",
   "metadata": {},
   "outputs": [
    {
     "data": {
      "text/plain": [
       "array([  1,   2,   3,   4,   5,   6,   7,   8,   9,  10,  11,  12,  13,\n",
       "        14,  15,  16,  17,  18,  19,  20,  21,  22,  23,  24,  25,  26,\n",
       "        27,  28,  29,  30,  31,  32,  33,  34,  35,  36,  37,  38,  39,\n",
       "        40,  41,  42,  43,  44,  45,  46,  47,  48,  49,  50,  51,  52,\n",
       "        53,  54,  55,  56,  57,  58,  59,  60,  61,  62,  63,  64,  65,\n",
       "        66,  67,  68,  69,  70,  71,  72,  73,  74,  75,  76,  77,  78,\n",
       "        79,  80,  81,  82,  83,  84,  85,  86,  87,  88,  89,  90,  91,\n",
       "        92,  93,  94,  95,  96,  97,  98,  99, 100])"
      ]
     },
     "execution_count": 35,
     "metadata": {},
     "output_type": "execute_result"
    }
   ],
   "source": [
    "narr = np.arange(1,101) # iske andr elements shuffle honge kuki ek hi element hai\n",
    "narr"
   ]
  },
  {
   "cell_type": "code",
   "execution_count": 36,
   "id": "bf054016-fa9f-4441-a80d-79a4191e6ff2",
   "metadata": {},
   "outputs": [
    {
     "data": {
      "text/plain": [
       "array([ 33,   6,  50,  17,  78,  66,  48,  45,   5,  64,  54,  18,   3,\n",
       "        62,  49,  15,  59,  73,  20,  91,  77,  65,  61,  16,  63,  93,\n",
       "        94,   8,  70,  80,  96,  32,  53,  69,  26,  40,  92,  22,  10,\n",
       "        21,  76,  42,  84,  51,   2,  47,  11,  85,  37,  72,  57,  19,\n",
       "        39,  86,  71,  89,   7,  27,  38,  88,  25,  23,  82,  67,   4,\n",
       "        60,  52,  87,  90,  56,  68,  97,  12,  14,  99,  28,  36,  31,\n",
       "        30, 100,   1,  41,  55,  95,  74,  44,  29,  46,  75,  81,  34,\n",
       "        98,  13,  35,   9,  79,  83,  24,  43,  58])"
      ]
     },
     "execution_count": 36,
     "metadata": {},
     "output_type": "execute_result"
    }
   ],
   "source": [
    "np.random.shuffle(narr)\n",
    "narr"
   ]
  },
  {
   "cell_type": "code",
   "execution_count": 37,
   "id": "69862fdb-5974-48c9-9f5c-a8545ee75d0c",
   "metadata": {},
   "outputs": [
    {
     "data": {
      "text/plain": [
       "array([[[ 33,   6,  50,  17,  78,  66,  48,  45,   5,  64],\n",
       "        [ 54,  18,   3,  62,  49,  15,  59,  73,  20,  91]],\n",
       "\n",
       "       [[ 77,  65,  61,  16,  63,  93,  94,   8,  70,  80],\n",
       "        [ 96,  32,  53,  69,  26,  40,  92,  22,  10,  21]],\n",
       "\n",
       "       [[ 76,  42,  84,  51,   2,  47,  11,  85,  37,  72],\n",
       "        [ 57,  19,  39,  86,  71,  89,   7,  27,  38,  88]],\n",
       "\n",
       "       [[ 25,  23,  82,  67,   4,  60,  52,  87,  90,  56],\n",
       "        [ 68,  97,  12,  14,  99,  28,  36,  31,  30, 100]],\n",
       "\n",
       "       [[  1,  41,  55,  95,  74,  44,  29,  46,  75,  81],\n",
       "        [ 34,  98,  13,  35,   9,  79,  83,  24,  43,  58]]])"
      ]
     },
     "execution_count": 37,
     "metadata": {},
     "output_type": "execute_result"
    }
   ],
   "source": [
    "narr = narr.reshape(5,2,-1) # -1 ka mtlv h ki \n",
    "                    #jis dimenssion m bhi hum -1 likhenge vo baaki dimenssions ko analyse krega or check krega \n",
    "                    #ki iss vale dimenssion m kitne elements aayenge ya kitne array aayeenge \n",
    "                    #or phrr vo automaticcally elements set krdega\n",
    "narr"
   ]
  },
  {
   "cell_type": "code",
   "execution_count": 38,
   "id": "57d2097a-012a-49bc-8076-9f811aefffa7",
   "metadata": {},
   "outputs": [
    {
     "data": {
      "text/plain": [
       "np.int64(40)"
      ]
     },
     "execution_count": 38,
     "metadata": {},
     "output_type": "execute_result"
    }
   ],
   "source": [
    "narr[1,1,5]"
   ]
  },
  {
   "cell_type": "code",
   "execution_count": 39,
   "id": "4dc78505-714c-40e4-8fe0-d1e4ffc12703",
   "metadata": {},
   "outputs": [
    {
     "data": {
      "text/plain": [
       "array([[[ 33,   6,  50,  17,  78,  66,  48,  45,   5,  64],\n",
       "        [ 54,  18,   3,  62,  49,  15,  59,  73,  20,  91]],\n",
       "\n",
       "       [[ 77,  65,  61,  16,  63,  93,  94,   8,  70,  80],\n",
       "        [ 96,  32,  53,  69,  26, 350,  92,  22,  10,  21]],\n",
       "\n",
       "       [[ 76,  42,  84,  51,   2,  47,  11,  85,  37,  72],\n",
       "        [ 57,  19,  39,  86,  71,  89,   7,  27,  38,  88]],\n",
       "\n",
       "       [[ 25,  23,  82,  67,   4,  60,  52,  87,  90,  56],\n",
       "        [ 68,  97,  12,  14,  99,  28,  36,  31,  30, 100]],\n",
       "\n",
       "       [[  1,  41,  55,  95,  74,  44,  29,  46,  75,  81],\n",
       "        [ 34,  98,  13,  35,   9,  79,  83,  24,  43,  58]]])"
      ]
     },
     "execution_count": 39,
     "metadata": {},
     "output_type": "execute_result"
    }
   ],
   "source": [
    "narr[1,1,5] = 350\n",
    "narr"
   ]
  },
  {
   "cell_type": "code",
   "execution_count": 40,
   "id": "f18e2691-5285-41d2-9db0-1a7b6e5c0fd8",
   "metadata": {},
   "outputs": [
    {
     "data": {
      "text/plain": [
       "array([ 33,   6,  50,  17,  78,  66,  48,  45,   5,  64,  54,  18,   3,\n",
       "        62,  49,  15,  59,  73,  20,  91,  77,  65,  61,  16,  63,  93,\n",
       "        94,   8,  70,  80,  96,  32,  53,  69,  26, 350,  92,  22,  10,\n",
       "        21,  76,  42,  84,  51,   2,  47,  11,  85,  37,  72,  57,  19,\n",
       "        39,  86,  71,  89,   7,  27,  38,  88,  25,  23,  82,  67,   4,\n",
       "        60,  52,  87,  90,  56,  68,  97,  12,  14,  99,  28,  36,  31,\n",
       "        30, 100,   1,  41,  55,  95,  74,  44,  29,  46,  75,  81,  34,\n",
       "        98,  13,  35,   9,  79,  83,  24,  43,  58])"
      ]
     },
     "execution_count": 40,
     "metadata": {},
     "output_type": "execute_result"
    }
   ],
   "source": [
    "narr.reshape(-1,)"
   ]
  },
  {
   "cell_type": "code",
   "execution_count": 41,
   "id": "70ffbc3f-83b4-4fad-be00-1bef14831d1b",
   "metadata": {},
   "outputs": [
    {
     "data": {
      "text/plain": [
       "array([[[ 77,  65,  61,  16,  63,  93,  94,   8,  70,  80],\n",
       "        [ 96,  32,  53,  69,  26, 350,  92,  22,  10,  21]],\n",
       "\n",
       "       [[ 76,  42,  84,  51,   2,  47,  11,  85,  37,  72],\n",
       "        [ 57,  19,  39,  86,  71,  89,   7,  27,  38,  88]],\n",
       "\n",
       "       [[ 25,  23,  82,  67,   4,  60,  52,  87,  90,  56],\n",
       "        [ 68,  97,  12,  14,  99,  28,  36,  31,  30, 100]]])"
      ]
     },
     "execution_count": 41,
     "metadata": {},
     "output_type": "execute_result"
    }
   ],
   "source": [
    "#numpy supports slicing in a 2d array\n",
    "narr = narr.reshape(5,2,-1)\n",
    "narr[1:4]"
   ]
  },
  {
   "cell_type": "code",
   "execution_count": 42,
   "id": "312b5cad-c3b2-48ff-99ac-3f1ad01ff62c",
   "metadata": {},
   "outputs": [
    {
     "data": {
      "text/plain": [
       "array([[[ 61,  16,  63,  93,  94],\n",
       "        [ 53,  69,  26, 350,  92]],\n",
       "\n",
       "       [[ 84,  51,   2,  47,  11],\n",
       "        [ 39,  86,  71,  89,   7]],\n",
       "\n",
       "       [[ 82,  67,   4,  60,  52],\n",
       "        [ 12,  14,  99,  28,  36]]])"
      ]
     },
     "execution_count": 42,
     "metadata": {},
     "output_type": "execute_result"
    }
   ],
   "source": [
    "narr[1:4,:,2:7]"
   ]
  },
  {
   "cell_type": "code",
   "execution_count": 43,
   "id": "c13b228a-d27d-4c21-a451-d38221002555",
   "metadata": {},
   "outputs": [
    {
     "data": {
      "text/plain": [
       "array([[61, 16, 63, 93, 94],\n",
       "       [84, 51,  2, 47, 11],\n",
       "       [82, 67,  4, 60, 52]])"
      ]
     },
     "execution_count": 43,
     "metadata": {},
     "output_type": "execute_result"
    }
   ],
   "source": [
    "narr[1:4,0,2:7] # 0 lgayenge to bss phli row hi aayegi hrr 2d array m se"
   ]
  },
  {
   "cell_type": "code",
   "execution_count": 44,
   "id": "c06a7811-7640-471d-948b-8d8fdbf41d51",
   "metadata": {},
   "outputs": [
    {
     "data": {
      "text/plain": [
       "array([[  1,   2,   3,   4,   5,   6,   7,   8,   9,  10],\n",
       "       [ 11,  12,  13,  14,  15,  16,  17,  18,  19,  20],\n",
       "       [ 21,  22,  23,  24,  25,  26,  27,  28,  29,  30],\n",
       "       [ 31,  32,  33,  34,  35,  36,  37,  38,  39,  40],\n",
       "       [ 41,  42,  43,  44,  45,  46,  47,  48,  49,  50],\n",
       "       [ 51,  52,  53,  54,  55,  56,  57,  58,  59,  60],\n",
       "       [ 61,  62,  63,  64,  65,  66,  67,  68,  69,  70],\n",
       "       [ 71,  72,  73,  74,  75,  76,  77,  78,  79,  80],\n",
       "       [ 81,  82,  83,  84,  85,  86,  87,  88,  89,  90],\n",
       "       [ 91,  92,  93,  94,  95,  96,  97,  98,  99, 100]])"
      ]
     },
     "execution_count": 44,
     "metadata": {},
     "output_type": "execute_result"
    }
   ],
   "source": [
    "narr = np.arange(1,101).reshape((10,10))\n",
    "narr"
   ]
  },
  {
   "cell_type": "code",
   "execution_count": 45,
   "id": "9cbfa8c0-c027-4a0f-bb37-e1c9fd65b44f",
   "metadata": {},
   "outputs": [
    {
     "data": {
      "text/plain": [
       "array([[35, 36, 37, 38],\n",
       "       [45, 46, 47, 48],\n",
       "       [55, 56, 57, 58],\n",
       "       [65, 66, 67, 68]])"
      ]
     },
     "execution_count": 45,
     "metadata": {},
     "output_type": "execute_result"
    }
   ],
   "source": [
    "narr[3:7,4:8]"
   ]
  },
  {
   "cell_type": "code",
   "execution_count": 46,
   "id": "a24ad945-d933-4066-bd7b-282b4e163b2b",
   "metadata": {},
   "outputs": [
    {
     "data": {
      "text/plain": [
       "array([[  1,   2,   3,   4,   5,   6,   7,   8,   9,  10],\n",
       "       [ 11,  12,  13,  14,  15,  16,  17,  18,  19,  20],\n",
       "       [ 21,  22,  23,  24,  25,  26,  27,  28,  29,  30],\n",
       "       [ 31,  32,  33,  34,   1,   0,   0,   0,  39,  40],\n",
       "       [ 41,  42,  43,  44,   0,   1,   0,   0,  49,  50],\n",
       "       [ 51,  52,  53,  54,   0,   0,   1,   0,  59,  60],\n",
       "       [ 61,  62,  63,  64,   0,   0,   0,   1,  69,  70],\n",
       "       [ 71,  72,  73,  74,  75,  76,  77,  78,  79,  80],\n",
       "       [ 81,  82,  83,  84,  85,  86,  87,  88,  89,  90],\n",
       "       [ 91,  92,  93,  94,  95,  96,  97,  98,  99, 100]])"
      ]
     },
     "execution_count": 46,
     "metadata": {},
     "output_type": "execute_result"
    }
   ],
   "source": [
    "narr[3:7,4:8] = np.eye(4)\n",
    "narr"
   ]
  },
  {
   "cell_type": "code",
   "execution_count": 47,
   "id": "9e2a2613-27f0-49c5-a0da-eac821ed39ca",
   "metadata": {},
   "outputs": [],
   "source": [
    "n1 = np.array([1,2,3,4,5])\n",
    "n2 = np.array([10,20,30,40,50])"
   ]
  },
  {
   "cell_type": "code",
   "execution_count": 48,
   "id": "e4016649-def9-41ff-9a5d-74a017bbbf5c",
   "metadata": {},
   "outputs": [
    {
     "data": {
      "text/plain": [
       "array([11, 12, 13, 14, 15])"
      ]
     },
     "execution_count": 48,
     "metadata": {},
     "output_type": "execute_result"
    }
   ],
   "source": [
    "n1+10"
   ]
  },
  {
   "cell_type": "code",
   "execution_count": 49,
   "id": "1b1da5ca-e3e5-439d-8340-3f18a4c30670",
   "metadata": {},
   "outputs": [
    {
     "data": {
      "text/plain": [
       "array([11, 22, 33, 44, 55])"
      ]
     },
     "execution_count": 49,
     "metadata": {},
     "output_type": "execute_result"
    }
   ],
   "source": [
    "n1+n2"
   ]
  },
  {
   "cell_type": "code",
   "execution_count": 50,
   "id": "e3880fd4-fb0a-4e4a-830b-9868d1ecbcd4",
   "metadata": {},
   "outputs": [
    {
     "data": {
      "text/plain": [
       "array([ 1,  2,  3,  4,  5,  6,  7,  8,  9, 10, 11, 12, 13, 14, 15, 16, 17,\n",
       "       18, 19, 20])"
      ]
     },
     "execution_count": 50,
     "metadata": {},
     "output_type": "execute_result"
    }
   ],
   "source": [
    "\n",
    "n1 = np.arange(1,21)\n",
    "n1"
   ]
  },
  {
   "cell_type": "code",
   "execution_count": 51,
   "id": "48f3ca15-4983-4e45-9d20-7fd52a990188",
   "metadata": {},
   "outputs": [
    {
     "data": {
      "text/plain": [
       "array([ 2,  5, 11])"
      ]
     },
     "execution_count": 51,
     "metadata": {},
     "output_type": "execute_result"
    }
   ],
   "source": [
    "# fancy indexing - give the index which u want to print\n",
    "\n",
    "n1[[1,4,10]]"
   ]
  },
  {
   "cell_type": "code",
   "execution_count": 52,
   "id": "48d47ab6-221c-4cca-bcc1-45cede631ef8",
   "metadata": {},
   "outputs": [
    {
     "data": {
      "text/plain": [
       "array([ 1,  9, 20, 18,  3, 16,  7, 12, 13, 15,  5, 14,  6, 19,  8,  4,  2,\n",
       "       17, 11, 10])"
      ]
     },
     "execution_count": 52,
     "metadata": {},
     "output_type": "execute_result"
    }
   ],
   "source": [
    "np.random.shuffle(n1)\n",
    "n1"
   ]
  },
  {
   "cell_type": "code",
   "execution_count": 53,
   "id": "62087f95-9ecb-486e-9a30-de5e41ab2357",
   "metadata": {},
   "outputs": [
    {
     "data": {
      "text/plain": [
       "array([9, 3, 5])"
      ]
     },
     "execution_count": 53,
     "metadata": {},
     "output_type": "execute_result"
    }
   ],
   "source": [
    "n1[[1,4,10]]"
   ]
  },
  {
   "cell_type": "code",
   "execution_count": 54,
   "id": "2aaeaa2c-ced3-4378-9bc7-584ec0b6cd24",
   "metadata": {},
   "outputs": [
    {
     "data": {
      "text/plain": [
       "array([False, False,  True,  True, False,  True, False,  True,  True,\n",
       "        True, False,  True, False,  True, False, False, False,  True,\n",
       "        True, False])"
      ]
     },
     "execution_count": 54,
     "metadata": {},
     "output_type": "execute_result"
    }
   ],
   "source": [
    "# filtering\n",
    "n1 > 10"
   ]
  },
  {
   "cell_type": "code",
   "execution_count": 55,
   "id": "1835c448-eca5-4425-8ef6-7313c3a4d42a",
   "metadata": {},
   "outputs": [
    {
     "data": {
      "text/plain": [
       "array([20, 18, 16, 12, 13, 15, 14, 19, 17, 11])"
      ]
     },
     "execution_count": 55,
     "metadata": {},
     "output_type": "execute_result"
    }
   ],
   "source": [
    "n1[n1 > 10]"
   ]
  },
  {
   "cell_type": "code",
   "execution_count": 56,
   "id": "274fb767-dfb5-4853-ac51-8f42d90c5a41",
   "metadata": {},
   "outputs": [
    {
     "data": {
      "text/plain": [
       "array([  1,   2,   3,   4,   5,   6,   7,   8,   9,  10,  11,  12,  13,\n",
       "        14,  15,  16,  17,  18,  19,  20,  21,  22,  23,  24,  25,  26,\n",
       "        27,  28,  29,  30,  31,  32,  33,  34,  35,  36,  37,  38,  39,\n",
       "        40,  41,  42,  43,  44,  45,  46,  47,  48,  49,  50,  51,  52,\n",
       "        53,  54,  55,  56,  57,  58,  59,  60,  61,  62,  63,  64,  65,\n",
       "        66,  67,  68,  69,  70,  71,  72,  73,  74,  75,  76,  77,  78,\n",
       "        79,  80,  81,  82,  83,  84,  85,  86,  87,  88,  89,  90,  91,\n",
       "        92,  93,  94,  95,  96,  97,  98,  99, 100])"
      ]
     },
     "execution_count": 56,
     "metadata": {},
     "output_type": "execute_result"
    }
   ],
   "source": [
    "narr = np.arange(1,101)\n",
    "narr"
   ]
  },
  {
   "cell_type": "code",
   "execution_count": 57,
   "id": "17b43232-bb3f-4ec5-8b33-8482081c3599",
   "metadata": {},
   "outputs": [
    {
     "data": {
      "text/plain": [
       "array([[  1,   2,   3,   4,   5,   6,   7,   8,   9,  10],\n",
       "       [ 11,  12,  13,  14,  15,  16,  17,  18,  19,  20],\n",
       "       [ 21,  22,  23,  24,  25,  26,  27,  28,  29,  30],\n",
       "       [ 31,  32,  33,  34,  35,  36,  37,  38,  39,  40],\n",
       "       [ 41,  42,  43,  44,  45,  46,  47,  48,  49,  50],\n",
       "       [ 51,  52,  53,  54,  55,  56,  57,  58,  59,  60],\n",
       "       [ 61,  62,  63,  64,  65,  66,  67,  68,  69,  70],\n",
       "       [ 71,  72,  73,  74,  75,  76,  77,  78,  79,  80],\n",
       "       [ 81,  82,  83,  84,  85,  86,  87,  88,  89,  90],\n",
       "       [ 91,  92,  93,  94,  95,  96,  97,  98,  99, 100]])"
      ]
     },
     "execution_count": 57,
     "metadata": {},
     "output_type": "execute_result"
    }
   ],
   "source": [
    "narr = narr.reshape(10,10)\n",
    "narr"
   ]
  },
  {
   "cell_type": "code",
   "execution_count": 58,
   "id": "16613cba-63e3-4325-a1e1-365d2aa7ba6d",
   "metadata": {},
   "outputs": [
    {
     "data": {
      "text/plain": [
       "array([ 9,  3, 12])"
      ]
     },
     "execution_count": 58,
     "metadata": {},
     "output_type": "execute_result"
    }
   ],
   "source": [
    "n1[[1,4,7]]"
   ]
  },
  {
   "cell_type": "code",
   "execution_count": 59,
   "id": "7f78842e-2322-4f09-b398-3863970ca760",
   "metadata": {},
   "outputs": [
    {
     "data": {
      "text/plain": [
       "array([11, 44, 77])"
      ]
     },
     "execution_count": 59,
     "metadata": {},
     "output_type": "execute_result"
    }
   ],
   "source": [
    "narr[[1,4,7],[0,3,6]]"
   ]
  },
  {
   "cell_type": "code",
   "execution_count": 60,
   "id": "3f8046ea-423f-4324-b9bb-f50111361b3f",
   "metadata": {},
   "outputs": [
    {
     "data": {
      "text/plain": [
       "array([[  1,   2,   3,   4,   5,   6,   7,   8,   9,  10],\n",
       "       [ 11,  12,  13,  14,  15,  16,  17,  18,  19,  20],\n",
       "       [ 41,  42,  43,  44,  45,  46,  47,  48,  49,  50],\n",
       "       [ 51,  52,  53,  54,  55,  56,  57,  58,  59,  60],\n",
       "       [ 61,  62,  63,  64,  65,  66,  67,  68,  69,  70],\n",
       "       [ 91,  92,  93,  94,  95,  96,  97,  98,  99, 100]])"
      ]
     },
     "execution_count": 60,
     "metadata": {},
     "output_type": "execute_result"
    }
   ],
   "source": [
    "# also there is a way in fancy indexing- \n",
    "# we can put false on those row no.s which we dont want to call and put true on those row no.s which we want to call\n",
    "narr[[True,True,False,False,True,True,True,False,False,True]]\n"
   ]
  },
  {
   "cell_type": "code",
   "execution_count": 61,
   "id": "75af2c7d-a0f9-442d-8127-f337d7f2a1a4",
   "metadata": {},
   "outputs": [
    {
     "data": {
      "text/plain": [
       "array([[False, False, False, False, False, False, False, False, False,\n",
       "        False],\n",
       "       [False, False, False, False, False, False, False, False, False,\n",
       "        False],\n",
       "       [False, False, False, False, False, False, False, False, False,\n",
       "        False],\n",
       "       [False, False, False, False, False, False, False, False, False,\n",
       "        False],\n",
       "       [False, False, False, False, False, False, False, False, False,\n",
       "        False],\n",
       "       [ True,  True,  True,  True,  True,  True,  True,  True,  True,\n",
       "         True],\n",
       "       [ True,  True,  True,  True,  True,  True,  True,  True,  True,\n",
       "         True],\n",
       "       [ True,  True,  True,  True,  True,  True,  True,  True,  True,\n",
       "         True],\n",
       "       [ True,  True,  True,  True,  True,  True,  True,  True,  True,\n",
       "         True],\n",
       "       [ True,  True,  True,  True,  True,  True,  True,  True,  True,\n",
       "         True]])"
      ]
     },
     "execution_count": 61,
     "metadata": {},
     "output_type": "execute_result"
    }
   ],
   "source": [
    "narr > 50\n"
   ]
  },
  {
   "cell_type": "code",
   "execution_count": 62,
   "id": "4e25a981-f4ba-441f-950c-c48c361835d9",
   "metadata": {},
   "outputs": [
    {
     "data": {
      "text/plain": [
       "array([ 51,  52,  53,  54,  55,  56,  57,  58,  59,  60,  61,  62,  63,\n",
       "        64,  65,  66,  67,  68,  69,  70,  71,  72,  73,  74,  75,  76,\n",
       "        77,  78,  79,  80,  81,  82,  83,  84,  85,  86,  87,  88,  89,\n",
       "        90,  91,  92,  93,  94,  95,  96,  97,  98,  99, 100])"
      ]
     },
     "execution_count": 62,
     "metadata": {},
     "output_type": "execute_result"
    }
   ],
   "source": [
    "narr[narr > 50]"
   ]
  },
  {
   "cell_type": "code",
   "execution_count": 63,
   "id": "c6754a47-9360-40cd-8353-3fe71114066b",
   "metadata": {},
   "outputs": [
    {
     "data": {
      "text/plain": [
       "array([ 1,  9, 20, 18,  3, 16,  7, 12, 13, 15,  5, 14,  6, 19,  8,  4,  2,\n",
       "       17, 11, 10])"
      ]
     },
     "execution_count": 63,
     "metadata": {},
     "output_type": "execute_result"
    }
   ],
   "source": [
    "n1"
   ]
  },
  {
   "cell_type": "code",
   "execution_count": 64,
   "id": "2ec45159-7552-418d-8e67-b74dc6b3d64b",
   "metadata": {},
   "outputs": [],
   "source": [
    "n2 = np.array([[[1,2],[3,4],[5,6]],[[10,20],[30,40],[50,60]]])"
   ]
  },
  {
   "cell_type": "code",
   "execution_count": 65,
   "id": "72b484ac-cf87-4687-b34a-ff352bd1537f",
   "metadata": {},
   "outputs": [
    {
     "data": {
      "text/plain": [
       "array([[[ 1,  2],\n",
       "        [ 3,  4],\n",
       "        [ 5,  6]],\n",
       "\n",
       "       [[10, 20],\n",
       "        [30, 40],\n",
       "        [50, 60]]])"
      ]
     },
     "execution_count": 65,
     "metadata": {},
     "output_type": "execute_result"
    }
   ],
   "source": [
    "n2"
   ]
  },
  {
   "cell_type": "code",
   "execution_count": 66,
   "id": "40ef379a-3954-481a-88f2-33d758cb9485",
   "metadata": {},
   "outputs": [
    {
     "data": {
      "text/plain": [
       "np.int64(231)"
      ]
     },
     "execution_count": 66,
     "metadata": {},
     "output_type": "execute_result"
    }
   ],
   "source": [
    "np.sum(n2)"
   ]
  },
  {
   "cell_type": "code",
   "execution_count": 67,
   "id": "034c8127-afeb-46de-b82f-a7d64fb6cd32",
   "metadata": {},
   "outputs": [
    {
     "data": {
      "text/plain": [
       "(2, 3, 2)"
      ]
     },
     "execution_count": 67,
     "metadata": {},
     "output_type": "execute_result"
    }
   ],
   "source": [
    "#axis - axis can be defined as the index of the dimenssions of the shape\n",
    "\n",
    "n2.shape\n"
   ]
  },
  {
   "cell_type": "code",
   "execution_count": 68,
   "id": "3fa34e27-4fe9-4702-b929-bfa9cde3fd4f",
   "metadata": {},
   "outputs": [
    {
     "data": {
      "text/plain": [
       "array([[11, 22],\n",
       "       [33, 44],\n",
       "       [55, 66]])"
      ]
     },
     "execution_count": 68,
     "metadata": {},
     "output_type": "execute_result"
    }
   ],
   "source": [
    "#axis - axis can be defined as the index of the dimenssions of the shape\n",
    "# her we give value 0 it means it corresponds to 3d array and give sum of both 2d array present in 3d rray\n",
    "\n",
    "n2.sum(axis = 0)"
   ]
  },
  {
   "cell_type": "code",
   "execution_count": 69,
   "id": "eb790715-51f6-42aa-9653-aeffa69bf4b9",
   "metadata": {},
   "outputs": [
    {
     "data": {
      "text/plain": [
       "array([[  9,  12],\n",
       "       [ 90, 120]])"
      ]
     },
     "execution_count": 69,
     "metadata": {},
     "output_type": "execute_result"
    }
   ],
   "source": [
    "n2.sum(axis = 1)"
   ]
  },
  {
   "cell_type": "code",
   "execution_count": 70,
   "id": "6114d4b9-68c1-43ea-981b-251266c21988",
   "metadata": {},
   "outputs": [
    {
     "data": {
      "text/plain": [
       "array([[  3,   7,  11],\n",
       "       [ 30,  70, 110]])"
      ]
     },
     "execution_count": 70,
     "metadata": {},
     "output_type": "execute_result"
    }
   ],
   "source": [
    "n2.sum(axis = 2)"
   ]
  },
  {
   "cell_type": "code",
   "execution_count": 71,
   "id": "4e015c8d-6d92-421c-8eb7-3ee60e9e4fd5",
   "metadata": {},
   "outputs": [
    {
     "data": {
      "text/plain": [
       "array([[ 5,  6],\n",
       "       [50, 60]])"
      ]
     },
     "execution_count": 71,
     "metadata": {},
     "output_type": "execute_result"
    }
   ],
   "source": [
    "n2.max(axis = 1)"
   ]
  },
  {
   "cell_type": "code",
   "execution_count": 72,
   "id": "495c1ad8-7b43-4bf3-bcf9-ef0d44b6a9aa",
   "metadata": {},
   "outputs": [
    {
     "data": {
      "text/plain": [
       "array([[10, 20],\n",
       "       [30, 40],\n",
       "       [50, 60]])"
      ]
     },
     "execution_count": 72,
     "metadata": {},
     "output_type": "execute_result"
    }
   ],
   "source": [
    "n2.max(axis = 0)"
   ]
  },
  {
   "cell_type": "code",
   "execution_count": null,
   "id": "c6f55cef-31e5-4b25-b838-0b9bc8705b2f",
   "metadata": {},
   "outputs": [],
   "source": [
    "\n",
    "\n"
   ]
  },
  {
   "cell_type": "code",
   "execution_count": null,
   "id": "ce289404-8f62-4bf2-89de-f4af448c2ffd",
   "metadata": {},
   "outputs": [],
   "source": []
  },
  {
   "cell_type": "code",
   "execution_count": null,
   "id": "54260471-6247-4e24-ad95-1ca0df0066d2",
   "metadata": {},
   "outputs": [],
   "source": []
  },
  {
   "cell_type": "code",
   "execution_count": null,
   "id": "fefe5376-3a76-4f56-a126-05ca05ca6e34",
   "metadata": {},
   "outputs": [],
   "source": []
  },
  {
   "cell_type": "code",
   "execution_count": 73,
   "id": "d3b4e449-e3cf-4627-b7f0-b6524983310a",
   "metadata": {},
   "outputs": [
    {
     "data": {
      "text/plain": [
       "array([[1, 2],\n",
       "       [3, 4],\n",
       "       [5, 6]])"
      ]
     },
     "execution_count": 73,
     "metadata": {},
     "output_type": "execute_result"
    }
   ],
   "source": [
    "n3 = np.array([[1,2],[3,4],[5,6]])\n",
    "n3"
   ]
  },
  {
   "cell_type": "code",
   "execution_count": 74,
   "id": "acaf1fbe-2fb7-431d-b440-8667f27f0689",
   "metadata": {},
   "outputs": [
    {
     "name": "stdout",
     "output_type": "stream",
     "text": [
      "1\n",
      "2\n",
      "3\n",
      "4\n",
      "5\n",
      "6\n"
     ]
    }
   ],
   "source": [
    "for i in np.nditer(n3):\n",
    "    print(i)"
   ]
  },
  {
   "cell_type": "code",
   "execution_count": 75,
   "id": "f0082407-b614-4a26-98d4-c64354238e76",
   "metadata": {},
   "outputs": [
    {
     "name": "stdout",
     "output_type": "stream",
     "text": [
      "((0, 0), np.int64(1))\n",
      "((0, 1), np.int64(2))\n",
      "((1, 0), np.int64(3))\n",
      "((1, 1), np.int64(4))\n",
      "((2, 0), np.int64(5))\n",
      "((2, 1), np.int64(6))\n"
     ]
    }
   ],
   "source": [
    "for i in np.ndenumerate(n3):\n",
    "    print(i)"
   ]
  },
  {
   "cell_type": "code",
   "execution_count": 76,
   "id": "efbf1f0c-1479-4309-9ab0-708ca5ef3c89",
   "metadata": {},
   "outputs": [],
   "source": [
    "n1 = np.array([1,2,3])\n",
    "n2 = np.array([10,20,30])"
   ]
  },
  {
   "cell_type": "code",
   "execution_count": 77,
   "id": "11a2fb35-84f2-4e61-a804-85aadb5347c3",
   "metadata": {},
   "outputs": [
    {
     "data": {
      "text/plain": [
       "array([[ 1,  2,  3],\n",
       "       [10, 20, 30]])"
      ]
     },
     "execution_count": 77,
     "metadata": {},
     "output_type": "execute_result"
    }
   ],
   "source": [
    "np.vstack((n1,n2))\n"
   ]
  },
  {
   "cell_type": "code",
   "execution_count": 78,
   "id": "2f6ef4a2-2eba-4876-89d5-3c7c30e94403",
   "metadata": {},
   "outputs": [
    {
     "data": {
      "text/plain": [
       "array([ 1,  2,  3, 10, 20, 30])"
      ]
     },
     "execution_count": 78,
     "metadata": {},
     "output_type": "execute_result"
    }
   ],
   "source": [
    "np.hstack((n1,n2))"
   ]
  },
  {
   "cell_type": "code",
   "execution_count": 79,
   "id": "7164563d-5304-4b33-a408-1282c88609ff",
   "metadata": {},
   "outputs": [
    {
     "data": {
      "text/plain": [
       "array([ 1,  2,  3, 10, 20, 30])"
      ]
     },
     "execution_count": 79,
     "metadata": {},
     "output_type": "execute_result"
    }
   ],
   "source": [
    "np.concatenate((n1,n2))"
   ]
  },
  {
   "cell_type": "code",
   "execution_count": 80,
   "id": "e0f902a2-684c-4c40-84a7-7ca4c7bea7c5",
   "metadata": {},
   "outputs": [
    {
     "data": {
      "text/plain": [
       "array([[ 1,  2,  3],\n",
       "       [10, 20, 30]])"
      ]
     },
     "execution_count": 80,
     "metadata": {},
     "output_type": "execute_result"
    }
   ],
   "source": [
    "np.stack((n1,n2),axis = 0) # puri ki ki puri row add hoyengi ek dusre se"
   ]
  },
  {
   "cell_type": "code",
   "execution_count": 81,
   "id": "2b945bc2-f919-4b7c-a740-482a0c8528f6",
   "metadata": {},
   "outputs": [
    {
     "data": {
      "text/plain": [
       "array([[ 1, 10],\n",
       "       [ 2, 20],\n",
       "       [ 3, 30]])"
      ]
     },
     "execution_count": 81,
     "metadata": {},
     "output_type": "execute_result"
    }
   ],
   "source": [
    "np.stack((n1,n2),axis = 1) # puri row ka hrr ek element combine krke alag alag nyi row bnayega apne according\n"
   ]
  },
  {
   "cell_type": "code",
   "execution_count": 82,
   "id": "be42628b-e439-41c7-8b0a-7480e1e46b7a",
   "metadata": {},
   "outputs": [
    {
     "data": {
      "text/plain": [
       "[array([[ 1,  2,  3,  4,  5],\n",
       "        [11, 12, 13, 14, 15],\n",
       "        [21, 22, 23, 24, 25],\n",
       "        [31, 32, 33, 34, 35],\n",
       "        [41, 42, 43, 44, 45],\n",
       "        [51, 52, 53, 54, 55],\n",
       "        [61, 62, 63, 64, 65],\n",
       "        [71, 72, 73, 74, 75],\n",
       "        [81, 82, 83, 84, 85],\n",
       "        [91, 92, 93, 94, 95]]),\n",
       " array([[  6,   7,   8,   9,  10],\n",
       "        [ 16,  17,  18,  19,  20],\n",
       "        [ 26,  27,  28,  29,  30],\n",
       "        [ 36,  37,  38,  39,  40],\n",
       "        [ 46,  47,  48,  49,  50],\n",
       "        [ 56,  57,  58,  59,  60],\n",
       "        [ 66,  67,  68,  69,  70],\n",
       "        [ 76,  77,  78,  79,  80],\n",
       "        [ 86,  87,  88,  89,  90],\n",
       "        [ 96,  97,  98,  99, 100]])]"
      ]
     },
     "execution_count": 82,
     "metadata": {},
     "output_type": "execute_result"
    }
   ],
   "source": [
    "#split it is used just opposite to stack \n",
    "# u just have to give the array name and then indexing .... in how many parts u want to divide the array\n",
    "np.hsplit(narr,2)\n"
   ]
  },
  {
   "cell_type": "code",
   "execution_count": 83,
   "id": "3e682afb-ad1e-413f-80e8-a6b53911c2db",
   "metadata": {},
   "outputs": [
    {
     "data": {
      "text/plain": [
       "array([[ 1,  2,  3],\n",
       "       [ 4,  5,  6],\n",
       "       [ 7,  8,  9],\n",
       "       [10, 11, 12]])"
      ]
     },
     "execution_count": 83,
     "metadata": {},
     "output_type": "execute_result"
    }
   ],
   "source": [
    "#broadcasting - if there is 1d array and any other array then we can perform calculations on them with help of broadcasting\n",
    "#.               but uski condition ye h ki dusri array or 1d array k no. of columns same hone chahiye \n",
    "n1 = np.arange(1,13).reshape(4,3)\n",
    "n1"
   ]
  },
  {
   "cell_type": "code",
   "execution_count": 84,
   "id": "915fd265-6242-4cc9-b4d0-b777889b8525",
   "metadata": {},
   "outputs": [
    {
     "data": {
      "text/plain": [
       "array([[11, 22, 33],\n",
       "       [14, 25, 36],\n",
       "       [17, 28, 39],\n",
       "       [20, 31, 42]])"
      ]
     },
     "execution_count": 84,
     "metadata": {},
     "output_type": "execute_result"
    }
   ],
   "source": [
    "n1 = n1 + np.array([10,20,30]) # yha ek 1d row array m puri n1 matrix add hogyi\n",
    "n1"
   ]
  },
  {
   "cell_type": "code",
   "execution_count": 85,
   "id": "1bca4ec8-b436-4606-904d-29a1e4a73c82",
   "metadata": {},
   "outputs": [
    {
     "data": {
      "text/plain": [
       "array([[21, 32, 43],\n",
       "       [34, 45, 56],\n",
       "       [47, 58, 69],\n",
       "       [60, 71, 82]])"
      ]
     },
     "execution_count": 85,
     "metadata": {},
     "output_type": "execute_result"
    }
   ],
   "source": [
    "n1 = n1 + np.array([[10],[20],[30],[40]]) # yha ek 1d col. array n1 m add hogyi\n",
    "n1"
   ]
  },
  {
   "cell_type": "code",
   "execution_count": 86,
   "id": "ed9816f3-d742-4fcb-a239-2f053c154e50",
   "metadata": {},
   "outputs": [
    {
     "data": {
      "text/plain": [
       "array([[11, 12, 13, 14],\n",
       "       [21, 22, 23, 24],\n",
       "       [31, 32, 33, 34]])"
      ]
     },
     "execution_count": 86,
     "metadata": {},
     "output_type": "execute_result"
    }
   ],
   "source": [
    "# agr ek col matrix hogi or ek row matrix hogi to vo dono hi apne apne dimenssions k according broadcasting krengi\n",
    "np.array([1,2,3,4]) + np.array([[10],[20],[30]])\n",
    "# just like iss example m hmare pss ek 3*4 matrix bngyi by broadcasting"
   ]
  },
  {
   "cell_type": "code",
   "execution_count": null,
   "id": "b2669546-3c58-423e-b3ba-d3d8e4cf4a79",
   "metadata": {},
   "outputs": [],
   "source": []
  },
  {
   "cell_type": "code",
   "execution_count": 87,
   "id": "14f8196e-ebf0-4d3d-b690-f6577c83ed7b",
   "metadata": {},
   "outputs": [],
   "source": [
    "# input data from a text file\n",
    "ne = np.loadtxt('population.txt')"
   ]
  },
  {
   "cell_type": "code",
   "execution_count": 88,
   "id": "feda61b8-e543-4e03-837c-24bf256ccd3c",
   "metadata": {},
   "outputs": [
    {
     "data": {
      "text/plain": [
       "(array([77400., 59400., 48300.]), array([1903., 1904., 1900.]))"
      ]
     },
     "execution_count": 88,
     "metadata": {},
     "output_type": "execute_result"
    }
   ],
   "source": [
    "np.max(ne, axis = 0)[1:], ne[np.argmax(ne, axis = 0)][1:,0]"
   ]
  },
  {
   "cell_type": "code",
   "execution_count": 89,
   "id": "b4aa6e9d-aaed-4914-8635-1bfb7b6c4733",
   "metadata": {},
   "outputs": [
    {
     "data": {
      "text/plain": [
       "array([[ 38,  44,  50,  56],\n",
       "       [ 83,  98, 113, 128]])"
      ]
     },
     "execution_count": 89,
     "metadata": {},
     "output_type": "execute_result"
    }
   ],
   "source": [
    "# matrix multiplication - .dot and @ are used for matrix multiplication\n",
    "m1 = np.arange(1,13).reshape(3,4)\n",
    "m2 = np.arange(1,7).reshape(2,3)\n",
    "m2.dot(m1)"
   ]
  },
  {
   "cell_type": "code",
   "execution_count": 90,
   "id": "b5ca02b2-ef5d-4fd9-8d77-1858df56aa04",
   "metadata": {},
   "outputs": [
    {
     "data": {
      "text/plain": [
       "array([[ 38,  44,  50,  56],\n",
       "       [ 83,  98, 113, 128]])"
      ]
     },
     "execution_count": 90,
     "metadata": {},
     "output_type": "execute_result"
    }
   ],
   "source": [
    "m2@m1"
   ]
  },
  {
   "cell_type": "code",
   "execution_count": null,
   "id": "49595eac-0e8d-4211-862b-6d2be063a981",
   "metadata": {},
   "outputs": [],
   "source": []
  },
  {
   "cell_type": "code",
   "execution_count": null,
   "id": "3c5fabfb-ff1e-406f-8ab8-457b84b9ecc8",
   "metadata": {},
   "outputs": [],
   "source": []
  },
  {
   "cell_type": "code",
   "execution_count": null,
   "id": "0c8a471c-4a8a-48fa-8f9f-ab1c99403fc7",
   "metadata": {},
   "outputs": [],
   "source": []
  },
  {
   "cell_type": "code",
   "execution_count": null,
   "id": "5fac08c9-a97a-4efe-ab1d-811610e29ad7",
   "metadata": {},
   "outputs": [],
   "source": []
  },
  {
   "cell_type": "code",
   "execution_count": null,
   "id": "4a840890-d0e8-4a5d-a15c-2f6278f35457",
   "metadata": {},
   "outputs": [],
   "source": []
  },
  {
   "cell_type": "code",
   "execution_count": null,
   "id": "9f0ebfed-ca8a-4a50-94b0-37ea78a29f34",
   "metadata": {},
   "outputs": [],
   "source": []
  },
  {
   "cell_type": "code",
   "execution_count": null,
   "id": "a8977b74-d691-467a-ab9f-4d16848d820c",
   "metadata": {},
   "outputs": [],
   "source": []
  },
  {
   "cell_type": "code",
   "execution_count": null,
   "id": "03600b09-d2ea-48d8-bdba-09355def0ffb",
   "metadata": {},
   "outputs": [],
   "source": []
  }
 ],
 "metadata": {
  "kernelspec": {
   "display_name": "Python 3 (ipykernel)",
   "language": "python",
   "name": "python3"
  },
  "language_info": {
   "codemirror_mode": {
    "name": "ipython",
    "version": 3
   },
   "file_extension": ".py",
   "mimetype": "text/x-python",
   "name": "python",
   "nbconvert_exporter": "python",
   "pygments_lexer": "ipython3",
   "version": "3.13.3"
  }
 },
 "nbformat": 4,
 "nbformat_minor": 5
}
