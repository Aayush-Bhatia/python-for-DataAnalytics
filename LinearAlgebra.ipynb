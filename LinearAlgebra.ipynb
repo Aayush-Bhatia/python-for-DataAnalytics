{
 "cells": [
  {
   "cell_type": "code",
   "execution_count": 1,
   "id": "dd26ab99-d394-4510-ad9e-8e3c27c3ddc8",
   "metadata": {},
   "outputs": [],
   "source": [
    "import numpy as np"
   ]
  },
  {
   "cell_type": "code",
   "execution_count": 9,
   "id": "0a56223b-7020-4f50-aebe-c0a06e26b2cc",
   "metadata": {},
   "outputs": [],
   "source": [
    "m1 = np.array([[1,2,3],[4,5,6],[7,8,9]])\n",
    "m2 = np.array([[2,3,4],[4,5,6],[7,8,9]])\n",
    "m3 = np.array([[10,20,30],[40,50,60,],[70,80,90]])"
   ]
  },
  {
   "cell_type": "code",
   "execution_count": 3,
   "id": "2eb2bddb-5790-4b1e-95e4-1f420c502fbd",
   "metadata": {},
   "outputs": [
    {
     "data": {
      "text/plain": [
       "array([[1, 2, 3],\n",
       "       [4, 5, 6],\n",
       "       [7, 8, 9]])"
      ]
     },
     "execution_count": 3,
     "metadata": {},
     "output_type": "execute_result"
    }
   ],
   "source": [
    "m1"
   ]
  },
  {
   "cell_type": "code",
   "execution_count": 4,
   "id": "1a288cf4-b935-4ed6-b2b5-2ff536430bf4",
   "metadata": {},
   "outputs": [
    {
     "data": {
      "text/plain": [
       "array([[2, 3, 4],\n",
       "       [4, 5, 6],\n",
       "       [7, 8, 9]])"
      ]
     },
     "execution_count": 4,
     "metadata": {},
     "output_type": "execute_result"
    }
   ],
   "source": [
    "m2"
   ]
  },
  {
   "cell_type": "code",
   "execution_count": 5,
   "id": "39446bfc-b7b0-4c71-8417-d3a921733252",
   "metadata": {},
   "outputs": [
    {
     "data": {
      "text/plain": [
       "array([[1, 4, 7],\n",
       "       [2, 5, 8],\n",
       "       [3, 6, 9]])"
      ]
     },
     "execution_count": 5,
     "metadata": {},
     "output_type": "execute_result"
    }
   ],
   "source": [
    "np.transpose(m1)"
   ]
  },
  {
   "cell_type": "code",
   "execution_count": 6,
   "id": "a41b1053-7a95-45f3-9faf-21cc844b2177",
   "metadata": {},
   "outputs": [
    {
     "data": {
      "text/plain": [
       "array([[2, 4, 7],\n",
       "       [3, 5, 8],\n",
       "       [4, 6, 9]])"
      ]
     },
     "execution_count": 6,
     "metadata": {},
     "output_type": "execute_result"
    }
   ],
   "source": [
    "m2.transpose()"
   ]
  },
  {
   "cell_type": "code",
   "execution_count": 7,
   "id": "d985c006-2ec3-4b9b-91b4-7b62aec79d58",
   "metadata": {},
   "outputs": [
    {
     "data": {
      "text/plain": [
       "np.float64(-9.51619735392994e-16)"
      ]
     },
     "execution_count": 7,
     "metadata": {},
     "output_type": "execute_result"
    }
   ],
   "source": [
    "np.linalg.det(m1)"
   ]
  },
  {
   "cell_type": "code",
   "execution_count": 8,
   "id": "c94e8382-ac4c-4606-b443-552187d6a3c9",
   "metadata": {},
   "outputs": [
    {
     "data": {
      "text/plain": [
       "array([[ 3.15251974e+15, -6.30503948e+15,  3.15251974e+15],\n",
       "       [-6.30503948e+15,  1.26100790e+16, -6.30503948e+15],\n",
       "       [ 3.15251974e+15, -6.30503948e+15,  3.15251974e+15]])"
      ]
     },
     "execution_count": 8,
     "metadata": {},
     "output_type": "execute_result"
    }
   ],
   "source": [
    "np.linalg.inv(m1)"
   ]
  },
  {
   "cell_type": "code",
   "execution_count": null,
   "id": "c25e57f0-73e8-47bb-91a3-fef9bd16a4d1",
   "metadata": {},
   "outputs": [],
   "source": []
  },
  {
   "cell_type": "code",
   "execution_count": null,
   "id": "a9fcff62-0fc8-4197-acfa-20d86682a390",
   "metadata": {},
   "outputs": [],
   "source": []
  },
  {
   "cell_type": "code",
   "execution_count": 10,
   "id": "a081cf7c-9209-46bd-8875-668fba66d17c",
   "metadata": {},
   "outputs": [
    {
     "data": {
      "text/plain": [
       "array([[ 31,  37,  43],\n",
       "       [ 70,  85, 100],\n",
       "       [109, 133, 157]])"
      ]
     },
     "execution_count": 10,
     "metadata": {},
     "output_type": "execute_result"
    }
   ],
   "source": [
    "m1@m2"
   ]
  },
  {
   "cell_type": "code",
   "execution_count": 11,
   "id": "becb2fd4-3f84-4c36-88eb-e22cd5cfcf56",
   "metadata": {},
   "outputs": [
    {
     "data": {
      "text/plain": [
       "array([[ 31,  37,  43],\n",
       "       [ 70,  85, 100],\n",
       "       [109, 133, 157]])"
      ]
     },
     "execution_count": 11,
     "metadata": {},
     "output_type": "execute_result"
    }
   ],
   "source": [
    "m1.dot(m2)"
   ]
  },
  {
   "cell_type": "code",
   "execution_count": 12,
   "id": "fbc9ba19-5ff7-4d4d-bf28-5918fd710edf",
   "metadata": {},
   "outputs": [
    {
     "data": {
      "text/plain": [
       "array([[ 31,  37,  43],\n",
       "       [ 70,  85, 100],\n",
       "       [109, 133, 157]])"
      ]
     },
     "execution_count": 12,
     "metadata": {},
     "output_type": "execute_result"
    }
   ],
   "source": [
    "np.dot(m1,m2)"
   ]
  },
  {
   "cell_type": "code",
   "execution_count": 13,
   "id": "bd31f99e-27d0-4301-8a7a-8fb8470ab18e",
   "metadata": {},
   "outputs": [
    {
     "data": {
      "text/plain": [
       "EigResult(eigenvalues=array([ 1.68881944e+01, -8.88194417e-01, -7.76991565e-16]), eigenvectors=array([[ 0.31755081,  0.73124567,  0.40824829],\n",
       "       [ 0.51023562,  0.17503803, -0.81649658],\n",
       "       [ 0.79926284, -0.65927343,  0.40824829]]))"
      ]
     },
     "execution_count": 13,
     "metadata": {},
     "output_type": "execute_result"
    }
   ],
   "source": [
    "np.linalg.eig(m2)"
   ]
  },
  {
   "cell_type": "code",
   "execution_count": 18,
   "id": "eac800de-a5fe-48ea-8f28-53e83385e0c2",
   "metadata": {},
   "outputs": [
    {
     "data": {
      "image/png": "[encoded data removed]",
      "text/plain": [
       "<Figure size 640x480 with 1 Axes>"
      ]
     },
     "metadata": {},
     "output_type": "display_data"
    }
   ],
   "source": [
    "import matplotlib.pyplot as plt\n",
    "img = np.zeros(shape = (100,100,3),dtype = 'i2')\n",
    "img[:,:,:] = [255,0,0]\n",
    "plt.imshow(img)\n",
    "plt.axis('off')\n",
    "plt.show()"
   ]
  },
  {
   "cell_type": "code",
   "execution_count": null,
   "id": "778da140-de7f-463b-ad39-ccd0fcb04893",
   "metadata": {},
   "outputs": [],
   "source": []
  }
 ],
 "metadata": {
  "kernelspec": {
   "display_name": "Python 3 (ipykernel)",
   "language": "python",
   "name": "python3"
  },
  "language_info": {
   "codemirror_mode": {
    "name": "ipython",
    "version": 3
   },
   "file_extension": ".py",
   "mimetype": "text/x-python",
   "name": "python",
   "nbconvert_exporter": "python",
   "pygments_lexer": "ipython3",
   "version": "3.13.3"
  }
 },
 "nbformat": 4,
 "nbformat_minor": 5
}
