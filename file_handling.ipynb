{
 "cells": [
  {
   "cell_type": "markdown",
   "id": "46eec9d2-74fe-4c39-b1ec-ed47b44ee090",
   "metadata": {},
   "source": [
    "# file - ML model ho ya data scientist 60% data p kaam krta h\n",
    "- r use for read\n",
    "- w - write\n",
    "- a - append\n",
    "- a+ -  append + read u should use seek to read the data\n",
    "- r+ - read aur write dono kr skte h"
   ]
  },
  {
   "cell_type": "code",
   "execution_count": 13,
   "id": "a05f4917-8b4d-4869-9cde-29c9bcafce34",
   "metadata": {},
   "outputs": [],
   "source": [
    "file = open('test.txt','r')\n",
    "#stream kya hoti h? : continuous data like : live streaming on netflix etc.\n",
    "#file stream = file ka continuous data : stram hoti h vo file or program ko connect krti h\n"
   ]
  },
  {
   "cell_type": "code",
   "execution_count": 14,
   "id": "a41d6709-7150-4770-bdd3-c35a30221cfd",
   "metadata": {},
   "outputs": [
    {
     "name": "stdout",
     "output_type": "stream",
     "text": [
      "<_io.TextIOWrapper name='test.txt' mode='r' encoding='UTF-8'>\n"
     ]
    }
   ],
   "source": [
    "print(file)"
   ]
  },
  {
   "cell_type": "code",
   "execution_count": 15,
   "id": "81fd0675-db1f-4a37-b6d2-ab067a62adeb",
   "metadata": {},
   "outputs": [
    {
     "name": "stdout",
     "output_type": "stream",
     "text": [
      "<class '_io.TextIOWrapper'>\n"
     ]
    }
   ],
   "source": [
    "print(type(file))"
   ]
  },
  {
   "cell_type": "code",
   "execution_count": 20,
   "id": "e8c24fa8-ff28-4f8d-81b0-e4e2165a595c",
   "metadata": {},
   "outputs": [
    {
     "data": {
      "text/plain": [
       "'ush\\nAryans\\nhum coding blocks m baithkr padh rhe hai'"
      ]
     },
     "execution_count": 20,
     "metadata": {},
     "output_type": "execute_result"
    }
   ],
   "source": [
    "file.seek(10)\n",
    "file.read()"
   ]
  },
  {
   "cell_type": "code",
   "execution_count": 21,
   "id": "8638ccdb-07de-43a2-88a0-0b0392700531",
   "metadata": {},
   "outputs": [
    {
     "data": {
      "text/plain": [
       "['Akshit\\n',\n",
       " 'Aayush\\n',\n",
       " 'Aryans\\n',\n",
       " 'hum coding blocks m baithkr padh rhe hai']"
      ]
     },
     "execution_count": 21,
     "metadata": {},
     "output_type": "execute_result"
    }
   ],
   "source": [
    "file.seek(0)\n",
    "file.readlines()"
   ]
  },
  {
   "cell_type": "code",
   "execution_count": 22,
   "id": "ceb01241-234f-45d6-978c-0a3a66a22626",
   "metadata": {},
   "outputs": [
    {
     "name": "stdout",
     "output_type": "stream",
     "text": [
      "Akshit\n",
      "\n",
      "Aayush\n",
      "\n",
      "Aryans\n",
      "\n",
      "hum coding blocks m baithkr padh rhe hai\n"
     ]
    }
   ],
   "source": [
    "file.seek(0)\n",
    "for i in file.readlines():\n",
    "    print(i)"
   ]
  },
  {
   "cell_type": "code",
   "execution_count": 23,
   "id": "75686ff4-8ea8-47c8-9208-356404707898",
   "metadata": {},
   "outputs": [
    {
     "data": {
      "text/plain": [
       "'Akshit\\n'"
      ]
     },
     "execution_count": 23,
     "metadata": {},
     "output_type": "execute_result"
    }
   ],
   "source": [
    "file.seek(0)\n",
    "file.readline() #sirf ek line read krega"
   ]
  },
  {
   "cell_type": "code",
   "execution_count": 25,
   "id": "d2073e32-0f3d-4f00-a0f3-32af4aca4137",
   "metadata": {},
   "outputs": [
    {
     "name": "stdout",
     "output_type": "stream",
     "text": [
      "Akshit\n",
      "Aayush\n",
      "Aryans\n",
      "hum coding blocks m baithkr padh rhe hai"
     ]
    }
   ],
   "source": [
    "file.seek(0)\n",
    "s = file.readline()\n",
    "while s != '':\n",
    "    print(s,end = '')\n",
    "    s = file.readline()"
   ]
  },
  {
   "cell_type": "code",
   "execution_count": 26,
   "id": "91b4da09-f35d-4cd6-a7ec-970504c8cd01",
   "metadata": {},
   "outputs": [],
   "source": [
    "file.close()"
   ]
  },
  {
   "cell_type": "code",
   "execution_count": 17,
   "id": "0d6012f1-e606-48be-8bc6-705a2c53b6d7",
   "metadata": {},
   "outputs": [],
   "source": [
    "file = open('FileDemo.txt','w')"
   ]
  },
  {
   "cell_type": "code",
   "execution_count": 18,
   "id": "6684e7ff-c9bf-4713-8db1-8237c9c5a52e",
   "metadata": {},
   "outputs": [
    {
     "data": {
      "text/plain": [
       "23"
      ]
     },
     "execution_count": 18,
     "metadata": {},
     "output_type": "execute_result"
    }
   ],
   "source": [
    "file.write('''stmt1\n",
    "stmt2\n",
    "stmt3\n",
    "stmt4''')"
   ]
  },
  {
   "cell_type": "code",
   "execution_count": 19,
   "id": "6e65d89f-75f2-4bdd-8eac-e564cd2c6685",
   "metadata": {},
   "outputs": [],
   "source": [
    "file.close()"
   ]
  },
  {
   "cell_type": "code",
   "execution_count": 20,
   "id": "2a539c74-5da9-4d76-ae5f-3e903a22ba50",
   "metadata": {},
   "outputs": [
    {
     "name": "stdout",
     "output_type": "stream",
     "text": [
      "stmt1\n",
      "stmt2\n",
      "stmt3\n",
      "stmt4\n"
     ]
    }
   ],
   "source": [
    "with open('FileDemo.txt','r+') as file: # with keyword k sth file open krne se hmari file kaam hone k baad \n",
    "    #automatic band hojayegi hume band krne ki need ni h\n",
    "    print(file.read())\n",
    "    \n",
    "    file.write('\\n aayush bhatia')"
   ]
  },
  {
   "cell_type": "code",
   "execution_count": null,
   "id": "27f235ac-4042-46f9-9139-6e0904fc1cbf",
   "metadata": {},
   "outputs": [],
   "source": []
  },
  {
   "cell_type": "markdown",
   "id": "27ae109f-4ae1-4334-ac34-be98371d69a2",
   "metadata": {},
   "source": [
    "# JSON - javascript object notation\n",
    "- its just like dictionary in python\n",
    "- ye kya krta h agr aapke paas text m koi dictionary type ka data h to ye usse dictionary type m hi output m print krvayega"
   ]
  },
  {
   "cell_type": "code",
   "execution_count": 22,
   "id": "82d670d3-b385-4b71-9854-90e5eedc37af",
   "metadata": {},
   "outputs": [],
   "source": [
    "js = {\n",
    "    'india' : 1000,\n",
    "    'usa' : 100\n",
    "}"
   ]
  },
  {
   "cell_type": "code",
   "execution_count": 23,
   "id": "ab145568-8484-4895-8bfb-746a7fda8b3a",
   "metadata": {},
   "outputs": [],
   "source": [
    "import json"
   ]
  },
  {
   "cell_type": "code",
   "execution_count": 24,
   "id": "eb9f4209-c24c-4ee4-8510-70d857d88f41",
   "metadata": {},
   "outputs": [],
   "source": [
    "with open('country.json','w') as file:\n",
    "    json.dump(js,file)"
   ]
  },
  {
   "cell_type": "code",
   "execution_count": null,
   "id": "f29abbfb-b78c-4335-8aa2-9fdc65b0f970",
   "metadata": {},
   "outputs": [],
   "source": []
  },
  {
   "cell_type": "code",
   "execution_count": 25,
   "id": "6263c695-b998-4304-9813-f4955b2ed364",
   "metadata": {},
   "outputs": [
    {
     "name": "stdout",
     "output_type": "stream",
     "text": [
      "{'india': 1000, 'usa': 100} <class 'dict'>\n"
     ]
    }
   ],
   "source": [
    "with open('country.json','r') as file:\n",
    "    j = json.load(file)\n",
    "    print(j,type(j))"
   ]
  },
  {
   "cell_type": "code",
   "execution_count": 31,
   "id": "dcfb888a-b596-402e-a4c8-401f1a935f60",
   "metadata": {},
   "outputs": [
    {
     "name": "stdout",
     "output_type": "stream",
     "text": [
      "{\"india\": 1000, \"usa\": 100}\n"
     ]
    }
   ],
   "source": [
    "s = json.dumps(js) #isko jo bhi dictionary denge ussse string m convert krdega\n",
    "print(s)"
   ]
  },
  {
   "cell_type": "code",
   "execution_count": 33,
   "id": "972dc83d-a175-4b7f-9a59-2a5bd238da51",
   "metadata": {},
   "outputs": [
    {
     "data": {
      "text/plain": [
       "{'india': 1000, 'usa': 100}"
      ]
     },
     "execution_count": 33,
     "metadata": {},
     "output_type": "execute_result"
    }
   ],
   "source": [
    "json.loads(s) # dumps ka vice- versa string ko json object m change krta h"
   ]
  },
  {
   "cell_type": "code",
   "execution_count": 43,
   "id": "7e9ad7da-97a8-4985-8856-4e153f921367",
   "metadata": {},
   "outputs": [],
   "source": [
    "l = ['s1','s2','s3','s4']\n",
    "with open('question.txt','w') as file:\n",
    "    for i in range(4):\n",
    "        file.write(l[i]+ '\\n' )"
   ]
  },
  {
   "cell_type": "code",
   "execution_count": 47,
   "id": "3cbb52a9-2d04-4e24-b761-9b41d263691d",
   "metadata": {},
   "outputs": [
    {
     "name": "stdout",
     "output_type": "stream",
     "text": [
      "s10\n",
      "s20\n",
      "s30\n",
      "s40\n",
      "['s10', 's20', 's30', 's40']\n"
     ]
    }
   ],
   "source": [
    "ans = []\n",
    "with open('question.txt','r') as file:\n",
    "    for i in range(4):\n",
    "        s = file.readline()\n",
    "        s = s[0:-1]\n",
    "        print(s +'0')\n",
    "        ans.append(s + '0')\n",
    "    print(ans)"
   ]
  },
  {
   "cell_type": "code",
   "execution_count": null,
   "id": "8ba7723a-eb47-49b0-be2d-a6e072731aa0",
   "metadata": {},
   "outputs": [],
   "source": []
  }
 ],
 "metadata": {
  "kernelspec": {
   "display_name": "Python 3 (ipykernel)",
   "language": "python",
   "name": "python3"
  },
  "language_info": {
   "codemirror_mode": {
    "name": "ipython",
    "version": 3
   },
   "file_extension": ".py",
   "mimetype": "text/x-python",
   "name": "python",
   "nbconvert_exporter": "python",
   "pygments_lexer": "ipython3",
   "version": "3.13.3"
  }
 },
 "nbformat": 4,
 "nbformat_minor": 5
}
