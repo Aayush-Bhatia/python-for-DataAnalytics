{
 "cells": [
  {
   "cell_type": "code",
   "execution_count": 1,
   "id": "25256e80-bfd4-4122-86ac-595d84012a5a",
   "metadata": {},
   "outputs": [
    {
     "name": "stdout",
     "output_type": "stream",
     "text": [
      "hello\n"
     ]
    }
   ],
   "source": [
    "print('hello')"
   ]
  },
  {
   "cell_type": "code",
   "execution_count": 2,
   "id": "e8af6967-7614-4e51-8723-a03bd2f0f0ad",
   "metadata": {},
   "outputs": [
    {
     "name": "stdout",
     "output_type": "stream",
     "text": [
      "['False', 'None', 'True', 'and', 'as', 'assert', 'async', 'await', 'break', 'class', 'continue', 'def', 'del', 'elif', 'else', 'except', 'finally', 'for', 'from', 'global', 'if', 'import', 'in', 'is', 'lambda', 'nonlocal', 'not', 'or', 'pass', 'raise', 'return', 'try', 'while', 'with', 'yield']\n"
     ]
    }
   ],
   "source": [
    "import keyword\n",
    "print(keyword.kwlist)"
   ]
  },
  {
   "cell_type": "code",
   "execution_count": 3,
   "id": "7e3b7f0c-a320-4185-b4be-1cbdd61ef135",
   "metadata": {},
   "outputs": [
    {
     "name": "stdout",
     "output_type": "stream",
     "text": [
      "7\n"
     ]
    }
   ],
   "source": [
    "a = 1+2+\\\n",
    "    4\n",
    "print(a)"
   ]
  },
  {
   "cell_type": "code",
   "execution_count": 5,
   "id": "b4b57740-f7f6-47c5-b37c-1ba2c6ecd949",
   "metadata": {},
   "outputs": [
    {
     "name": "stdout",
     "output_type": "stream",
     "text": [
      "20,30\n"
     ]
    }
   ],
   "source": [
    "a,b = 20,30\n",
    "print(a,b,sep = ',')\n"
   ]
  },
  {
   "cell_type": "code",
   "execution_count": 6,
   "id": "b1b72376-cd9c-4932-b9be-1d9bf65eac8d",
   "metadata": {},
   "outputs": [
    {
     "name": "stdout",
     "output_type": "stream",
     "text": [
      "10 20\n"
     ]
    }
   ],
   "source": [
    "print(10,end = ' ')\n",
    "print(20)"
   ]
  },
  {
   "cell_type": "code",
   "execution_count": 7,
   "id": "421f617d-774b-4942-8171-56e0a7c91058",
   "metadata": {},
   "outputs": [
    {
     "name": "stdout",
     "output_type": "stream",
     "text": [
      "<class 'int'>\n"
     ]
    }
   ],
   "source": [
    "print(type(a))"
   ]
  },
  {
   "cell_type": "code",
   "execution_count": 8,
   "id": "fba1d304-6dd5-4876-8b5e-1db24cec527b",
   "metadata": {},
   "outputs": [
    {
     "data": {
      "text/plain": [
       "4311458592"
      ]
     },
     "execution_count": 8,
     "metadata": {},
     "output_type": "execute_result"
    }
   ],
   "source": [
    "id(a) \n",
    "# its address of a\n"
   ]
  },
  {
   "cell_type": "code",
   "execution_count": 9,
   "id": "8681b488-ffee-48e6-8d2d-00be7a42fd85",
   "metadata": {},
   "outputs": [
    {
     "name": "stdout",
     "output_type": "stream",
     "text": [
      "20\n"
     ]
    }
   ],
   "source": [
    "f = 20.5\n",
    "b = int(f)\n",
    "print(b)"
   ]
  },
  {
   "cell_type": "code",
   "execution_count": 11,
   "id": "c011e134-8740-40df-8df0-ef8b2c6fdcab",
   "metadata": {},
   "outputs": [
    {
     "data": {
      "text/plain": [
       "97"
      ]
     },
     "execution_count": 11,
     "metadata": {},
     "output_type": "execute_result"
    }
   ],
   "source": [
    "ord('a')"
   ]
  },
  {
   "cell_type": "code",
   "execution_count": 12,
   "id": "7c126b96-96ab-4a84-b275-181493ac51e6",
   "metadata": {},
   "outputs": [
    {
     "name": "stdout",
     "output_type": "stream",
     "text": [
      "1.0\n"
     ]
    }
   ],
   "source": [
    "print(a/b)"
   ]
  },
  {
   "cell_type": "code",
   "execution_count": 13,
   "id": "b6d4a6e9-93fd-4042-89c0-e0f820a12cfc",
   "metadata": {},
   "outputs": [
    {
     "name": "stdout",
     "output_type": "stream",
     "text": [
      "1\n"
     ]
    }
   ],
   "source": [
    "print(a//b)"
   ]
  },
  {
   "cell_type": "code",
   "execution_count": 14,
   "id": "2bc43af8-afcb-43e8-af8f-146cc7c7b678",
   "metadata": {},
   "outputs": [
    {
     "data": {
      "text/plain": [
       "True"
      ]
     },
     "execution_count": 14,
     "metadata": {},
     "output_type": "execute_result"
    }
   ],
   "source": [
    "s = 'Hello'\n",
    "a = 'el'\n",
    "a in s"
   ]
  },
  {
   "cell_type": "markdown",
   "id": "ca95c473-2458-40e2-8d0e-4e4e5692477b",
   "metadata": {},
   "source": [
    "marks = int(input('Enter Marks'))\n",
    "\n",
    "if marks <=100 and marks >=80:\n",
    "    print('A')\n",
    "elif marks < 80 and marks >= 60:\n",
    "    print('B')\n",
    "elif marks < 60 and marks >= 40:\n",
    "    print('C')\n",
    "elif marks < 40 and marks >= 0:\n",
    "    print('F')\n",
    "else:\n",
    "    print('invalid marks')"
   ]
  },
  {
   "cell_type": "markdown",
   "id": "576c43cf-8f78-48d3-a02b-d36f0305f80e",
   "metadata": {},
   "source": [
    "# ternary operator\n"
   ]
  },
  {
   "cell_type": "code",
   "execution_count": 19,
   "id": "69c2f193-e857-459a-96dc-fb16602c8094",
   "metadata": {},
   "outputs": [
    {
     "name": "stdout",
     "output_type": "stream",
     "text": [
      "20\n"
     ]
    }
   ],
   "source": [
    "a = 10\n",
    "b = 20\n",
    "c = a if a > b else b\n",
    "print(c)"
   ]
  },
  {
   "cell_type": "code",
   "execution_count": 24,
   "id": "1ffc3b16-4aae-4916-b77d-16738dbe1362",
   "metadata": {},
   "outputs": [
    {
     "name": "stdin",
     "output_type": "stream",
     "text": [
      "enter no. 10\n"
     ]
    },
    {
     "name": "stdout",
     "output_type": "stream",
     "text": [
      "45\n"
     ]
    }
   ],
   "source": [
    "n = int(input('enter no.'))\n",
    "s = 0\n",
    "i = 1\n",
    "while(i < n):\n",
    "    s += i\n",
    "    i +=1\n",
    "\n",
    "print(s)\n",
    "#sum 1 to n"
   ]
  },
  {
   "cell_type": "code",
   "execution_count": 32,
   "id": "4122f562-7dbb-4a4a-82f2-d559c2994395",
   "metadata": {},
   "outputs": [
    {
     "name": "stdin",
     "output_type": "stream",
     "text": [
      "enter no. 10\n"
     ]
    },
    {
     "name": "stdout",
     "output_type": "stream",
     "text": [
      "1 2 5 10 \n",
      "4\n"
     ]
    }
   ],
   "source": [
    "n = int(input('enter no.'))\n",
    "c = 0\n",
    "i = 1\n",
    "while i <= n:\n",
    "    if n%i == 0:\n",
    "        print(i,end = ' ')\n",
    "        c += 1\n",
    "    i +=1\n",
    "\n",
    "print()\n",
    "print(c)\n",
    "#count factors"
   ]
  },
  {
   "cell_type": "code",
   "execution_count": 33,
   "id": "538e37be-ec77-41cf-8deb-e1b3d33f5ab5",
   "metadata": {},
   "outputs": [
    {
     "name": "stdin",
     "output_type": "stream",
     "text": [
      "enter no. 10\n"
     ]
    },
    {
     "name": "stdout",
     "output_type": "stream",
     "text": [
      "False\n"
     ]
    }
   ],
   "source": [
    "n = int(input('enter no.'))\n",
    "c = 0\n",
    "i = 2\n",
    "b = True\n",
    "while i*i < n:\n",
    "    if n%i == 0:\n",
    "        b = False\n",
    "        break\n",
    "    i += 1\n",
    "\n",
    "print(b)\n",
    "#check prime"
   ]
  },
  {
   "cell_type": "code",
   "execution_count": 3,
   "id": "927b5b90-c6c6-431c-a560-c1e59577a127",
   "metadata": {},
   "outputs": [
    {
     "name": "stdout",
     "output_type": "stream",
     "text": [
      "2 3 5 7 11 13 17 19 23 29 31 37 41 43 47 53 59 61 67 71 73 79 83 89 97 "
     ]
    }
   ],
   "source": [
    "#prime no.s btw 1 to 100\n",
    "def check_prime(n):\n",
    "    b = True\n",
    "    i = 2\n",
    "    while i*i <= n:\n",
    "        if n%i == 0:\n",
    "            b = False\n",
    "            break\n",
    "        i += 1\n",
    "    return b\n",
    "\n",
    "\n",
    "a = 100\n",
    "j = 2\n",
    "while(j <= a):\n",
    "    c = check_prime(j)\n",
    "    if c:\n",
    "        print(j, end = ' ')\n",
    "\n",
    "    j += 1\n",
    "\n",
    "    "
   ]
  },
  {
   "cell_type": "code",
   "execution_count": 1,
   "id": "2a39bfda-0fe2-4e37-9012-d548951551f3",
   "metadata": {},
   "outputs": [
    {
     "name": "stdin",
     "output_type": "stream",
     "text": [
      "Enter No. 10\n"
     ]
    },
    {
     "name": "stdout",
     "output_type": "stream",
     "text": [
      "2\n"
     ]
    }
   ],
   "source": [
    "# no. of digits\n",
    "num = int(input('Enter No.'))\n",
    "c = 0\n",
    "temp = num\n",
    "while temp > 0:\n",
    "    temp //= 10\n",
    "    c+=1\n",
    "\n",
    "print(c)\n",
    "    \n",
    "     "
   ]
  },
  {
   "cell_type": "code",
   "execution_count": 2,
   "id": "488975b7-4b50-4f32-b1fc-9c5cbe17beba",
   "metadata": {},
   "outputs": [
    {
     "name": "stdin",
     "output_type": "stream",
     "text": [
      " 1 2 3 \n"
     ]
    },
    {
     "name": "stdout",
     "output_type": "stream",
     "text": [
      "1\n",
      "2\n",
      "3\n"
     ]
    }
   ],
   "source": [
    "# agr ek input use krke 2 vRIABLES KI Value leni ho to split ka use krte h\n",
    "a,b,c = input().split()\n",
    "a= int(a)\n",
    "b = int(b)\n",
    "c = int(c)\n",
    "print(a)\n",
    "print(b)\n",
    "print(c)\n"
   ]
  },
  {
   "cell_type": "code",
   "execution_count": 9,
   "id": "c92f760b-1aad-4147-9ce3-cb4a8a41ea30",
   "metadata": {},
   "outputs": [
    {
     "name": "stdin",
     "output_type": "stream",
     "text": [
      " 4\n"
     ]
    },
    {
     "name": "stdout",
     "output_type": "stream",
     "text": [
      "* * * * \n",
      "* * * * \n",
      "* * * * \n",
      "* * * * \n"
     ]
    }
   ],
   "source": [
    "n = int(input())\n",
    "i = 0\n",
    "\n",
    "while i < n:\n",
    "    j = 0\n",
    "    while j < n:\n",
    "        print('*',end= ' ')\n",
    "        j+=1\n",
    "    print()\n",
    "    i += 1\n",
    "    \n",
    "    "
   ]
  },
  {
   "cell_type": "code",
   "execution_count": 10,
   "id": "547e1238-4b14-4917-9316-7569e31ad86a",
   "metadata": {},
   "outputs": [
    {
     "name": "stdin",
     "output_type": "stream",
     "text": [
      " 5\n"
     ]
    },
    {
     "name": "stdout",
     "output_type": "stream",
     "text": [
      "* \n",
      "* * \n",
      "* * * \n",
      "* * * * \n",
      "* * * * * \n"
     ]
    }
   ],
   "source": [
    "n = int(input())\n",
    "i = 1\n",
    "\n",
    "while i <= n:\n",
    "    j = 0\n",
    "    while j < i:\n",
    "        print('*',end= ' ')\n",
    "        j+=1\n",
    "    print()\n",
    "    i += 1\n",
    "    "
   ]
  },
  {
   "cell_type": "code",
   "execution_count": 12,
   "id": "4b9f58b3-672a-4f33-8260-20583f817f8f",
   "metadata": {},
   "outputs": [
    {
     "name": "stdin",
     "output_type": "stream",
     "text": [
      " 4\n"
     ]
    },
    {
     "name": "stdout",
     "output_type": "stream",
     "text": [
      "* * * * \n",
      "* * * \n",
      "* * \n",
      "* \n",
      "\n"
     ]
    }
   ],
   "source": [
    "n = int(input())\n",
    "i = 0\n",
    "\n",
    "while i <=n:\n",
    "    j = n\n",
    "    while j > i:\n",
    "        print('*',end= ' ')\n",
    "        j-=1\n",
    "    print()\n",
    "    i += 1\n",
    "    "
   ]
  },
  {
   "cell_type": "code",
   "execution_count": 19,
   "id": "de588aab-9fb3-4446-a093-eb234d4647b0",
   "metadata": {},
   "outputs": [
    {
     "name": "stdin",
     "output_type": "stream",
     "text": [
      " 4\n"
     ]
    },
    {
     "name": "stdout",
     "output_type": "stream",
     "text": [
      "      * \n",
      "    * * \n",
      "  * * * \n",
      "* * * * \n"
     ]
    }
   ],
   "source": [
    "n = int(input())\n",
    "i = 1\n",
    "\n",
    "while i <= n:\n",
    "    j = 0\n",
    "    while j < n:\n",
    "        if j < n - i:\n",
    "            print(' ',end=' ')\n",
    "        else:\n",
    "            print('*',end= ' ')\n",
    "        j+=1\n",
    "    print()\n",
    "    i += 1\n",
    "    \n",
    "    \n",
    "    "
   ]
  },
  {
   "cell_type": "code",
   "execution_count": 3,
   "id": "83d0585f-707a-4fec-9dc9-a301736ba0e6",
   "metadata": {},
   "outputs": [
    {
     "name": "stdout",
     "output_type": "stream",
     "text": [
      "3\n"
     ]
    }
   ],
   "source": [
    "def add(a,b):\n",
    "    return a+b\n",
    "\n",
    "\n",
    "print(add(1,2))"
   ]
  },
  {
   "cell_type": "code",
   "execution_count": 1,
   "id": "921f5143-ca94-4be0-9b21-c432126739c2",
   "metadata": {},
   "outputs": [
    {
     "name": "stdin",
     "output_type": "stream",
     "text": [
      " 2635\n"
     ]
    },
    {
     "name": "stdout",
     "output_type": "stream",
     "text": [
      "5\n",
      "11\n"
     ]
    }
   ],
   "source": [
    "n = int(input())\n",
    "i = 0\n",
    "temp = n\n",
    "even,odd = 0,0\n",
    "while(i < n):\n",
    "    if(i%2 == 0):\n",
    "        even += temp%10\n",
    "        \n",
    "    else:\n",
    "        odd += temp%10\n",
    "    \n",
    "    temp //= 10\n",
    "    i += 1\n",
    "\n",
    "print(odd)\n",
    "print(even)\n"
   ]
  },
  {
   "cell_type": "code",
   "execution_count": 5,
   "id": "b2a344d2-669b-414a-a996-a729377f58d1",
   "metadata": {},
   "outputs": [
    {
     "name": "stdin",
     "output_type": "stream",
     "text": [
      " 90\n"
     ]
    },
    {
     "name": "stdout",
     "output_type": "stream",
     "text": [
      "2 3 5 7 11 13 17 19 23 29 31 37 41 43 47 53 59 61 67 71 73 79 83 89 "
     ]
    }
   ],
   "source": [
    "#prime no.s btw 1 to 100\n",
    "def check_prime(n):\n",
    "    b = True\n",
    "    i = 2\n",
    "    while i*i <= n:\n",
    "        if n%i == 0:\n",
    "            b = False\n",
    "            break\n",
    "        i += 1\n",
    "    return b\n",
    "\n",
    "\n",
    "a = int(input())\n",
    "j = 2\n",
    "while(j <= a):\n",
    "    c = check_prime(j)\n",
    "    if c:\n",
    "        print(j, end = ' ')\n",
    "\n",
    "    j += 1"
   ]
  },
  {
   "cell_type": "code",
   "execution_count": 3,
   "id": "0d35b3c6-41dd-4d74-ad54-bf1b863a1e3a",
   "metadata": {},
   "outputs": [
    {
     "name": "stdin",
     "output_type": "stream",
     "text": [
      " 5\n"
     ]
    },
    {
     "name": "stdout",
     "output_type": "stream",
     "text": [
      "  * * * * * \n",
      "    * * * * \n",
      "      * * * \n",
      "        * * \n",
      "          * \n"
     ]
    }
   ],
   "source": [
    "n = int(input())\n",
    "i = 1\n",
    "\n",
    "while i <= n:\n",
    "    j = 0\n",
    "    while j <= n:\n",
    "        if j < i:\n",
    "            print(' ',end=' ')\n",
    "        else:\n",
    "            print('*',end= ' ')\n",
    "        j+=1\n",
    "    print()\n",
    "    i += 1"
   ]
  },
  {
   "cell_type": "code",
   "execution_count": 6,
   "id": "288b466b-9913-438e-a2fb-b3b3a4839818",
   "metadata": {},
   "outputs": [
    {
     "name": "stdin",
     "output_type": "stream",
     "text": [
      " 5\n"
     ]
    },
    {
     "name": "stdout",
     "output_type": "stream",
     "text": [
      "   * * * * * \n",
      "      * * * * \n",
      "         * * * \n",
      "            * * \n",
      "               * \n"
     ]
    }
   ],
   "source": [
    "n = int(input())\n",
    "i = 1 #rows\n",
    "\n",
    "while i <= n:\n",
    "    j = 0 #stars\n",
    "    while j <= n:\n",
    "        if j < i:\n",
    "            print('  ',end=' ')\n",
    "        else:\n",
    "            print('*',end= ' ')\n",
    "        j+=1\n",
    "    print()\n",
    "    i += 1"
   ]
  },
  {
   "cell_type": "code",
   "execution_count": 11,
   "id": "8244dbb6-e2f9-45f4-a6e0-f98a0b54e7c0",
   "metadata": {},
   "outputs": [
    {
     "name": "stdin",
     "output_type": "stream",
     "text": [
      " 5\n"
     ]
    },
    {
     "name": "stdout",
     "output_type": "stream",
     "text": [
      "          * \n",
      "        * * * \n",
      "      * * * * * \n",
      "    * * * * * * * \n",
      "  * * * * * * * * * \n"
     ]
    }
   ],
   "source": [
    "n = int(input())\n",
    "i = 1\n",
    "rows = n\n",
    "\n",
    "while i <= rows:\n",
    "    j = 0\n",
    "    while j <= n:\n",
    "        if j <= rows - i:\n",
    "            print(' ',end=' ')\n",
    "        else:\n",
    "            print('*',end= ' ')\n",
    "        j+=1\n",
    "    n+=1        \n",
    "    print()\n",
    "    i += 1"
   ]
  },
  {
   "cell_type": "code",
   "execution_count": 12,
   "id": "8bbd65bf-ee01-47c4-8599-9fa62ee1878e",
   "metadata": {},
   "outputs": [
    {
     "name": "stdout",
     "output_type": "stream",
     "text": [
      "        * \n",
      "      * * * \n",
      "    * * * * * \n",
      "  * * * * * * * \n",
      "* * * * * * * * * \n"
     ]
    }
   ],
   "source": [
    "n = 5\n",
    "i = 1\n",
    "sp = n - 1\n",
    "while i <= n:\n",
    "    j = 1\n",
    "    while j <= sp:\n",
    "        print(' ', end = ' ')\n",
    "        j += 1\n",
    "    sp -= 1\n",
    "    j = 1\n",
    "    while j <= 2 * i - 1:\n",
    "        print('*', end = ' ')\n",
    "        j += 1\n",
    "    print()\n",
    "    i += 1"
   ]
  },
  {
   "cell_type": "code",
   "execution_count": 16,
   "id": "b4a7f0eb-f390-4c79-b599-97fe4b0fb9a7",
   "metadata": {},
   "outputs": [
    {
     "name": "stdout",
     "output_type": "stream",
     "text": [
      "  * * * * * * * * * \n",
      "    * * * * * * * \n",
      "      * * * * * \n",
      "        * * * \n",
      "          * \n"
     ]
    }
   ],
   "source": [
    "\n",
    "n = 5\n",
    "i = n\n",
    "sp = 1\n",
    "while i >= 1:\n",
    "    j = 1\n",
    "    while j <= sp:\n",
    "        print(' ', end = ' ')\n",
    "        j += 1\n",
    "    sp += 1\n",
    "    j = 1\n",
    "    while j <= 2 * i - 1:\n",
    "        print('*', end = ' ')\n",
    "        j += 1\n",
    "    print()\n",
    "    i -= 1"
   ]
  },
  {
   "cell_type": "code",
   "execution_count": 20,
   "id": "cd8a7509-8f3d-4540-af1b-a2d6c816f5e0",
   "metadata": {},
   "outputs": [
    {
     "name": "stdout",
     "output_type": "stream",
     "text": [
      "          * \n",
      "        *   * \n",
      "      *   *   * \n",
      "    *   *   *   * \n",
      "  *   *   *   *   * \n",
      "*   *   *   *   *   * \n"
     ]
    }
   ],
   "source": [
    "n = 6\n",
    "i = 1\n",
    "sp = n - 1\n",
    "while i <= n:\n",
    "    j = 1\n",
    "    while j <= sp:\n",
    "        print(' ', end = ' ')\n",
    "        j += 1\n",
    "    sp -= 1\n",
    "    j = 1\n",
    "    while j <= 2 * i - 1:\n",
    "        if j%2:\n",
    "            print('*', end = ' ')\n",
    "        else:\n",
    "            print(' ', end = ' ')\n",
    "        j += 1\n",
    "    print()\n",
    "    i += 1"
   ]
  },
  {
   "cell_type": "code",
   "execution_count": 21,
   "id": "8922989a-9e0a-4d48-8862-41a2cb920912",
   "metadata": {},
   "outputs": [
    {
     "name": "stdout",
     "output_type": "stream",
     "text": [
      "          * \n",
      "        * ! * \n",
      "      * ! * ! * \n",
      "    * ! * ! * ! * \n",
      "  * ! * ! * ! * ! * \n",
      "* ! * ! * ! * ! * ! * \n"
     ]
    }
   ],
   "source": [
    "n = 6\n",
    "i = 1\n",
    "sp = n - 1\n",
    "while i <= n:\n",
    "    j = 1\n",
    "    while j <= sp:\n",
    "        print(' ', end = ' ')\n",
    "        j += 1\n",
    "    sp -= 1\n",
    "    j = 1\n",
    "    while j <= 2 * i - 1:\n",
    "        if j%2:\n",
    "            print('*', end = ' ')\n",
    "        else:\n",
    "            print('!', end = ' ')\n",
    "        j += 1\n",
    "    print()\n",
    "    i += 1"
   ]
  },
  {
   "cell_type": "code",
   "execution_count": 23,
   "id": "bec0cc25-010f-4f50-866d-6e709ecef44c",
   "metadata": {},
   "outputs": [
    {
     "name": "stdin",
     "output_type": "stream",
     "text": [
      " 5\n"
     ]
    },
    {
     "name": "stdout",
     "output_type": "stream",
     "text": [
      "* * * * * \n",
      "*       * \n",
      "*       * \n",
      "*       * \n",
      "* * * * * \n"
     ]
    }
   ],
   "source": [
    "n = int(input())\n",
    "i = 1\n",
    "\n",
    "while i <= n:\n",
    "    j = 1\n",
    "    while j <= n:\n",
    "        if j == 1 or j == n or i == 1 or i == n:\n",
    "            print('*',end=' ')\n",
    "        else:\n",
    "            print(' ',end= ' ')\n",
    "        j+=1\n",
    "    print()\n",
    "    i += 1"
   ]
  },
  {
   "cell_type": "code",
   "execution_count": 24,
   "id": "ec02c007-fe23-45d4-8953-0622d90f9978",
   "metadata": {},
   "outputs": [
    {
     "name": "stdin",
     "output_type": "stream",
     "text": [
      " 5\n"
     ]
    },
    {
     "name": "stdout",
     "output_type": "stream",
     "text": [
      "*       * \n",
      "  *   *   \n",
      "    *     \n",
      "  *   *   \n",
      "*       * \n"
     ]
    }
   ],
   "source": [
    "n = int(input())\n",
    "i = 1\n",
    "col = n\n",
    "row = n\n",
    "\n",
    "while i <= n:\n",
    "    j = 1\n",
    "    while j <= n:\n",
    "        if j == i or j == col:\n",
    "            print('*',end=' ')\n",
    "        else:\n",
    "            print(' ',end= ' ')\n",
    "        j+=1\n",
    "    col -= 1\n",
    "    print()\n",
    "    i += 1"
   ]
  },
  {
   "cell_type": "code",
   "execution_count": 25,
   "id": "be8d6cc3-f00c-4db3-9302-aaf5d5c359af",
   "metadata": {},
   "outputs": [
    {
     "name": "stdout",
     "output_type": "stream",
     "text": [
      "*           *  \n",
      "   *     *     \n",
      "      *        \n",
      "   *     *     \n",
      "*           *  \n"
     ]
    }
   ],
   "source": [
    "n = 5\n",
    "i = 1\n",
    "while i <= n:\n",
    "    j = 1\n",
    "    while j <= n:\n",
    "        if i == j or i + j == n + 1:\n",
    "            print('*', end = '  ')\n",
    "        else:\n",
    "            print(' ',end = '  ')\n",
    "        j += 1\n",
    "    i += 1\n",
    "    print()\n",
    "    "
   ]
  },
  {
   "cell_type": "code",
   "execution_count": 33,
   "id": "9501e8f4-ae4a-4150-8f0f-e8bd0938006d",
   "metadata": {},
   "outputs": [
    {
     "name": "stdout",
     "output_type": "stream",
     "text": [
      "* \n",
      "* * \n",
      "* * * \n",
      "* * * * \n",
      "* * * * * \n",
      "* * * * \n",
      "* * * \n",
      "* * \n",
      "* \n"
     ]
    }
   ],
   "source": [
    "n = 5\n",
    "row = 1\n",
    "nst = 1\n",
    "i = 1\n",
    "while i < 2*n:\n",
    "    j = 1\n",
    "    while j <= nst:\n",
    "        print('*', end = ' ')\n",
    "        j += 1\n",
    "    if row < n:\n",
    "        nst += 1\n",
    "    else:\n",
    "        nst -= 1\n",
    "    row += 1\n",
    "    i += 1\n",
    "    print()"
   ]
  },
  {
   "cell_type": "code",
   "execution_count": 36,
   "id": "25d1aa98-75f5-4296-803b-0283ae70df99",
   "metadata": {},
   "outputs": [
    {
     "name": "stdout",
     "output_type": "stream",
     "text": [
      "                * \n",
      "              * * \n",
      "            * * * \n",
      "          * * * * \n",
      "        * * * * * \n",
      "      * * * * * * \n",
      "    * * * * * * * \n",
      "  * * * * * * * * \n",
      "* * * * * * * * * \n",
      "  * * * * * * * * \n",
      "    * * * * * * * \n",
      "      * * * * * * \n",
      "        * * * * * \n",
      "          * * * * \n",
      "            * * * \n",
      "              * * \n",
      "                * \n"
     ]
    }
   ],
   "source": [
    "n = 9\n",
    "row = 1\n",
    "nst = 1\n",
    "i = 1\n",
    "while i < 2*n:\n",
    "    j = 1\n",
    "    while j <= n:\n",
    "        if j <= n - nst:\n",
    "            print(' ', end = ' ')\n",
    "        else:\n",
    "            print('*', end = ' ')\n",
    "        j += 1\n",
    "    if row < n:\n",
    "        nst += 1\n",
    "    else:\n",
    "        nst -= 1\n",
    "    row += 1\n",
    "    i += 1\n",
    "    print()"
   ]
  },
  {
   "cell_type": "code",
   "execution_count": 37,
   "id": "89ae8fd8-beb6-4e91-bee9-69ee3bcfaa00",
   "metadata": {},
   "outputs": [
    {
     "name": "stdout",
     "output_type": "stream",
     "text": [
      "        * \n",
      "      * * \n",
      "    * * * \n",
      "  * * * * \n",
      "* * * * * \n",
      "  * * * * \n",
      "    * * * \n",
      "      * * \n",
      "        * \n"
     ]
    }
   ],
   "source": [
    "# Q14\n",
    "n = 5\n",
    "i = 1\n",
    "while i < 2 * n:\n",
    "    j = 1\n",
    "    nst = i if i <= n else n - (i - n) \n",
    "    nsp = n - i if i <= n else i - n\n",
    "    while j <= nsp:\n",
    "        print(' ', end = ' ')\n",
    "        j += 1\n",
    "    j = 1\n",
    "    while j <= nst:\n",
    "        print('*', end = ' ')\n",
    "        j += 1\n",
    "        \n",
    "    i += 1\n",
    "    print()"
   ]
  },
  {
   "cell_type": "code",
   "execution_count": 6,
   "id": "dff8b74b-6110-43af-a36e-e7b9a1ef889e",
   "metadata": {},
   "outputs": [
    {
     "name": "stdout",
     "output_type": "stream",
     "text": [
      "* * * * * * \n",
      "    * * * * * \n",
      "        * * * * \n",
      "            * * * \n",
      "                * * \n",
      "                    * \n",
      "                * * \n",
      "            * * * \n",
      "        * * * * \n",
      "    * * * * * \n",
      "* * * * * * \n"
     ]
    }
   ],
   "source": [
    "# sir n kha h ki aayush bhai jugadu tareeke se code likhna chorrde or generic code likhne shuru kr interview m kaam aayega\n",
    "\n",
    "N = 6\n",
    "nst = N\n",
    "nsp = 0\n",
    "row = 1\n",
    "while row <= 2*N-1:\n",
    "    csp = 1\n",
    "    while csp <= nsp:\n",
    "        print(\" \",end= \" \")\n",
    "        csp += 1\n",
    "        \n",
    "    cst = 1\n",
    "    while cst <= nst:\n",
    "        print('*',end = ' ')\n",
    "        cst += 1\n",
    "\n",
    "    if row < N:\n",
    "        nst -= 1\n",
    "        nsp += 2\n",
    "    else:\n",
    "        nst += 1\n",
    "        nsp -= 2\n",
    "    print()\n",
    "    row += 1"
   ]
  },
  {
   "cell_type": "code",
   "execution_count": 42,
   "id": "2231a33b-e3c3-447a-85c1-d3cbb616b91e",
   "metadata": {},
   "outputs": [
    {
     "name": "stdout",
     "output_type": "stream",
     "text": [
      "          * * * * * * \n",
      "        * * * * * \n",
      "      * * * * \n",
      "    * * * \n",
      "  * * \n",
      "* \n",
      "  * * \n",
      "    * * * \n",
      "      * * * * \n",
      "        * * * * * \n",
      "          * * * * * * \n"
     ]
    }
   ],
   "source": [
    "N = 6\n",
    "nst = N\n",
    "nsp = N - 1\n",
    "row = 1\n",
    "while row <= 2*N-1:\n",
    "    csp = 1\n",
    "    while csp <= nsp:\n",
    "        print(\" \",end= \" \")\n",
    "        csp += 1\n",
    "        \n",
    "    cst = 1\n",
    "    while cst <= nst:\n",
    "        print('*',end = ' ')\n",
    "        cst += 1\n",
    "\n",
    "    if row < N:\n",
    "        nst -= 1\n",
    "        nsp -= 1\n",
    "    else:\n",
    "        nst += 1\n",
    "        nsp += 1\n",
    "    print()\n",
    "    row += 1"
   ]
  },
  {
   "cell_type": "code",
   "execution_count": 43,
   "id": "90b1ff43-8369-4c85-bf51-bf29302340b3",
   "metadata": {},
   "outputs": [
    {
     "name": "stdout",
     "output_type": "stream",
     "text": [
      "      * \n",
      "    * * * \n",
      "  * * * * * \n",
      "* * * * * * * \n",
      "  * * * * * \n",
      "    * * * \n",
      "      * \n"
     ]
    }
   ],
   "source": [
    "N = 4\n",
    "nst = 1\n",
    "nsp = N-1\n",
    "row = 1\n",
    "while row <= 2*N-1:\n",
    "    csp = 1\n",
    "    while csp <= nsp:\n",
    "        print(\" \",end= \" \")\n",
    "        csp += 1\n",
    "        \n",
    "    cst = 1\n",
    "    while cst <= nst:\n",
    "        print('*',end = ' ')\n",
    "        cst += 1\n",
    "\n",
    "    if row < N:\n",
    "        nst += 2\n",
    "        nsp -= 1\n",
    "    else:\n",
    "        nst -= 2\n",
    "        nsp += 1\n",
    "    print()\n",
    "    row += 1"
   ]
  },
  {
   "cell_type": "code",
   "execution_count": 44,
   "id": "8234ce7f-2984-4c6c-857e-adb3f28f3621",
   "metadata": {},
   "outputs": [
    {
     "name": "stdout",
     "output_type": "stream",
     "text": [
      "         *  \n",
      "      *  *  *  \n",
      "   *  *  *  *  *  \n",
      "*  *  *  *  *  *  *  \n",
      "   *  *  *  *  *  \n",
      "      *  *  *  \n",
      "         *  \n"
     ]
    }
   ],
   "source": [
    "# Q18\n",
    "n = 7\n",
    "nsp = n // 2\n",
    "nst = 1\n",
    "i = 1\n",
    "while i <= n:\n",
    "    j = 1\n",
    "    while j <= nsp:\n",
    "        print(' ', end = '  ')\n",
    "        j += 1\n",
    "    j = 1\n",
    "    while j <= nst:\n",
    "        print('*', end = '  ')\n",
    "        j += 1\n",
    "    if(i <= n // 2):\n",
    "        nst += 2\n",
    "        nsp -= 1\n",
    "    else:\n",
    "        nst -= 2\n",
    "        nsp += 1\n",
    "    i += 1\n",
    "    print()"
   ]
  },
  {
   "cell_type": "code",
   "execution_count": 3,
   "id": "386f497b-75a8-4355-9aa1-f4da97826628",
   "metadata": {},
   "outputs": [
    {
     "name": "stdout",
     "output_type": "stream",
     "text": [
      "* * * * * * * \n",
      "* * *   * * * \n",
      "* *       * * \n",
      "*           * \n",
      "* *       * * \n",
      "* * *   * * * \n",
      "* * * * * * * \n"
     ]
    }
   ],
   "source": [
    "# Q18\n",
    "N = 7\n",
    "nsp = -1\n",
    "nst = N//2 + 1\n",
    "row = 1\n",
    "while row <= N:\n",
    "    cst = 1\n",
    "    if row == 1 or row == N:\n",
    "        cst = 2\n",
    "    while cst <= nst:\n",
    "        print('*',end = ' ')\n",
    "        cst += 1\n",
    "\n",
    "    csp = 1\n",
    "    while csp <= nsp:\n",
    "        print(\" \",end= \" \")\n",
    "        csp += 1\n",
    "        \n",
    "    cst = 1\n",
    "    while cst <= nst:\n",
    "        print('*',end = ' ')\n",
    "        cst += 1\n",
    "\n",
    "    if row <= N//2:\n",
    "        nst -= 1\n",
    "        nsp += 2\n",
    "    else:\n",
    "        nst += 1\n",
    "        nsp -= 2\n",
    "    print()\n",
    "    row += 1\n"
   ]
  },
  {
   "cell_type": "code",
   "execution_count": 4,
   "id": "9720f7a4-8122-490b-a379-7587a935bc64",
   "metadata": {},
   "outputs": [
    {
     "name": "stdout",
     "output_type": "stream",
     "text": [
      "* * *   * * * \n",
      "* *       * * \n",
      "*           * \n",
      "              \n",
      "*           * \n",
      "* *       * * \n",
      "* * *   * * * \n"
     ]
    }
   ],
   "source": [
    "# Q18\n",
    "N = 7\n",
    "nsp = 1\n",
    "nst = N//2\n",
    "row = 1\n",
    "while row <= N:\n",
    "    cst = 1\n",
    "    while cst <= nst:\n",
    "        print('*',end = ' ')\n",
    "        cst += 1\n",
    "\n",
    "    csp = 1\n",
    "    while csp <= nsp:\n",
    "        print(\" \",end= \" \")\n",
    "        csp += 1\n",
    "        \n",
    "    cst = 1\n",
    "    while cst <= nst:\n",
    "        print('*',end = ' ')\n",
    "        cst += 1\n",
    "\n",
    "    if row <= N//2:\n",
    "        nst -= 1\n",
    "        nsp += 2\n",
    "    else:\n",
    "        nst += 1\n",
    "        nsp -= 2\n",
    "    print()\n",
    "    row += 1\n"
   ]
  },
  {
   "cell_type": "code",
   "execution_count": 9,
   "id": "8994f794-4865-4b1a-adcf-505e71081fc9",
   "metadata": {},
   "outputs": [
    {
     "name": "stdout",
     "output_type": "stream",
     "text": [
      "        1 \n",
      "      1 1 1 \n",
      "    1 1 1 1 1 \n",
      "  1 1 1 1 1 1 1 \n",
      "1 1 1 1 1 1 1 1 1 \n"
     ]
    }
   ],
   "source": [
    "N = 5\n",
    "nsp = N - 1\n",
    "nst = 1\n",
    "row = 1\n",
    "val = 1\n",
    "while row <=N:\n",
    "    csp =1\n",
    "    while csp <= nsp:\n",
    "        print(\" \", end= \" \")\n",
    "        csp+= 1\n",
    "\n",
    "    cst = 1\n",
    "    while cst <= nst:\n",
    "        print(val, end = \" \")\n",
    "        cst += 1\n",
    "\n",
    "    nst += 2\n",
    "    nsp -= 1\n",
    "    row += 1\n",
    "    print()"
   ]
  },
  {
   "cell_type": "code",
   "execution_count": 11,
   "id": "2e8b420d-e639-4b1a-ab54-175578a5e9e6",
   "metadata": {},
   "outputs": [
    {
     "name": "stdout",
     "output_type": "stream",
     "text": [
      "        1 \n",
      "      2 2 2 \n",
      "    3 3 3 3 3 \n",
      "  4 4 4 4 4 4 4 \n",
      "5 5 5 5 5 5 5 5 5 \n"
     ]
    }
   ],
   "source": [
    "N = 5\n",
    "nsp = N - 1\n",
    "nst = 1\n",
    "row = 1\n",
    "val = 1\n",
    "while row <=N:\n",
    "    csp =1\n",
    "    while csp <= nsp:\n",
    "        print(\" \", end= \" \")\n",
    "        csp+= 1\n",
    "\n",
    "    cst = 1\n",
    "    while cst <= nst:\n",
    "        print(val, end = \" \")\n",
    "        cst += 1\n",
    "\n",
    "    nst += 2\n",
    "    nsp -= 1\n",
    "    row += 1\n",
    "    val += 1\n",
    "    print()"
   ]
  },
  {
   "cell_type": "code",
   "execution_count": 12,
   "id": "f458d6a7-1ba4-4b3f-b92d-de1fe58c1202",
   "metadata": {},
   "outputs": [
    {
     "name": "stdout",
     "output_type": "stream",
     "text": [
      "        1 \n",
      "      1 2 3 \n",
      "    1 2 3 4 5 \n",
      "  1 2 3 4 5 6 7 \n",
      "1 2 3 4 5 6 7 8 9 \n"
     ]
    }
   ],
   "source": [
    "N = 5\n",
    "nsp = N - 1\n",
    "nst = 1\n",
    "row = 1\n",
    "val = 1\n",
    "while row <=N:\n",
    "    csp =1\n",
    "    while csp <= nsp:\n",
    "        print(\" \", end= \" \")\n",
    "        csp+= 1\n",
    "\n",
    "    cst = 1\n",
    "    cval = 1\n",
    "    while cst <= nst:\n",
    "        print(cval, end = \" \")\n",
    "        cst += 1\n",
    "        cval+=1\n",
    "        \n",
    "\n",
    "    nst += 2\n",
    "    nsp -= 1\n",
    "    row += 1\n",
    "    print()"
   ]
  },
  {
   "cell_type": "code",
   "execution_count": 13,
   "id": "42ad6483-3ca9-4da6-8061-9587fffa1cfa",
   "metadata": {},
   "outputs": [
    {
     "name": "stdout",
     "output_type": "stream",
     "text": [
      "        1 \n",
      "      1 2 3 \n",
      "    1 2 3 4 5 \n",
      "  1 2 3 4 5 6 7 \n",
      "1 2 3 4 5 6 7 8 9 \n"
     ]
    }
   ],
   "source": [
    "#Q25\n",
    "n = 5\n",
    "nsp = n - 1\n",
    "nst = 1\n",
    "row = 1\n",
    "\n",
    "val = 1\n",
    "while row <= n:\n",
    "    csp = 1\n",
    "    while csp <= nsp:\n",
    "        print(\" \", end = \" \")\n",
    "        csp += 1\n",
    "        \n",
    "    cval = 1\n",
    "    while cval <= val:\n",
    "        print(cval, end = \" \")\n",
    "        cst += 1\n",
    "        cval += 1\n",
    "        \n",
    "    nsp -= 1\n",
    "    row += 1\n",
    "    val += 2\n",
    "    print()"
   ]
  },
  {
   "cell_type": "code",
   "execution_count": 20,
   "id": "e69f49b8-e1e7-45e4-beca-3ee1c84c06f2",
   "metadata": {},
   "outputs": [
    {
     "name": "stdout",
     "output_type": "stream",
     "text": [
      "        1 \n",
      "      2 3 4 \n",
      "    5 6 7 8 9 \n",
      "  10 11 12 13 14 15 16 \n",
      "17 18 19 20 21 22 23 24 25 \n"
     ]
    }
   ],
   "source": [
    "N = 5\n",
    "nsp = N - 1\n",
    "nst = 1\n",
    "row = 1\n",
    "val = 1\n",
    "while row <=N:\n",
    "    csp =1\n",
    "    while csp <= nsp:\n",
    "        print(\" \", end= \" \")\n",
    "        csp+= 1\n",
    "\n",
    "    cst = 1\n",
    "    cval = val\n",
    "    while cst <= nst:\n",
    "        print(cval, end = \" \")\n",
    "        cst += 1\n",
    "        cval+=1\n",
    "        \n",
    "\n",
    "    nst += 2\n",
    "    nsp -= 1\n",
    "    row += 1\n",
    "    val = cval\n",
    "    print()"
   ]
  },
  {
   "cell_type": "code",
   "execution_count": null,
   "id": "c8305742-d900-42aa-8501-c4e0e97e09f6",
   "metadata": {},
   "outputs": [],
   "source": [
    "#Q23\n",
    "n = 5\n",
    "nsp = n - 1\n",
    "nst = 1\n",
    "row = 1\n",
    "\n",
    "val = 1\n",
    "while row <= n:\n",
    "    csp = 1\n",
    "    while csp <= nsp:\n",
    "        print(\" \", end = \" \")\n",
    "        csp += 1\n",
    "    \n",
    "    cst = 1\n",
    "    cval = 1\n",
    "    while cst <= nst:\n",
    "        print(cval, end = \" \")\n",
    "        if cst <= nst // 2:\n",
    "            cval += 1\n",
    "        else:\n",
    "            cval -= 1\n",
    "        cst += 1\n",
    "\n",
    "    nst += 2\n",
    "    nsp -= 1\n",
    "    row += 1\n",
    "    print()"
   ]
  },
  {
   "cell_type": "code",
   "execution_count": 24,
   "id": "900c9875-34d7-4b09-9e3c-95ce29ae7d68",
   "metadata": {},
   "outputs": [
    {
     "name": "stdout",
     "output_type": "stream",
     "text": [
      "5 4 3 2 * \n",
      "5 4 3 * 1 \n",
      "5 4 * 2 1 \n",
      "5 * 3 2 1 \n",
      "* 4 3 2 1 \n"
     ]
    }
   ],
   "source": [
    "#31\n",
    "N = 5\n",
    "row = 1\n",
    "val = N\n",
    "nst = N\n",
    "while row <= N:\n",
    "    cval = val\n",
    "    cst = 1\n",
    "    while cst <= nst:\n",
    "        if row + cst == N+1:\n",
    "            print('*',end=\" \")\n",
    "        else:\n",
    "            \n",
    "            print(cval,end=\" \")\n",
    "        cval-= 1\n",
    "        cst+=1\n",
    "    row+=1\n",
    "    print()"
   ]
  },
  {
   "cell_type": "code",
   "execution_count": 12,
   "id": "48e75948-52dd-4089-9276-ed31a4d43595",
   "metadata": {},
   "outputs": [
    {
     "name": "stdout",
     "output_type": "stream",
     "text": [
      "            1 \n",
      "        2 1   1 2 \n",
      "    3 2 1       1 2 3 \n",
      "4 3 2 1           1 2 3 4 \n",
      "    3 2 1       1 2 3 \n",
      "        2 1   1 2 \n",
      "            1 \n"
     ]
    }
   ],
   "source": [
    "N = 7\n",
    "nsp1 = N -1\n",
    "nsp2 = -1\n",
    "nst = 1\n",
    "row = 1\n",
    "val = 1\n",
    "while row <= N:\n",
    "    csp1 = 1\n",
    "    \n",
    "    while csp1 <= nsp1:\n",
    "        print(\" \",end = \" \")\n",
    "        csp1 +=1\n",
    "        \n",
    "    cst = 1\n",
    "    cval = val\n",
    "    while cst <= nst:\n",
    "        print(cval,end = \" \")\n",
    "        cst+=1\n",
    "        cval-=1\n",
    "        \n",
    "    csp2 = 1\n",
    "    while csp2 <= nsp2:\n",
    "        print(\" \",end = \" \")\n",
    "        csp2+=1\n",
    "\n",
    "    cst = 1\n",
    "    if row == 1 or row == N:\n",
    "        cst = 2\n",
    "    cval = 1\n",
    "    while cst <= nst:\n",
    "        print(cval,end = \" \")\n",
    "        cst+=1\n",
    "        cval +=1\n",
    "\n",
    "    if row <= N//2:\n",
    "        nsp1 -= 2\n",
    "        nst += 1\n",
    "        nsp2 +=2\n",
    "        val += 1\n",
    "    else:\n",
    "        nsp1 += 2\n",
    "        nst -= 1\n",
    "        nsp2 -=2\n",
    "        val -= 1\n",
    "    row += 1\n",
    "    \n",
    "    print()\n",
    "    "
   ]
  },
  {
   "cell_type": "code",
   "execution_count": 13,
   "id": "f38f1113-d6f1-4c86-95db-119ef7f28cc7",
   "metadata": {},
   "outputs": [
    {
     "name": "stdout",
     "output_type": "stream",
     "text": [
      "*     * \n",
      "* *       * * \n",
      "* * *         * * * \n",
      "* * * *           * * * * \n",
      "* * * * *             * * * * * \n",
      "* * * *           * * * * \n",
      "* * *         * * * \n",
      "* *       * * \n",
      "*     * \n",
      "  \n",
      "  \n"
     ]
    }
   ],
   "source": [
    "N = 11\n",
    "nsp = N - 2\n",
    "nst = 1\n",
    "row = 1\n",
    "while row <= N:\n",
    "    cst = 1\n",
    "    while cst <= nst:\n",
    "        print('*',end=\" \")\n",
    "        cst+=1\n",
    "\n",
    "    csp = 1\n",
    "    while csp<= cst:\n",
    "        print(\" \",end=\" \")\n",
    "        csp+=1\n",
    "        \n",
    "    cst = 1\n",
    "    while cst <= nst:\n",
    "        print('*',end=\" \")\n",
    "        cst+=1\n",
    "\n",
    "    row +=1\n",
    "    if row <= N//2:\n",
    "        nst +=1\n",
    "        nsp -=2\n",
    "    else:\n",
    "        nst -=1\n",
    "        nsp +=2\n",
    "    print()\n",
    "        "
   ]
  },
  {
   "cell_type": "code",
   "execution_count": 1,
   "id": "0fa7204a-38c1-4530-a1f0-ba34fd400998",
   "metadata": {},
   "outputs": [
    {
     "name": "stdout",
     "output_type": "stream",
     "text": [
      "5                   5 \n",
      "5 4               4 5 \n",
      "5 4 3           3 4 5 \n",
      "5 4 3 2       2 3 4 5 \n",
      "5 4 3 2 1   1 2 3 4 5 \n",
      "5 4 3 2 1 0 1 2 3 4 5 \n",
      "5 4 3 2 1   1 2 3 4 5 \n",
      "5 4 3 2       2 3 4 5 \n",
      "5 4 3           3 4 5 \n",
      "5 4               4 5 \n",
      "5                   5 \n"
     ]
    }
   ],
   "source": [
    "N = 5\n",
    "nsp = 2*N -1\n",
    "nst = 1\n",
    "row = 1\n",
    "val = N\n",
    "while row <= 2*N+1:\n",
    "    cst = 1\n",
    "    cval = val\n",
    "    while cst <= nst:\n",
    "        print(cval,end=\" \")\n",
    "        cst+=1\n",
    "        cval -=1\n",
    "\n",
    "    csp = 1\n",
    "    while csp<= nsp:\n",
    "        print(\" \",end=\" \")\n",
    "        csp+=1\n",
    "        \n",
    "    cst = 1\n",
    "    cval += 1\n",
    "    if row == N +1:\n",
    "        cst = 2\n",
    "        cval += 1\n",
    "    while cst <= nst:\n",
    "        print(cval,end=\" \")\n",
    "        cst+=1\n",
    "        cval+=1\n",
    "\n",
    "    \n",
    "    if row <= N:\n",
    "        nst +=1\n",
    "        nsp -=2\n",
    "    else:\n",
    "        nst -=1\n",
    "        nsp +=2\n",
    "\n",
    "    row +=1\n",
    "    print()\n",
    "        "
   ]
  },
  {
   "cell_type": "markdown",
   "id": "1b148b0b-eee2-4cf9-bc1b-9a192d32bd3c",
   "metadata": {},
   "source": [
    "# functions\n"
   ]
  },
  {
   "cell_type": "markdown",
   "id": "95939cfe-0a8f-41c4-bfe3-43039e212dba",
   "metadata": {},
   "source": [
    "- reusability\n",
    "- modularity\n",
    "- readability\n",
    "- in python there are ony 2 things which are callable:\n",
    "-     - classes\n",
    "-     - functions\n",
    "- python m sb oops hota h to ye function bhi ek object h\n",
    "- fuction overloading vala concept nhi hota python m\n",
    "\n",
    "- \n",
    "  "
   ]
  },
  {
   "cell_type": "code",
   "execution_count": 2,
   "id": "ac62cc36-2ee8-4791-94a3-49f66c42680d",
   "metadata": {},
   "outputs": [
    {
     "name": "stdout",
     "output_type": "stream",
     "text": [
      "30\n"
     ]
    }
   ],
   "source": [
    "def add():\n",
    "    a= 10\n",
    "    b = 20\n",
    "    print(a + b)\n",
    "\n",
    "add()"
   ]
  },
  {
   "cell_type": "code",
   "execution_count": 3,
   "id": "f538ab29-6a46-469c-859f-cc032f1d8699",
   "metadata": {},
   "outputs": [
    {
     "name": "stdout",
     "output_type": "stream",
     "text": [
      "<function add at 0x105bcbec0> <class 'function'>\n"
     ]
    }
   ],
   "source": [
    "print(add,type(add))"
   ]
  },
  {
   "cell_type": "code",
   "execution_count": 4,
   "id": "174f6d43-778a-458c-8481-0d028f85ad16",
   "metadata": {},
   "outputs": [],
   "source": [
    "add = 10\n"
   ]
  },
  {
   "cell_type": "code",
   "execution_count": 5,
   "id": "d6097e51-6dcc-417b-9040-031dae1e97d2",
   "metadata": {},
   "outputs": [
    {
     "name": "stdout",
     "output_type": "stream",
     "text": [
      "10\n"
     ]
    }
   ],
   "source": [
    "print(add)"
   ]
  },
  {
   "cell_type": "code",
   "execution_count": 6,
   "id": "d762110b-38c8-4e17-bc32-68ccc49b81cc",
   "metadata": {},
   "outputs": [
    {
     "ename": "TypeError",
     "evalue": "'int' object is not callable",
     "output_type": "error",
     "traceback": [
      "\u001b[0;31m---------------------------------------------------------------------------\u001b[0m",
      "\u001b[0;31mTypeError\u001b[0m                                 Traceback (most recent call last)",
      "Cell \u001b[0;32mIn[6], line 1\u001b[0m\n\u001b[0;32m----> 1\u001b[0m \u001b[43madd\u001b[49m\u001b[43m(\u001b[49m\u001b[43m)\u001b[49m\n",
      "\u001b[0;31mTypeError\u001b[0m: 'int' object is not callable"
     ]
    }
   ],
   "source": [
    "add()\n",
    "#will show an error"
   ]
  },
  {
   "cell_type": "code",
   "execution_count": 7,
   "id": "c834df3c-f480-435e-9162-a5eeeff1853b",
   "metadata": {},
   "outputs": [
    {
     "data": {
      "text/plain": [
       "(-10, -10)"
      ]
     },
     "execution_count": 7,
     "metadata": {},
     "output_type": "execute_result"
    }
   ],
   "source": [
    "def sub(a,b,c,d):\n",
    "    return a-b, c-d\n",
    "sub(10,20,30,40)"
   ]
  },
  {
   "cell_type": "markdown",
   "id": "92e2f75a-0ca2-43ae-9be5-6f6e2ad60928",
   "metadata": {},
   "source": [
    "# function Docc"
   ]
  },
  {
   "cell_type": "code",
   "execution_count": 10,
   "id": "2145e4a7-11b0-40fb-87a9-085dddaf98d6",
   "metadata": {},
   "outputs": [
    {
     "data": {
      "text/plain": [
       "'this is a funct. docc'"
      ]
     },
     "execution_count": 10,
     "metadata": {},
     "output_type": "execute_result"
    }
   ],
   "source": [
    "def fn():\n",
    "    \"this is a funct. docc\"\n",
    "    a = 10\n",
    "    \n",
    "\n",
    "fn.__doc__"
   ]
  },
  {
   "cell_type": "code",
   "execution_count": 11,
   "id": "c6f65dec-8af1-4cc6-b46c-d8e92b80494a",
   "metadata": {},
   "outputs": [],
   "source": [
    "#shift tab\n",
    "fn()"
   ]
  },
  {
   "cell_type": "code",
   "execution_count": 12,
   "id": "0d23c0c4-50b1-4790-8a24-60e228ad9a41",
   "metadata": {},
   "outputs": [
    {
     "data": {
      "text/plain": [
       "\u001b[0;31mSignature:\u001b[0m \u001b[0mfn\u001b[0m\u001b[0;34m(\u001b[0m\u001b[0;34m)\u001b[0m\u001b[0;34m\u001b[0m\u001b[0;34m\u001b[0m\u001b[0m\n",
       "\u001b[0;31mDocstring:\u001b[0m this is a funct. docc\n",
       "\u001b[0;31mFile:\u001b[0m      /var/folders/z5/2d2c6k8d687gmgh3cz03y8qm0000gn/T/ipykernel_857/2420105877.py\n",
       "\u001b[0;31mType:\u001b[0m      function"
      ]
     },
     "metadata": {},
     "output_type": "display_data"
    }
   ],
   "source": [
    "fn?"
   ]
  },
  {
   "cell_type": "markdown",
   "id": "5ce0f91a-46ca-48e4-a48a-ab4856db548a",
   "metadata": {},
   "source": [
    "# types of arguments\n",
    "- positional args -> isme position k hisaaab se value dete h jha jha hmne parameter diye hote h ussi k acc. val. denge\n",
    "- keyword -> phle positional uske baad keyword...isme parameter ka naam likhkr value dete h (c = 10,d = 20)\n",
    "- default ->\n",
    "- hum function m ek slash / bhi lga skte h positional or keyword arguments ko separate krne k liye\n",
    "- or hum slash / k baad star * bhi likh skte h * k baad ka mtlv h ki compulsary keyword vale hi h parameter k naam k sath hi value deni pdegi"
   ]
  },
  {
   "cell_type": "code",
   "execution_count": 14,
   "id": "6a24e641-5284-418d-9d98-f4fd6b050fca",
   "metadata": {},
   "outputs": [
    {
     "data": {
      "text/plain": [
       "(-10, -10)"
      ]
     },
     "execution_count": 14,
     "metadata": {},
     "output_type": "execute_result"
    }
   ],
   "source": [
    "sub(10,20,c= 30, d= 40)\n"
   ]
  },
  {
   "cell_type": "code",
   "execution_count": 15,
   "id": "d6adfef8-62d8-4b82-8e57-c98c8aadb845",
   "metadata": {},
   "outputs": [
    {
     "data": {
      "text/plain": [
       "(-10, 10)"
      ]
     },
     "execution_count": 15,
     "metadata": {},
     "output_type": "execute_result"
    }
   ],
   "source": [
    "sub(10,20,d= 30, c= 40)"
   ]
  },
  {
   "cell_type": "code",
   "execution_count": 17,
   "id": "a165055e-e46a-42df-be30-12717bbd5673",
   "metadata": {},
   "outputs": [
    {
     "data": {
      "text/plain": [
       "(-10, 10)"
      ]
     },
     "execution_count": 17,
     "metadata": {},
     "output_type": "execute_result"
    }
   ],
   "source": [
    "def sub(a,b,/,c,d):\n",
    "    return a-b, c-d\n",
    "\n",
    "sub(10,20,d= 30, c= 40)"
   ]
  },
  {
   "cell_type": "code",
   "execution_count": 18,
   "id": "b6000ff7-17bb-46fa-a27b-7a2abbb85515",
   "metadata": {},
   "outputs": [
    {
     "ename": "TypeError",
     "evalue": "sub() got multiple values for argument 'c'",
     "output_type": "error",
     "traceback": [
      "\u001b[0;31m---------------------------------------------------------------------------\u001b[0m",
      "\u001b[0;31mTypeError\u001b[0m                                 Traceback (most recent call last)",
      "Cell \u001b[0;32mIn[18], line 1\u001b[0m\n\u001b[0;32m----> 1\u001b[0m \u001b[43msub\u001b[49m\u001b[43m(\u001b[49m\u001b[38;5;241;43m10\u001b[39;49m\u001b[43m,\u001b[49m\u001b[38;5;241;43m20\u001b[39;49m\u001b[43m,\u001b[49m\u001b[38;5;241;43m30\u001b[39;49m\u001b[43m,\u001b[49m\u001b[43m \u001b[49m\u001b[43mc\u001b[49m\u001b[38;5;241;43m=\u001b[39;49m\u001b[43m \u001b[49m\u001b[38;5;241;43m40\u001b[39;49m\u001b[43m)\u001b[49m\n",
      "\u001b[0;31mTypeError\u001b[0m: sub() got multiple values for argument 'c'"
     ]
    }
   ],
   "source": [
    "sub(10,20,30, c= 40)\n",
    "#positional shi se ni dia hua h"
   ]
  },
  {
   "cell_type": "code",
   "execution_count": 19,
   "id": "c445c011-8f39-456a-8237-23a041f2ac74",
   "metadata": {},
   "outputs": [
    {
     "data": {
      "text/plain": [
       "(-10, -10)"
      ]
     },
     "execution_count": 19,
     "metadata": {},
     "output_type": "execute_result"
    }
   ],
   "source": [
    "sub(10,20,30, d= 40)"
   ]
  },
  {
   "cell_type": "code",
   "execution_count": 20,
   "id": "0a3c4da2-bd13-45de-b43d-24df54bc0dce",
   "metadata": {},
   "outputs": [
    {
     "data": {
      "text/plain": [
       "(-10, 10)"
      ]
     },
     "execution_count": 20,
     "metadata": {},
     "output_type": "execute_result"
    }
   ],
   "source": [
    "def sub(a,b,/,*,c,d):\n",
    "    return a-b, c-d\n",
    "\n",
    "sub(10,20,d= 30, c= 40)"
   ]
  },
  {
   "cell_type": "code",
   "execution_count": 22,
   "id": "b4562437-424d-476b-91c8-d7cbeef4dbd8",
   "metadata": {},
   "outputs": [
    {
     "ename": "TypeError",
     "evalue": "sub() takes 2 positional arguments but 3 positional arguments (and 1 keyword-only argument) were given",
     "output_type": "error",
     "traceback": [
      "\u001b[0;31m---------------------------------------------------------------------------\u001b[0m",
      "\u001b[0;31mTypeError\u001b[0m                                 Traceback (most recent call last)",
      "Cell \u001b[0;32mIn[22], line 1\u001b[0m\n\u001b[0;32m----> 1\u001b[0m \u001b[43msub\u001b[49m\u001b[43m(\u001b[49m\u001b[38;5;241;43m10\u001b[39;49m\u001b[43m,\u001b[49m\u001b[38;5;241;43m20\u001b[39;49m\u001b[43m,\u001b[49m\u001b[38;5;241;43m30\u001b[39;49m\u001b[43m,\u001b[49m\u001b[43m \u001b[49m\u001b[43md\u001b[49m\u001b[38;5;241;43m=\u001b[39;49m\u001b[43m \u001b[49m\u001b[38;5;241;43m40\u001b[39;49m\u001b[43m)\u001b[49m\n\u001b[1;32m      2\u001b[0m \u001b[38;5;66;03m#positional to shi se kia h but star * lga h defination m to uski vjh se uske baad vale sirf keyword hi bnaenge\u001b[39;00m\n",
      "\u001b[0;31mTypeError\u001b[0m: sub() takes 2 positional arguments but 3 positional arguments (and 1 keyword-only argument) were given"
     ]
    }
   ],
   "source": [
    "sub(10,20,30, d= 40)\n",
    "#positional to shi se kia h but star * lga h defination m to uski vjh se uske baad vale sirf keyword hi bnaenge"
   ]
  },
  {
   "cell_type": "code",
   "execution_count": 23,
   "id": "aac66788-55d1-4de4-9f47-741c0079d5a6",
   "metadata": {},
   "outputs": [],
   "source": [
    "\"\"\" Type Hints \"\"\"\n",
    "def fn(a : int, b :int = 100) -> int:\n",
    "    print(a + b)"
   ]
  },
  {
   "cell_type": "markdown",
   "id": "4a835d38-4ca9-4356-a5f1-17f32bc601a8",
   "metadata": {},
   "source": [
    "# lambda function\n",
    "- lambda a,b(parameters vali value) : a+b(return vali value)\n",
    "- - use case\n",
    "  - polymorphism"
   ]
  },
  {
   "cell_type": "code",
   "execution_count": 25,
   "id": "146c8d0d-5f8b-42bd-85cd-2df799f29c48",
   "metadata": {},
   "outputs": [
    {
     "data": {
      "text/plain": [
       "30"
      ]
     },
     "execution_count": 25,
     "metadata": {},
     "output_type": "execute_result"
    }
   ],
   "source": [
    "xyz = lambda a,b : a+b\n",
    "xyz(10,20)"
   ]
  },
  {
   "cell_type": "code",
   "execution_count": 28,
   "id": "96f85eae-a767-467f-857b-9df90b45881c",
   "metadata": {},
   "outputs": [],
   "source": [
    "# polymorphism\n",
    "def cal(a,b,op):\n",
    "    return op(a,b)"
   ]
  },
  {
   "cell_type": "code",
   "execution_count": 29,
   "id": "80ae753e-3fab-4795-93a0-296f3821edd3",
   "metadata": {},
   "outputs": [
    {
     "data": {
      "text/plain": [
       "30"
      ]
     },
     "execution_count": 29,
     "metadata": {},
     "output_type": "execute_result"
    }
   ],
   "source": [
    "def add(a,b):\n",
    "    return a+b\n",
    "def sub(a,b):\n",
    "    return a - b\n",
    "\n",
    "cal(10,20,add)"
   ]
  },
  {
   "cell_type": "code",
   "execution_count": 31,
   "id": "9feb2208-3b68-45a5-9422-b89401fa92e5",
   "metadata": {},
   "outputs": [
    {
     "data": {
      "text/plain": [
       "(200, 0.5)"
      ]
     },
     "execution_count": 31,
     "metadata": {},
     "output_type": "execute_result"
    }
   ],
   "source": [
    "# now using lambda for polymorphism\n",
    "cal(10,20,lambda x,y : (x*y, x/y))"
   ]
  },
  {
   "cell_type": "markdown",
   "id": "a870961f-a84b-466d-a315-664f957b1b1f",
   "metadata": {},
   "source": [
    "# recursion"
   ]
  },
  {
   "cell_type": "code",
   "execution_count": 33,
   "id": "daa3fdea-485c-4e01-9003-82552bffbd18",
   "metadata": {},
   "outputs": [],
   "source": [
    "def fact(x):\n",
    "    if x == 1:\n",
    "        return 1\n",
    "    return x*fact(x-1)"
   ]
  },
  {
   "cell_type": "code",
   "execution_count": 36,
   "id": "0535c6d6-7b83-4f51-9f2e-f0f29f2dbfe1",
   "metadata": {},
   "outputs": [
    {
     "data": {
      "text/plain": [
       "3628800"
      ]
     },
     "execution_count": 36,
     "metadata": {},
     "output_type": "execute_result"
    }
   ],
   "source": [
    "fact(10)"
   ]
  },
  {
   "cell_type": "code",
   "execution_count": 39,
   "id": "e2726b52-5d2c-4ea4-8ee2-ef35e053e2dc",
   "metadata": {},
   "outputs": [
    {
     "name": "stdin",
     "output_type": "stream",
     "text": [
      " 1\n",
      " 1000\n"
     ]
    },
    {
     "name": "stdout",
     "output_type": "stream",
     "text": [
      "1\n",
      "2\n",
      "3\n",
      "4\n",
      "5\n",
      "6\n",
      "7\n",
      "8\n",
      "9\n",
      "153\n",
      "370\n",
      "371\n",
      "407\n"
     ]
    }
   ],
   "source": [
    "#print armstrong number feom 1 to 1000\n",
    "def nod(N):\n",
    "    count = 0\n",
    "    temp = N\n",
    "    while temp > 0:\n",
    "        temp //= 10\n",
    "        count+=1\n",
    "    return count\n",
    "\n",
    "def arm(N):\n",
    "    count = nod(N)\n",
    "    temp = N\n",
    "    sum = 0\n",
    "    while temp >0:\n",
    "        r =temp%10\n",
    "        temp //= 10\n",
    "        sum += r**count\n",
    "    if sum == N:\n",
    "        return True\n",
    "    else:\n",
    "        return False\n",
    "\n",
    "strt = int(input())\n",
    "end = int(input())\n",
    "for i in range(strt,end):\n",
    "    if arm(i) == True:\n",
    "        print(i)\n",
    "        \n",
    "        \n",
    "    "
   ]
  },
  {
   "cell_type": "code",
   "execution_count": 2,
   "id": "84b15db3-1352-478c-b0c9-6bf8dfe3b069",
   "metadata": {},
   "outputs": [
    {
     "name": "stdout",
     "output_type": "stream",
     "text": [
      "Not Found\n"
     ]
    }
   ],
   "source": [
    "#college code\n",
    "m = {'a': 1,'b': 2}\n",
    "print(m.get('c','Not Found'))"
   ]
  },
  {
   "cell_type": "code",
   "execution_count": 1,
   "id": "5068ebc3-7e12-47ff-a29c-8a1039d1b4ea",
   "metadata": {},
   "outputs": [
    {
     "name": "stdout",
     "output_type": "stream",
     "text": [
      "(1, 1, 2, 3, 4, 5, 6) <class 'tuple'>\n"
     ]
    }
   ],
   "source": [
    "#star lgane se hum jitne bhi input denge vo tuple bnke store hojayenge\n",
    "def fn(*args):\n",
    "    print(args,type(args))\n",
    "fn(1,1,2,3,4,5,6)"
   ]
  },
  {
   "cell_type": "code",
   "execution_count": 2,
   "id": "99a4a97d-f42c-4df2-baf3-9ca81a92c9db",
   "metadata": {},
   "outputs": [
    {
     "name": "stdout",
     "output_type": "stream",
     "text": [
      "(2, 3, 4, 5, 6) <class 'tuple'>\n"
     ]
    }
   ],
   "source": [
    "def fn(a,b,*args):\n",
    "    print(args,type(args))\n",
    "fn(1,1,2,3,4,5,6)"
   ]
  },
  {
   "cell_type": "code",
   "execution_count": 4,
   "id": "fe9f3195-5f07-4b0d-9983-16bf7ec786d5",
   "metadata": {},
   "outputs": [
    {
     "name": "stdout",
     "output_type": "stream",
     "text": [
      "(2, 3, 4, 5, 6) <class 'tuple'>\n",
      "10\n"
     ]
    }
   ],
   "source": [
    "def fn(a,b,*args,c):\n",
    "    print(args,type(args))\n",
    "    print(c)\n",
    "fn(1,1,2,3,4,5,6,c = 10)"
   ]
  },
  {
   "cell_type": "code",
   "execution_count": 6,
   "id": "06cf27e0-11f6-4c67-8ee5-0d2cc404778b",
   "metadata": {},
   "outputs": [
    {
     "name": "stdout",
     "output_type": "stream",
     "text": [
      "{'a': 1, 'b': 1, 'c': 2, 'd': 3, 'e': 4} <class 'dict'>\n"
     ]
    }
   ],
   "source": [
    "#double star lgayenge to keyword argument bnjayega\n",
    "def fn(**kargs):\n",
    "    print(kargs,type(kargs))\n",
    "fn(a = 1,b=1,c=2,d=3,e=4)"
   ]
  },
  {
   "cell_type": "code",
   "execution_count": 7,
   "id": "247f609e-0ac5-46f4-ba55-bc5b0e9d95fb",
   "metadata": {},
   "outputs": [
    {
     "ename": "SyntaxError",
     "evalue": "arguments cannot follow var-keyword argument (4115078406.py, line 1)",
     "output_type": "error",
     "traceback": [
      "\u001b[0;36m  Cell \u001b[0;32mIn[7], line 1\u001b[0;36m\u001b[0m\n\u001b[0;31m    def fn(**kargs,d):\u001b[0m\n\u001b[0m                   ^\u001b[0m\n\u001b[0;31mSyntaxError\u001b[0m\u001b[0;31m:\u001b[0m arguments cannot follow var-keyword argument\n"
     ]
    }
   ],
   "source": [
    "#kargs hmesha last m hone chiye ni to error show hoga\n",
    "def fn(**kargs,d):\n",
    "    print(kargs,type(kargs))\n",
    "fn(a = 1,b=1,c=2,d=3,e=4)"
   ]
  },
  {
   "cell_type": "code",
   "execution_count": 8,
   "id": "12c14ea7-fa8f-4951-aa92-40205545e345",
   "metadata": {},
   "outputs": [],
   "source": [
    "d = {'a':10,'b':20,'c':30} "
   ]
  },
  {
   "cell_type": "code",
   "execution_count": 10,
   "id": "9b376dae-486b-40e8-bdd7-36006ac03bee",
   "metadata": {},
   "outputs": [
    {
     "ename": "TypeError",
     "evalue": "fn() got an unexpected keyword argument 'c'",
     "output_type": "error",
     "traceback": [
      "\u001b[0;31m---------------------------------------------------------------------------\u001b[0m",
      "\u001b[0;31mTypeError\u001b[0m                                 Traceback (most recent call last)",
      "Cell \u001b[0;32mIn[10], line 3\u001b[0m\n\u001b[1;32m      1\u001b[0m \u001b[38;5;28;01mdef\u001b[39;00m\u001b[38;5;250m \u001b[39m\u001b[38;5;21mfn\u001b[39m(a,b):\n\u001b[1;32m      2\u001b[0m     \u001b[38;5;28mprint\u001b[39m(a,b)\n\u001b[0;32m----> 3\u001b[0m \u001b[43mfn\u001b[49m\u001b[43m(\u001b[49m\u001b[38;5;241;43m*\u001b[39;49m\u001b[38;5;241;43m*\u001b[39;49m\u001b[43md\u001b[49m\u001b[43m)\u001b[49m\n",
      "\u001b[0;31mTypeError\u001b[0m: fn() got an unexpected keyword argument 'c'"
     ]
    }
   ],
   "source": [
    "#d k andr 3 value h or funct. m only 2 parame4ter to ye error show krega\n",
    "def fn(a,b):\n",
    "    print(a,b)\n",
    "fn(**d)"
   ]
  },
  {
   "cell_type": "code",
   "execution_count": 11,
   "id": "77d5b1eb-5f8f-4b05-a05d-25d594ea2681",
   "metadata": {},
   "outputs": [],
   "source": [
    "def printHi():\n",
    "    print(\"Hi\")\n"
   ]
  },
  {
   "cell_type": "code",
   "execution_count": 13,
   "id": "cba69e6d-7b9b-47f5-bab5-124a3acb5bc8",
   "metadata": {},
   "outputs": [],
   "source": [
    "user= {\n",
    "    'aayus' : 1234,\n",
    "    'aayu' : 123}"
   ]
  },
  {
   "cell_type": "code",
   "execution_count": 14,
   "id": "387aa139-a0b6-49cc-ba2d-5507d0eb535b",
   "metadata": {},
   "outputs": [
    {
     "name": "stdout",
     "output_type": "stream",
     "text": [
      "Wrong username or password\n"
     ]
    }
   ],
   "source": [
    "def add(a,b,c):\n",
    "    return a+b+c\n",
    "def protectedADD(username,password,*args,**kwargs):\n",
    "    if username in user and password==user[username]:\n",
    "        return add(*args,**kwargs)\n",
    "    else:\n",
    "        print(\"Wrong username or password\")\n",
    "protectedADD(\"Shubham\",1234,10,20,c=30)"
   ]
  },
  {
   "cell_type": "code",
   "execution_count": 15,
   "id": "795ad230-a7fe-449d-9c3b-a724392dd5cc",
   "metadata": {},
   "outputs": [
    {
     "data": {
      "text/plain": [
       "60"
      ]
     },
     "execution_count": 15,
     "metadata": {},
     "output_type": "execute_result"
    }
   ],
   "source": [
    "def add(a,b,c):\n",
    "    return a+b+c\n",
    "def protectedADD(username,password,*args,**kwargs):\n",
    "    if username in user and password==user[username]:\n",
    "        return add(*args,**kwargs)\n",
    "    else:\n",
    "        print(\"Wrong username or password\")\n",
    "protectedADD(\"aayus\",1234,10,20,c=30)"
   ]
  },
  {
   "cell_type": "code",
   "execution_count": 16,
   "id": "f0d610c8-7ab6-4d84-98ff-1983f3ee621a",
   "metadata": {},
   "outputs": [],
   "source": [
    "def authenticate(fn):\n",
    "    \n",
    "    def wrapper(username,password,*args,**kwargs):\n",
    "        if username in user and password==user[username]:\n",
    "            return fn(*args,**kwargs)\n",
    "        else:\n",
    "            print(\"Wrong username or password\")\n",
    "    return wrapper"
   ]
  },
  {
   "cell_type": "code",
   "execution_count": 17,
   "id": "e7e835e8-334b-4b07-a24f-d4f1ecba6898",
   "metadata": {},
   "outputs": [],
   "source": [
    "def prod(a,b,c):\n",
    "    return a*b*c\n",
    "\n",
    "prod = authenticate(prod)"
   ]
  },
  {
   "cell_type": "code",
   "execution_count": 18,
   "id": "c68bb96e-a03f-4ab5-9ac0-8e5ca193cbbc",
   "metadata": {},
   "outputs": [
    {
     "data": {
      "text/plain": [
       "6000"
      ]
     },
     "execution_count": 18,
     "metadata": {},
     "output_type": "execute_result"
    }
   ],
   "source": [
    "prod('aayus',1234,10,20,30)"
   ]
  },
  {
   "cell_type": "code",
   "execution_count": 19,
   "id": "d47dcbda-8728-48ca-a566-cd325a6a55b6",
   "metadata": {},
   "outputs": [],
   "source": [
    "@authenticate\n",
    "def abc():\n",
    "    print('xyz')\n",
    "\n",
    "#abc = authenticate(abc)"
   ]
  },
  {
   "cell_type": "code",
   "execution_count": 20,
   "id": "dc46fe59-bb37-4695-861f-821c9f3d76a6",
   "metadata": {},
   "outputs": [
    {
     "name": "stdout",
     "output_type": "stream",
     "text": [
      "xyz\n"
     ]
    }
   ],
   "source": [
    "abc('aayus',1234)"
   ]
  },
  {
   "cell_type": "code",
   "execution_count": null,
   "id": "bb1f573b-ff3b-4c8b-97b6-5edcdde82be8",
   "metadata": {},
   "outputs": [],
   "source": []
  },
  {
   "cell_type": "code",
   "execution_count": null,
   "id": "e7b35b27-1174-4f83-8f0e-1d5c3b4399d5",
   "metadata": {},
   "outputs": [],
   "source": []
  },
  {
   "cell_type": "code",
   "execution_count": null,
   "id": "765fb427-8b13-4e7c-8863-bec0ef68b0b3",
   "metadata": {},
   "outputs": [],
   "source": []
  },
  {
   "cell_type": "code",
   "execution_count": 22,
   "id": "6736e8d5-2c36-492d-b45a-8a53b98c18c2",
   "metadata": {},
   "outputs": [],
   "source": [
    " def iterx(start,stop,step = 1):\n",
    "     i = start\n",
    "     while i < stop:\n",
    "         yield i\n",
    "         i+= step"
   ]
  },
  {
   "cell_type": "code",
   "execution_count": 29,
   "id": "a5a53778-5538-4055-8dea-247f2b22edbc",
   "metadata": {},
   "outputs": [],
   "source": [
    "i = iterx(1,10)"
   ]
  },
  {
   "cell_type": "code",
   "execution_count": 25,
   "id": "bc56c77a-703a-4e75-806f-1cb67e36ccac",
   "metadata": {},
   "outputs": [
    {
     "name": "stdout",
     "output_type": "stream",
     "text": [
      "<generator object iterx at 0x1063e8a00>\n"
     ]
    }
   ],
   "source": [
    "print(i)"
   ]
  },
  {
   "cell_type": "code",
   "execution_count": 26,
   "id": "22a69eb3-f7bb-43e8-bdcb-ba28ea2741e9",
   "metadata": {},
   "outputs": [
    {
     "data": {
      "text/plain": [
       "1"
      ]
     },
     "execution_count": 26,
     "metadata": {},
     "output_type": "execute_result"
    }
   ],
   "source": [
    "next(i)"
   ]
  },
  {
   "cell_type": "code",
   "execution_count": 30,
   "id": "e24aee3d-96d4-4998-ae66-2a39690a5c73",
   "metadata": {},
   "outputs": [
    {
     "name": "stdout",
     "output_type": "stream",
     "text": [
      "1\n",
      "2\n",
      "3\n",
      "4\n",
      "5\n",
      "6\n",
      "7\n",
      "8\n",
      "9\n"
     ]
    }
   ],
   "source": [
    "for n in i:\n",
    "       print(n)\n"
   ]
  },
  {
   "cell_type": "code",
   "execution_count": null,
   "id": "d3f46266-ae13-4344-b43b-dcb514af7dd8",
   "metadata": {},
   "outputs": [],
   "source": []
  }
 ],
 "metadata": {
  "kernelspec": {
   "display_name": "Python 3 (ipykernel)",
   "language": "python",
   "name": "python3"
  },
  "language_info": {
   "codemirror_mode": {
    "name": "ipython",
    "version": 3
   },
   "file_extension": ".py",
   "mimetype": "text/x-python",
   "name": "python",
   "nbconvert_exporter": "python",
   "pygments_lexer": "ipython3",
   "version": "3.13.3"
  }
 },
 "nbformat": 4,
 "nbformat_minor": 5
}
