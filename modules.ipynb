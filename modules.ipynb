{
 "cells": [
  {
   "cell_type": "markdown",
   "id": "737f2e22-53f4-4923-8f3a-f3a82699d176",
   "metadata": {},
   "source": [
    "# functions\n"
   ]
  },
  {
   "cell_type": "code",
   "execution_count": 2,
   "id": "ea84bd4e-0d75-4e60-a4e9-c73cdd2e86fe",
   "metadata": {},
   "outputs": [
    {
     "data": {
      "text/plain": [
       "False"
      ]
     },
     "execution_count": 2,
     "metadata": {},
     "output_type": "execute_result"
    }
   ],
   "source": [
    "all([True,0, 'as',3])\n",
    "# give true if all elements re true"
   ]
  },
  {
   "cell_type": "code",
   "execution_count": 1,
   "id": "43efa948-6f56-4b00-82ff-6eb81cfb40eb",
   "metadata": {},
   "outputs": [
    {
     "data": {
      "text/plain": [
       "True"
      ]
     },
     "execution_count": 1,
     "metadata": {},
     "output_type": "execute_result"
    }
   ],
   "source": [
    "any([0,True])\n",
    "# ek bhi true h to true dedegA"
   ]
  },
  {
   "cell_type": "code",
   "execution_count": 5,
   "id": "b6eb76ae-9d95-48a1-87de-b5e731098bac",
   "metadata": {},
   "outputs": [
    {
     "data": {
      "text/plain": [
       "(3, 1)"
      ]
     },
     "execution_count": 5,
     "metadata": {},
     "output_type": "execute_result"
    }
   ],
   "source": [
    "divmod(10,3)\n",
    "# division or mod dono dedet h"
   ]
  },
  {
   "cell_type": "code",
   "execution_count": 8,
   "id": "e64ca9a6-ddf5-44b3-9af1-f66a12196782",
   "metadata": {},
   "outputs": [
    {
     "name": "stdout",
     "output_type": "stream",
     "text": [
      "(0, 12)\n",
      "(1, 23)\n",
      "(2, 34)\n",
      "(3, 45)\n",
      "(4, 56)\n"
     ]
    }
   ],
   "source": [
    "#enumerate = range kijgah isse use kr skte h agr index or value dono chize eksth chahiye ho to\n",
    "l = [12,23,34,45,56]\n",
    "enumerate(l)\n",
    "for t in enumerate(l):\n",
    "    print(t)"
   ]
  },
  {
   "cell_type": "code",
   "execution_count": 10,
   "id": "7babd71a-249f-49d1-8f89-7051fd8ccdd8",
   "metadata": {},
   "outputs": [
    {
     "name": "stdout",
     "output_type": "stream",
     "text": [
      "1 12\n",
      "2 23\n",
      "3 34\n",
      "4 45\n",
      "5 56\n"
     ]
    }
   ],
   "source": [
    "#enumerate = range kijgah isse use kr skte h agr index or value dono chize eksth chahiye ho to\n",
    "l = [12,23,34,45,56]\n",
    "enumerate(l)\n",
    "for t,e in enumerate(l,1): #agr sth 1 likha h to mtls indexing 1 se start hoyegi\n",
    "    print(t,e)"
   ]
  },
  {
   "cell_type": "code",
   "execution_count": 4,
   "id": "62c43ed8-f2c7-419b-ae8e-de9d09c907e2",
   "metadata": {},
   "outputs": [
    {
     "data": {
      "text/plain": [
       "[10, 20, 30, 40, 50, 60, 70, 80, 90]"
      ]
     },
     "execution_count": 4,
     "metadata": {},
     "output_type": "execute_result"
    }
   ],
   "source": [
    "l = [i*10 for i in range(1,10)]\n",
    "l\n",
    "     "
   ]
  },
  {
   "cell_type": "code",
   "execution_count": 20,
   "id": "317eca9e-6d83-4924-9b6f-812a64016309",
   "metadata": {},
   "outputs": [
    {
     "name": "stdout",
     "output_type": "stream",
     "text": [
      "40\n",
      "50\n",
      "60\n",
      "70\n",
      "80\n"
     ]
    }
   ],
   "source": [
    "# ab l list ko to hum values de chuke but usme se iterable inalne k liye hum filter function ka use krenge\n",
    "nl = list()\n",
    "for i in filter(lambda x: 30 < x <= 80,l):\n",
    "    print(i)"
   ]
  },
  {
   "cell_type": "code",
   "execution_count": 13,
   "id": "df957b67-dcdd-4e91-93d2-bf9d0f4e4d0d",
   "metadata": {},
   "outputs": [
    {
     "name": "stdout",
     "output_type": "stream",
     "text": [
      "[(23, 34), (12, 35), (23, 56)]\n",
      "34\n",
      "35\n",
      "56\n"
     ]
    }
   ],
   "source": [
    "l = [(1,10),(23,34),(12,35),(23,56)]\n",
    "nl = list(filter(lambda x: 20 < x[1] <= 100,l))\n",
    "print(nl)\n",
    "for i in nl:\n",
    "    print(i[1])\n",
    "    "
   ]
  },
  {
   "cell_type": "code",
   "execution_count": 16,
   "id": "0c604a06-2a48-45e5-8f32-a1bcf6087e51",
   "metadata": {},
   "outputs": [
    {
     "data": {
      "text/plain": [
       "False"
      ]
     },
     "execution_count": 16,
     "metadata": {},
     "output_type": "execute_result"
    }
   ],
   "source": [
    "# isinstance is a function which checks whether the datatype is right or not\n",
    "a = 'b'\n",
    "isinstance(a,int)"
   ]
  },
  {
   "cell_type": "code",
   "execution_count": 26,
   "id": "90ef8821-a2c5-4bc7-abb1-94ef09333172",
   "metadata": {},
   "outputs": [
    {
     "name": "stdout",
     "output_type": "stream",
     "text": [
      "11\n",
      "57\n",
      "47\n",
      "79\n"
     ]
    }
   ],
   "source": [
    "#map - iske loop ki working bhi filter ki trh hi h but usme hum check krte h\n",
    "#or true hone p print krvate h but isme hum function ko  hrr \n",
    "#hrr element p work krvake output lete h\n",
    "l = [(1,10),(23,34),(12,35),(23,56)]\n",
    "for i in map(lambda x: x[0] + x[1],l):\n",
    "    print(i)"
   ]
  },
  {
   "cell_type": "code",
   "execution_count": 32,
   "id": "11a80374-bbdf-4684-817b-657130a6d750",
   "metadata": {},
   "outputs": [
    {
     "name": "stdout",
     "output_type": "stream",
     "text": [
      "7\n",
      "1\n"
     ]
    }
   ],
   "source": [
    "#reduce- iss function ko use krke hum kisi bhi function ko use krke sare elements  p work krvake k common answer nikaal skte h\n",
    "from functools import reduce\n",
    "print(reduce(max,[1,2,3,4,5,6,7]))\n",
    "print(reduce(min,[1,2,3,4,5,6,7]))\n"
   ]
  },
  {
   "cell_type": "code",
   "execution_count": 33,
   "id": "97036b4a-35fe-4f82-9c92-bb96417ad0cc",
   "metadata": {},
   "outputs": [],
   "source": [
    "class car:\n",
    "    def __init__(self,model,color,speed):\n",
    "        self.model = model\n",
    "        self.color = color\n",
    "        self.speed = speed\n",
    "\n",
    "    def __len__(self):  # len, add and init  are dunders\n",
    "        return self.speed\n",
    "\n",
    "    def __add__(self,oth):  # len, add and init  are dunders\n",
    "        return car(self.model,oth.color,self.speed + oth.speed)\n",
    "\n",
    "    def __str__(self):  # string dunder h jo print command p string print krvayega\n",
    "        return  f\"model : {self.model}, color : {self.color}, speed: {self.speed}\"\n",
    "        "
   ]
  },
  {
   "cell_type": "code",
   "execution_count": 40,
   "id": "3bcf6f96-8b0c-4449-9427-5ea4378495bb",
   "metadata": {},
   "outputs": [
    {
     "name": "stdout",
     "output_type": "stream",
     "text": [
      "model : tata, color : black, speed: 30\n",
      "model : RR, color : black, speed: 40\n",
      "model : toyota, color : white, speed: 50\n"
     ]
    }
   ],
   "source": [
    "c1 = car(\"toyota\", \"white\" , 50)\n",
    "c2 = car(\"tata\", \"black\" , 30)\n",
    "c3 = car(\"RR\", \"black\" , 40)\n",
    "c = [c1,c2,c3]\n",
    "c = sorted(c,key = lambda x : x.speed)\n",
    "for i in c:\n",
    "    print(i)\n"
   ]
  },
  {
   "cell_type": "markdown",
   "id": "6e9137da-cf55-418c-beb3-5873c14c26db",
   "metadata": {},
   "source": [
    "# Modules"
   ]
  },
  {
   "cell_type": "code",
   "execution_count": 41,
   "id": "c8742e09-4d2a-42ef-9748-5e3fb6af544c",
   "metadata": {},
   "outputs": [],
   "source": [
    "import math"
   ]
  },
  {
   "cell_type": "code",
   "execution_count": null,
   "id": "bab8c18e-1875-4dff-8bfd-de9bb7cd8287",
   "metadata": {},
   "outputs": [],
   "source": []
  }
 ],
 "metadata": {
  "kernelspec": {
   "display_name": "Python 3 (ipykernel)",
   "language": "python",
   "name": "python3"
  },
  "language_info": {
   "codemirror_mode": {
    "name": "ipython",
    "version": 3
   },
   "file_extension": ".py",
   "mimetype": "text/x-python",
   "name": "python",
   "nbconvert_exporter": "python",
   "pygments_lexer": "ipython3",
   "version": "3.13.3"
  }
 },
 "nbformat": 4,
 "nbformat_minor": 5
}
