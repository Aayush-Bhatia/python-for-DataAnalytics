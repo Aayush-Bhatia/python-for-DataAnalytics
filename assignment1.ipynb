{
 "cells": [
  {
   "cell_type": "code",
   "execution_count": 23,
   "id": "774cb87c-c087-414b-817f-8a447ab9121f",
   "metadata": {},
   "outputs": [
    {
     "name": "stdin",
     "output_type": "stream",
     "text": [
      " 4\n"
     ]
    },
    {
     "name": "stdout",
     "output_type": "stream",
     "text": [
      "0\n",
      "4\n"
     ]
    }
   ],
   "source": [
    "#SUm OFF odd and even index of the  digit\n",
    "n = int(input())\n",
    "i = 0\n",
    "temp = n\n",
    "even,odd = 0,0\n",
    "while(i < n):\n",
    "    if(i%2 == 0):\n",
    "        even += temp%10\n",
    "        \n",
    "    else:\n",
    "        odd += temp%10\n",
    "    \n",
    "    temp //= 10\n",
    "    i += 1\n",
    "\n",
    "print(odd)\n",
    "print(even)\n"
   ]
  },
  {
   "cell_type": "code",
   "execution_count": null,
   "id": "fcf0f31a-db54-4459-bc83-cbcf92099acc",
   "metadata": {},
   "outputs": [],
   "source": [
    "#prime no.s btw 1 to 100\n",
    "def check_prime(n):\n",
    "    b = True\n",
    "    i = 2\n",
    "    while i*i <= n:\n",
    "        if n%i == 0:\n",
    "            b = False\n",
    "            break\n",
    "        i += 1\n",
    "    return b\n",
    "\n",
    "\n",
    "a = int(input())\n",
    "j = 2\n",
    "while(j <= a):\n",
    "    c = check_prime(j)\n",
    "    if c:\n",
    "        print(j)\n",
    "\n",
    "    j += 1"
   ]
  },
  {
   "cell_type": "code",
   "execution_count": 4,
   "id": "e5ebb422-e981-411a-9797-40ddcad4ff13",
   "metadata": {},
   "outputs": [
    {
     "name": "stdout",
     "output_type": "stream",
     "text": [
      "5 4 3 2 * \n",
      "5 4 3 * 1 \n",
      "5 4 * 2 1 \n",
      "5 * 3 2 1 \n",
      "* 4 3 2 1 \n"
     ]
    }
   ],
   "source": [
    "#31\n",
    "N = 5\n",
    "row = 1\n",
    "val = N\n",
    "nst = N\n",
    "while row <= N:\n",
    "    cval = val\n",
    "    cst = 1\n",
    "    while cst <= nst:\n",
    "        if row + cst == N+1:\n",
    "            print('*',end=\" \")\n",
    "        else:\n",
    "            \n",
    "            print(cval,end=\" \")\n",
    "        cval-= 1\n",
    "        cst+=1\n",
    "    row+=1\n",
    "    print()"
   ]
  },
  {
   "cell_type": "code",
   "execution_count": 11,
   "id": "ff89de65-e79e-4113-98b8-58b5c2730c5e",
   "metadata": {},
   "outputs": [
    {
     "name": "stdin",
     "output_type": "stream",
     "text": [
      " 7\n"
     ]
    },
    {
     "name": "stdout",
     "output_type": "stream",
     "text": [
      "* * * * * * * \n",
      "* * *   * * * \n",
      "* *       * * \n",
      "*           * \n",
      "* *       * * \n",
      "* * *   * * * \n",
      "* * * * * * * \n"
     ]
    }
   ],
   "source": [
    "N = int(input())\n",
    "nst = N//2 + 1\n",
    "nsp = -1\n",
    "row = 1\n",
    "while row <= N:\n",
    "    cst = 1\n",
    "    while cst <= nst:\n",
    "        print('*',end =\" \")\n",
    "        cst+=1\n",
    "    \n",
    "    csp = 1\n",
    "    while csp <= nsp:\n",
    "        print(' ',end = \" \")\n",
    "        csp+=1\n",
    "\n",
    "    cst = 1\n",
    "    if row == 1 or row == N:\n",
    "        cst = 2\n",
    "    while cst <= nst:\n",
    "        print('*',end =\" \")\n",
    "        cst+=1\n",
    "\n",
    "    row+=1\n",
    "    if row <= N//2+1:\n",
    "        nst -=1\n",
    "        nsp+=2\n",
    "    else:\n",
    "        nst +=1\n",
    "        nsp-=2\n",
    "\n",
    "    print()"
   ]
  },
  {
   "cell_type": "code",
   "execution_count": 23,
   "id": "863de6c8-519a-4ed3-a35e-69060fc8190d",
   "metadata": {},
   "outputs": [
    {
     "name": "stdin",
     "output_type": "stream",
     "text": [
      " 5\n"
     ]
    },
    {
     "name": "stdout",
     "output_type": "stream",
     "text": [
      "        1 \n",
      "      2 3 2 \n",
      "    3 4 5 4 3 \n",
      "  4 5 6 7 6 5 4 \n",
      "5 6 7 8 9 8 7 6 5 \n"
     ]
    }
   ],
   "source": [
    "N = int(input())\n",
    "nst = 1\n",
    "nsp = N-1\n",
    "row = 1\n",
    "val = 1\n",
    "while row <= N:\n",
    "    csp = 1\n",
    "    while csp <= nsp:\n",
    "        print(' ',end=' ')\n",
    "        csp+=1\n",
    "    cval = val\n",
    "    cst = 1\n",
    "    while cst <= nst:\n",
    "        print(cval,end=' ')\n",
    "        cst+=1\n",
    "        if cst<= nst//2 +1:\n",
    "            cval+=1\n",
    "        else:\n",
    "            cval-=1\n",
    "    val+=1\n",
    "    nsp-=1\n",
    "    nst+=2\n",
    "    print()\n",
    "    row+=1"
   ]
  },
  {
   "cell_type": "code",
   "execution_count": 3,
   "id": "5f3591c3-451d-451e-85c5-58ccbe5e9746",
   "metadata": {},
   "outputs": [
    {
     "name": "stdin",
     "output_type": "stream",
     "text": [
      " 5\n"
     ]
    },
    {
     "name": "stdout",
     "output_type": "stream",
     "text": [
      "    * \n",
      "  * * * \n",
      "* * * * * \n",
      "  * * * \n",
      "    * \n"
     ]
    }
   ],
   "source": [
    "N = int(input())\n",
    "nst = 1\n",
    "nsp = N//2\n",
    "row = 1\n",
    "while row <= N:\n",
    "    csp = 1\n",
    "    while csp <= nsp:\n",
    "        print(\" \",end= \" \")\n",
    "        csp+=1\n",
    "    \n",
    "    cst = 1\n",
    "    while cst <= nst:\n",
    "        print(\"*\",end=\" \")\n",
    "        cst+=1\n",
    "    \n",
    "    if row <= N//2:\n",
    "        nst+=2\n",
    "        nsp-=1\n",
    "    else:\n",
    "        nst-=2\n",
    "        nsp+=1\n",
    "\n",
    "    print()\n",
    "    row+=1\n",
    "\n",
    "     \n"
   ]
  },
  {
   "cell_type": "code",
   "execution_count": 9,
   "id": "6a55e666-3756-4c08-8a20-825a0172d090",
   "metadata": {},
   "outputs": [
    {
     "name": "stdin",
     "output_type": "stream",
     "text": [
      " 5\n"
     ]
    },
    {
     "name": "stdout",
     "output_type": "stream",
     "text": [
      "1  \n",
      "2  3  \n",
      "4  5  6  \n",
      "7  8  9  10  \n",
      "11  12  13  14  15  \n"
     ]
    }
   ],
   "source": [
    "N = int(input())\n",
    "nst = 1\n",
    "row = 1\n",
    "val = 1\n",
    "while row <= N:\n",
    "    cst = 1\n",
    "    cval = val\n",
    "    while cst <= nst:\n",
    "        print(cval,end = \"  \")\n",
    "        cval+=1\n",
    "        cst+=1\n",
    "    print()\n",
    "    val = cval\n",
    "    row+=1\n",
    "    nst+=1"
   ]
  },
  {
   "cell_type": "code",
   "execution_count": 11,
   "id": "ac61d616-0e9d-4d43-bc78-58439083b0a7",
   "metadata": {},
   "outputs": [
    {
     "name": "stdin",
     "output_type": "stream",
     "text": [
      " 5\n"
     ]
    },
    {
     "name": "stdout",
     "output_type": "stream",
     "text": [
      "    *****\n",
      "   *   *\n",
      "  *   *\n",
      " *   *\n",
      "*****\n"
     ]
    }
   ],
   "source": [
    "N = int(input())\n",
    "row = 1\n",
    "nst = 2\n",
    "nsp = 4\n",
    "nsp2 = 3\n",
    "while row <= N:\n",
    "    csp = 1\n",
    "    while csp <= nsp:\n",
    "        print(\" \",end=\"\")\n",
    "        csp+=1\n",
    "   \n",
    "        \n",
    "    cst = 1\n",
    "    while cst <= N:\n",
    "        if row == 1 or row == N:\n",
    "            print(\"*\",end = \"\")\n",
    "            cst+=1\n",
    "        else:\n",
    "            if cst == 1 or cst == N:\n",
    "                print(\"*\",end = \"\")\n",
    "            else:\n",
    "                print(\" \",end = \"\")\n",
    "            \n",
    "            cst+=1\n",
    "    nsp-=1\n",
    "    row+=1\n",
    "    print()\n",
    "\n",
    "\n"
   ]
  },
  {
   "cell_type": "code",
   "execution_count": 25,
   "id": "4dca3d84-df0e-4bbc-ac3b-e170a60a7287",
   "metadata": {},
   "outputs": [
    {
     "name": "stdout",
     "output_type": "stream",
     "text": [
      "    1 \n",
      "  2 3 2 \n",
      "3 4 5 4 3 \n",
      "  2 3 2 \n",
      "    1 \n"
     ]
    }
   ],
   "source": [
    "N = 3\n",
    "nsp = N - 1\n",
    "nst = 1\n",
    "row = 1\n",
    "val = 1\n",
    "while row <= N*2 -1:\n",
    "    csp = 1\n",
    "    while csp <= nsp:\n",
    "        print(\" \",end = \" \")\n",
    "        csp+=1\n",
    "    \n",
    "    cst = 1\n",
    "    cval = val\n",
    "    while cst <= nst:\n",
    "        print(cval,end =\" \")\n",
    "        cst+=1\n",
    "        if cst <= nst//2 +1:\n",
    "            cval+=1\n",
    "        else:\n",
    "            cval-=1\n",
    "    cval+=1\n",
    "    val = cval\n",
    "    if row < N:\n",
    "        nst+=2\n",
    "        nsp-=1\n",
    "        val+=1\n",
    "    else:\n",
    "        nst-=2\n",
    "        nsp+=1\n",
    "        val-=1\n",
    "    \n",
    "    print()\n",
    "    row+=1\n"
   ]
  },
  {
   "cell_type": "code",
   "execution_count": 29,
   "id": "446ab187-1aae-46e9-a558-3a2aa0208058",
   "metadata": {},
   "outputs": [
    {
     "name": "stdin",
     "output_type": "stream",
     "text": [
      " 5\n"
     ]
    },
    {
     "name": "stdout",
     "output_type": "stream",
     "text": [
      "1  \n",
      "2  2  \n",
      "3  0  3  \n",
      "4  0  0  4  \n",
      "5  0  0  0  5  \n"
     ]
    }
   ],
   "source": [
    "N = int(input())\n",
    "nst = 1\n",
    "row = 1\n",
    "val = 1\n",
    "while row <= N:\n",
    "    cst = 1\n",
    "    cval = val\n",
    "    while cst <= nst:\n",
    "        if cst == 1 or cst == nst:\n",
    "            print(cval,end = \"  \")\n",
    "        else:\n",
    "            print(\"0\",end = \"  \")\n",
    "        \n",
    "        cst+=1\n",
    "    print()\n",
    "    cval+=1\n",
    "    val = cval\n",
    "    row+=1\n",
    "    nst+=1"
   ]
  },
  {
   "cell_type": "code",
   "execution_count": 6,
   "id": "4cd723ee-7e0d-4b2e-8c54-7b7237810dff",
   "metadata": {},
   "outputs": [
    {
     "name": "stdin",
     "output_type": "stream",
     "text": [
      " 5\n"
     ]
    },
    {
     "name": "stdout",
     "output_type": "stream",
     "text": [
      "0  \n",
      "1  1  \n",
      "2  3  5  \n",
      "8  13  21  34  \n",
      "55  89  144  233  377  \n"
     ]
    }
   ],
   "source": [
    "N = int(input())\n",
    "nst = 1\n",
    "row = 1\n",
    "val1 = -1\n",
    "val2 = 1\n",
    "while row <= N:\n",
    "    \n",
    "    cst = 1\n",
    "    \n",
    "    while cst <= nst:\n",
    "        cval = val1 + val2\n",
    "        print(cval,end = \"  \")\n",
    "        val1 = val2\n",
    "        val2 = cval\n",
    "        cst+=1\n",
    "    print()\n",
    "    \n",
    "    row+=1\n",
    "    nst+=1"
   ]
  },
  {
   "cell_type": "code",
   "execution_count": 19,
   "id": "2fbcf603-c35e-44de-9a08-0f2baaec6ebb",
   "metadata": {},
   "outputs": [
    {
     "name": "stdin",
     "output_type": "stream",
     "text": [
      " 7\n"
     ]
    },
    {
     "name": "stdout",
     "output_type": "stream",
     "text": [
      "            1 \n",
      "        2 1   1 2 \n",
      "    3 2 1       1 2 3 \n",
      "4 3 2 1           1 2 3 4 \n",
      "    3 2 1       1 2 3 \n",
      "        2 1   1 2 \n",
      "            1 \n"
     ]
    }
   ],
   "source": [
    "N = int(input())\n",
    "nsp1 = N - 1\n",
    "nsp2 = -1\n",
    "nst = 1\n",
    "row = 1\n",
    "val = 1\n",
    "while row <= N:\n",
    "    csp1 = 1\n",
    "    while csp1 <= nsp1:\n",
    "        print(\" \",end=\" \")\n",
    "        csp1+=1\n",
    "    \n",
    "    cst = 1\n",
    "    cval = val\n",
    "    while cst <= nst:\n",
    "        print(cval,end=\" \")\n",
    "        cst+=1\n",
    "        cval-=1\n",
    "    \n",
    "    csp2 = 1\n",
    "    while csp2 <= nsp2:\n",
    "        print(\" \",end=\" \")\n",
    "        csp2+=1\n",
    "    \n",
    "    cst = 1\n",
    "    cval+=1\n",
    "    if 1 == row or row == N:\n",
    "        cst+=1\n",
    "    while cst <= nst:\n",
    "        print(cval,end=\" \")\n",
    "        cst+=1\n",
    "        cval+=1\n",
    "\n",
    "    row+=1\n",
    "    if row <= N//2+1:\n",
    "        nst+=1\n",
    "        nsp1-=2\n",
    "        nsp2+=2\n",
    "        val+=1\n",
    "    else:\n",
    "        nst-=1\n",
    "        nsp1+=2\n",
    "        nsp2-=2\n",
    "        val-=1\n",
    "    print()\n",
    "    "
   ]
  },
  {
   "cell_type": "code",
   "execution_count": 14,
   "id": "02f4074b-b26f-46c3-b7c6-6650996d6120",
   "metadata": {},
   "outputs": [
    {
     "name": "stdout",
     "output_type": "stream",
     "text": [
      "9                                   9 \n",
      "9 8                               8 9 \n",
      "9 8 7                           7 8 9 \n",
      "9 8 7 6                       6 7 8 9 \n",
      "9 8 7 6 5                   5 6 7 8 9 \n",
      "9 8 7 6 5 4               4 5 6 7 8 9 \n",
      "9 8 7 6 5 4 3           3 4 5 6 7 8 9 \n",
      "9 8 7 6 5 4 3 2       2 3 4 5 6 7 8 9 \n",
      "9 8 7 6 5 4 3 2 1   1 2 3 4 5 6 7 8 9 \n",
      "9 8 7 6 5 4 3 2 1 0 1 2 3 4 5 6 7 8 9 \n",
      "9 8 7 6 5 4 3 2 1   1 2 3 4 5 6 7 8 9 \n",
      "9 8 7 6 5 4 3 2       2 3 4 5 6 7 8 9 \n",
      "9 8 7 6 5 4 3           3 4 5 6 7 8 9 \n",
      "9 8 7 6 5 4               4 5 6 7 8 9 \n",
      "9 8 7 6 5                   5 6 7 8 9 \n",
      "9 8 7 6                       6 7 8 9 \n",
      "9 8 7                           7 8 9 \n",
      "9 8                               8 9 \n",
      "9                                   9 \n"
     ]
    }
   ],
   "source": [
    "N = 9\n",
    "nst = 1\n",
    "nsp = N*2 - 1\n",
    "row = 1\n",
    "val = N\n",
    "while row <= N*2 +1:\n",
    "    cst = 1\n",
    "    cval = val\n",
    "    while cst <= nst:\n",
    "        print(cval,end =\" \")\n",
    "        cst+=1\n",
    "        cval-=1\n",
    "    csp = 1\n",
    "    while csp <= nsp:\n",
    "        print(\" \",end=\" \")\n",
    "        csp+=1\n",
    "    cst = 1\n",
    "    cval+=1\n",
    "    if row == N + 1:\n",
    "        cst+=1\n",
    "        cval+=1\n",
    "    while cst <= nst:\n",
    "        print(cval,end =\" \")\n",
    "        cst+=1\n",
    "        cval+=1\n",
    "    if row <= N:\n",
    "        nst+=1\n",
    "        nsp-=2\n",
    "    else:\n",
    "        nst-=1\n",
    "        nsp+=2\n",
    "\n",
    "    print()\n",
    "    row+=1\n",
    "    \n",
    "\n"
   ]
  },
  {
   "cell_type": "code",
   "execution_count": 24,
   "id": "bb69a4b8-289d-46b7-841e-f846caf3f76b",
   "metadata": {},
   "outputs": [
    {
     "name": "stdin",
     "output_type": "stream",
     "text": [
      " 6\n"
     ]
    },
    {
     "name": "stdout",
     "output_type": "stream",
     "text": [
      "1                   1 \n",
      "1 2               2 1 \n",
      "1 2 3           3 2 1 \n",
      "1 2 3 4       4 3 2 1 \n",
      "1 2 3 4 5   5 4 3 2 1 \n",
      "1 2 3 4 5 6 5 4 3 2 1 \n"
     ]
    }
   ],
   "source": [
    "N = int(input())\n",
    "nst = 1\n",
    "nsp = N*2 - 3\n",
    "row = 1\n",
    "val = 1\n",
    "while row <= N:\n",
    "    cst = 1\n",
    "    cval = val\n",
    "    while cst <= nst:\n",
    "        print(cval,end=\" \")\n",
    "        cst+=1\n",
    "        cval+=1\n",
    "\n",
    "    csp = 1\n",
    "    while csp <= nsp:\n",
    "        print(\" \",end=\" \")\n",
    "        csp+=1\n",
    "\n",
    "    cval-=1\n",
    "    cst = 1\n",
    "    if row == N:\n",
    "        cst+=1\n",
    "        cval-=1\n",
    "    while cst <= nst:\n",
    "        print(cval,end=\" \")\n",
    "        cst+=1\n",
    "        cval-=1\n",
    "\n",
    "    row+=1\n",
    "    print()\n",
    "    nsp-=2\n",
    "    nst+=1\n",
    "    \n",
    "    "
   ]
  },
  {
   "cell_type": "code",
   "execution_count": 29,
   "id": "6a190a38-cef1-4dd1-9de4-c8bccdfc629b",
   "metadata": {},
   "outputs": [
    {
     "name": "stdin",
     "output_type": "stream",
     "text": [
      " 5\n"
     ]
    },
    {
     "name": "stdout",
     "output_type": "stream",
     "text": [
      "5 4 3 2 1 0 1 2 3 4 5 \n",
      "  5 4 3 2 1 2 3 4 5 \n",
      "    5 4 3 2 3 4 5 \n",
      "      5 4 3 4 5 \n",
      "        5 4 5 \n",
      "          5 \n",
      "        5 4 5 \n",
      "      5 4 3 4 5 \n",
      "    5 4 3 2 3 4 5 \n",
      "  5 4 3 2 1 2 3 4 5 \n",
      "5 4 3 2 1 0 1 2 3 4 5 \n"
     ]
    }
   ],
   "source": [
    "N = int(input())\n",
    "nst = N*2 + 1\n",
    "nsp = 0\n",
    "row = 1\n",
    "val = 5\n",
    "while row <= N*2+1:\n",
    "    csp = 1\n",
    "    while csp <= nsp:\n",
    "        print(\" \",end=\" \")\n",
    "        csp+=1\n",
    "    \n",
    "    cst = 1\n",
    "    cval = val\n",
    "    while cst <= nst:\n",
    "        \n",
    "        print(cval,end=\" \")\n",
    "        cst+=1\n",
    "        if cst <=  nst//2 + 1:\n",
    "            cval-=1\n",
    "        else:\n",
    "            cval+=1\n",
    "    \n",
    "    row +=1\n",
    "    print()\n",
    "\n",
    "    if row <=N+1:\n",
    "        nst-=2\n",
    "        nsp+=1\n",
    "    else:\n",
    "        nst+=2\n",
    "        nsp-=1\n",
    "    \n",
    "\n"
   ]
  },
  {
   "cell_type": "code",
   "execution_count": 37,
   "id": "7c3c130a-b2c8-4711-836f-f8eb1bc20632",
   "metadata": {},
   "outputs": [
    {
     "name": "stdin",
     "output_type": "stream",
     "text": [
      " 6\n"
     ]
    },
    {
     "name": "stdout",
     "output_type": "stream",
     "text": [
      "6 5 4 3 2 1 0 1 2 3 4 5 6 \n",
      "  5 4 3 2 1 0 1 2 3 4 5 \n",
      "    4 3 2 1 0 1 2 3 4 \n",
      "      3 2 1 0 1 2 3 \n",
      "        2 1 0 1 2 \n",
      "          1 0 1 \n",
      "            0 \n",
      "          1 0 1 \n",
      "        2 1 0 1 2 \n",
      "      3 2 1 0 1 2 3 \n",
      "    4 3 2 1 0 1 2 3 4 \n",
      "  5 4 3 2 1 0 1 2 3 4 5 \n",
      "6 5 4 3 2 1 0 1 2 3 4 5 6 \n"
     ]
    }
   ],
   "source": [
    "N = int(input())\n",
    "nst = N*2 + 1\n",
    "nsp = 0\n",
    "row = 1\n",
    "val = N\n",
    "while row <= N*2+1:\n",
    "    csp = 1\n",
    "    while csp <= nsp:\n",
    "        print(\" \",end=\" \")\n",
    "        csp+=1\n",
    "    \n",
    "    cst = 1\n",
    "    cval = val\n",
    "    while cst <= nst:\n",
    "        \n",
    "        print(cval,end=\" \")\n",
    "        cst+=1\n",
    "        if cst <=  nst//2 + 1:\n",
    "            cval-=1\n",
    "        else:\n",
    "            cval+=1\n",
    "    \n",
    "    \n",
    "    row +=1\n",
    "    print()\n",
    "    \n",
    "    if row <=N+1:\n",
    "        nst-=2\n",
    "        nsp+=1\n",
    "        val-=1\n",
    "    else:\n",
    "        nst+=2\n",
    "        nsp-=1\n",
    "        val+=1\n",
    "    \n",
    "\n"
   ]
  },
  {
   "cell_type": "code",
   "execution_count": 1,
   "id": "12fff4ea-299f-47cd-bc70-89bded1eaad4",
   "metadata": {},
   "outputs": [
    {
     "name": "stdin",
     "output_type": "stream",
     "text": [
      " 4\n",
      " 1\n",
      " 2\n",
      " 3\n",
      " 4\n"
     ]
    },
    {
     "name": "stdout",
     "output_type": "stream",
     "text": [
      "[24, 12, 8, 6]\n"
     ]
    }
   ],
   "source": [
    "def tot_pr(arr):\n",
    "    n = len(arr)\n",
    "    pr = 1\n",
    "    for i in range(n):\n",
    "        pr *= arr[i]\n",
    "    return pr\n",
    "\n",
    "N = int(input())\n",
    "arr = [int(input()) for _ in range(N)]\n",
    "\n",
    "total = tot_pr(arr)\n",
    "for i in range(N):\n",
    "    arr[i] = total//arr[i]\n",
    "\n",
    "print(arr)\n"
   ]
  },
  {
   "cell_type": "code",
   "execution_count": 1,
   "id": "7929d68d-322c-4805-bc03-708d88de4693",
   "metadata": {},
   "outputs": [
    {
     "name": "stdin",
     "output_type": "stream",
     "text": [
      " 4 4\n"
     ]
    },
    {
     "ename": "ValueError",
     "evalue": "invalid literal for int() with base 10: '4 4'",
     "output_type": "error",
     "traceback": [
      "\u001b[0;31m---------------------------------------------------------------------------\u001b[0m",
      "\u001b[0;31mValueError\u001b[0m                                Traceback (most recent call last)",
      "Cell \u001b[0;32mIn[1], line 17\u001b[0m\n\u001b[1;32m     10\u001b[0m             count_map[num] \u001b[38;5;241m-\u001b[39m\u001b[38;5;241m=\u001b[39m \u001b[38;5;241m1\u001b[39m\n\u001b[1;32m     12\u001b[0m     \u001b[38;5;28;01mreturn\u001b[39;00m result\n\u001b[0;32m---> 17\u001b[0m N \u001b[38;5;241m=\u001b[39m \u001b[38;5;28;43mint\u001b[39;49m\u001b[43m(\u001b[49m\u001b[38;5;28;43minput\u001b[39;49m\u001b[43m(\u001b[49m\u001b[43m)\u001b[49m\u001b[43m)\u001b[49m\n\u001b[1;32m     18\u001b[0m arr1 \u001b[38;5;241m=\u001b[39m \u001b[38;5;28mlist\u001b[39m(\u001b[38;5;28mmap\u001b[39m(\u001b[38;5;28mint\u001b[39m,\u001b[38;5;28minput\u001b[39m()\u001b[38;5;241m.\u001b[39msplit()))\n\u001b[1;32m     19\u001b[0m arr2 \u001b[38;5;241m=\u001b[39m \u001b[38;5;28mlist\u001b[39m(\u001b[38;5;28mmap\u001b[39m(\u001b[38;5;28mint\u001b[39m,\u001b[38;5;28minput\u001b[39m()\u001b[38;5;241m.\u001b[39msplit()))\n",
      "\u001b[0;31mValueError\u001b[0m: invalid literal for int() with base 10: '4 4'"
     ]
    }
   ],
   "source": [
    "from collections import Counter\n",
    "\n",
    "def find_intersection(arr1, arr2):\n",
    "    count_map = Counter(arr1)\n",
    "\n",
    "    result = []\n",
    "    for num in arr2:\n",
    "        if count_map[num] > 0:\n",
    "            result.append(num)\n",
    "            count_map[num] -= 1\n",
    "        \n",
    "    return result\n",
    "\n",
    "\n",
    "\n",
    "\n",
    "N = int(input())\n",
    "arr1 = list(map(int,input().split()))\n",
    "arr2 = list(map(int,input().split()))\n",
    "print(find_intersection(arr1, arr2))"
   ]
  },
  {
   "cell_type": "code",
   "execution_count": 5,
   "id": "00a205a6-4c51-4236-ac0e-ffd6a95196c2",
   "metadata": {},
   "outputs": [
    {
     "name": "stdin",
     "output_type": "stream",
     "text": [
      " 4 4\n",
      " 11 22 33 44\n",
      " 12 23 34 45\n",
      " 21 32 43 54\n",
      " 11\n"
     ]
    },
    {
     "ename": "TypeError",
     "evalue": "'map' object is not subscriptable",
     "output_type": "error",
     "traceback": [
      "\u001b[0;31m---------------------------------------------------------------------------\u001b[0m",
      "\u001b[0;31mTypeError\u001b[0m                                 Traceback (most recent call last)",
      "Cell \u001b[0;32mIn[5], line 16\u001b[0m\n\u001b[1;32m     14\u001b[0m m, n \u001b[38;5;241m=\u001b[39m \u001b[38;5;28mmap\u001b[39m(\u001b[38;5;28mint\u001b[39m, \u001b[38;5;28minput\u001b[39m()\u001b[38;5;241m.\u001b[39msplit())\n\u001b[1;32m     15\u001b[0m matrix \u001b[38;5;241m=\u001b[39m \u001b[38;5;28mlist\u001b[39m(\u001b[38;5;28mmap\u001b[39m(\u001b[38;5;28mint\u001b[39m, \u001b[38;5;28minput\u001b[39m()\u001b[38;5;241m.\u001b[39msplit()) \u001b[38;5;28;01mfor\u001b[39;00m _ \u001b[38;5;129;01min\u001b[39;00m \u001b[38;5;28mrange\u001b[39m(m))\n\u001b[0;32m---> 16\u001b[0m \u001b[43mfn\u001b[49m\u001b[43m(\u001b[49m\u001b[43mmatrix\u001b[49m\u001b[43m,\u001b[49m\u001b[43m \u001b[49m\u001b[43mm\u001b[49m\u001b[43m,\u001b[49m\u001b[43m \u001b[49m\u001b[43mn\u001b[49m\u001b[43m)\u001b[49m\n",
      "Cell \u001b[0;32mIn[5], line 6\u001b[0m, in \u001b[0;36mfn\u001b[0;34m(matrix, m, n)\u001b[0m\n\u001b[1;32m      4\u001b[0m \u001b[38;5;28;01mif\u001b[39;00m col \u001b[38;5;241m%\u001b[39m \u001b[38;5;241m2\u001b[39m \u001b[38;5;241m==\u001b[39m \u001b[38;5;241m0\u001b[39m:\n\u001b[1;32m      5\u001b[0m     \u001b[38;5;28;01mfor\u001b[39;00m row \u001b[38;5;129;01min\u001b[39;00m \u001b[38;5;28mrange\u001b[39m(m):\n\u001b[0;32m----> 6\u001b[0m         result\u001b[38;5;241m.\u001b[39mappend(\u001b[38;5;28mstr\u001b[39m(\u001b[43mmatrix\u001b[49m\u001b[43m[\u001b[49m\u001b[43mrow\u001b[49m\u001b[43m]\u001b[49m\u001b[43m[\u001b[49m\u001b[43mcol\u001b[49m\u001b[43m]\u001b[49m))\n\u001b[1;32m      7\u001b[0m \u001b[38;5;28;01melse\u001b[39;00m:\n\u001b[1;32m      8\u001b[0m     \u001b[38;5;28;01mfor\u001b[39;00m row \u001b[38;5;129;01min\u001b[39;00m \u001b[38;5;28mrange\u001b[39m(m\u001b[38;5;241m-\u001b[39m\u001b[38;5;241m1\u001b[39m,\u001b[38;5;241m-\u001b[39m\u001b[38;5;241m1\u001b[39m,\u001b[38;5;241m-\u001b[39m\u001b[38;5;241m1\u001b[39m):\n",
      "\u001b[0;31mTypeError\u001b[0m: 'map' object is not subscriptable"
     ]
    }
   ],
   "source": []
  },
  {
   "cell_type": "code",
   "execution_count": 3,
   "id": "e55b68a5-b78f-4631-8e5c-17431b7b71c8",
   "metadata": {},
   "outputs": [
    {
     "name": "stdin",
     "output_type": "stream",
     "text": [
      " 4 4\n",
      " 11 22 33 44 \n",
      " 22 33 44 55\n",
      " 55 66 77 88\n",
      " 21 32 43 54\n"
     ]
    },
    {
     "ename": "IndexError",
     "evalue": "list index out of range",
     "output_type": "error",
     "traceback": [
      "\u001b[0;31m---------------------------------------------------------------------------\u001b[0m",
      "\u001b[0;31mIndexError\u001b[0m                                Traceback (most recent call last)",
      "Cell \u001b[0;32mIn[3], line 16\u001b[0m\n\u001b[1;32m     14\u001b[0m m, n \u001b[38;5;241m=\u001b[39m \u001b[38;5;28mmap\u001b[39m(\u001b[38;5;28mint\u001b[39m, \u001b[38;5;28minput\u001b[39m()\u001b[38;5;241m.\u001b[39msplit())\n\u001b[1;32m     15\u001b[0m matrix \u001b[38;5;241m=\u001b[39m [\u001b[38;5;28mlist\u001b[39m(\u001b[38;5;28mmap\u001b[39m(\u001b[38;5;28mint\u001b[39m, \u001b[38;5;28minput\u001b[39m()\u001b[38;5;241m.\u001b[39msplit()) \u001b[38;5;28;01mfor\u001b[39;00m _ \u001b[38;5;129;01min\u001b[39;00m \u001b[38;5;28mrange\u001b[39m(m))]\n\u001b[0;32m---> 16\u001b[0m \u001b[43mfn\u001b[49m\u001b[43m(\u001b[49m\u001b[43mmatrix\u001b[49m\u001b[43m,\u001b[49m\u001b[43m \u001b[49m\u001b[43mm\u001b[49m\u001b[43m,\u001b[49m\u001b[43m \u001b[49m\u001b[43mn\u001b[49m\u001b[43m)\u001b[49m\n",
      "Cell \u001b[0;32mIn[3], line 6\u001b[0m, in \u001b[0;36mfn\u001b[0;34m(matrix, m, n)\u001b[0m\n\u001b[1;32m      4\u001b[0m \u001b[38;5;28;01mif\u001b[39;00m col \u001b[38;5;241m%\u001b[39m \u001b[38;5;241m2\u001b[39m \u001b[38;5;241m==\u001b[39m \u001b[38;5;241m0\u001b[39m:\n\u001b[1;32m      5\u001b[0m     \u001b[38;5;28;01mfor\u001b[39;00m row \u001b[38;5;129;01min\u001b[39;00m \u001b[38;5;28mrange\u001b[39m(m):\n\u001b[0;32m----> 6\u001b[0m         result\u001b[38;5;241m.\u001b[39mappend(\u001b[38;5;28mstr\u001b[39m(\u001b[43mmatrix\u001b[49m\u001b[43m[\u001b[49m\u001b[43mrow\u001b[49m\u001b[43m]\u001b[49m[col]))\n\u001b[1;32m      7\u001b[0m \u001b[38;5;28;01melse\u001b[39;00m:\n\u001b[1;32m      8\u001b[0m     \u001b[38;5;28;01mfor\u001b[39;00m row \u001b[38;5;129;01min\u001b[39;00m \u001b[38;5;28mrange\u001b[39m(m\u001b[38;5;241m-\u001b[39m\u001b[38;5;241m1\u001b[39m,\u001b[38;5;241m-\u001b[39m\u001b[38;5;241m1\u001b[39m,\u001b[38;5;241m-\u001b[39m\u001b[38;5;241m1\u001b[39m):\n",
      "\u001b[0;31mIndexError\u001b[0m: list index out of range"
     ]
    }
   ],
   "source": [
    "def fn(matrix,  m, n):\n",
    "    result = []\n",
    "    for col in range(n):\n",
    "        if col % 2 == 0:\n",
    "            for row in range(m):\n",
    "                result.append(str(matrix[row][col]))\n",
    "        else:\n",
    "            for row in range(m-1,-1,-1):\n",
    "                result.append(str(matrix[row][col]))\n",
    "\n",
    "    print(\", \".join(result) + \", END\")\n",
    "\n",
    "\n",
    "m, n = map(int, input().split())\n",
    "matrix = [list(map(int, input().split()) for _ in range(m))]\n",
    "fn(matrix, m, n)"
   ]
  },
  {
   "cell_type": "code",
   "execution_count": 7,
   "id": "6751d949-416e-423d-b03f-711991897dd5",
   "metadata": {},
   "outputs": [
    {
     "name": "stdin",
     "output_type": "stream",
     "text": [
      " 3 3\n",
      " 3 30 38 44 52 54 57 60 69\n",
      " 62\n"
     ]
    },
    {
     "name": "stdout",
     "output_type": "stream",
     "text": [
      "0\n"
     ]
    }
   ],
   "source": [
    "def fn(matrix, m, n, x):\n",
    "    i, j = 0, n - 1\n",
    "\n",
    "    while i<m and j >= 0:\n",
    "        if matrix[i][j] == x:\n",
    "            print(1)\n",
    "            return\n",
    "        elif matrix[i][j] > x:\n",
    "            j-=1\n",
    "        else:\n",
    "            i+=1\n",
    "    \n",
    "    print(0)\n",
    "\n",
    "\n",
    "\n",
    "m, n = map(int, input().split())\n",
    "elements = list(map(int, input().split()))\n",
    "matrix = [elements[i*n:(i+1)*n] for i in range(m)] #new concept\n",
    "x = int(input())\n",
    "fn(matrix, m, n, x)"
   ]
  },
  {
   "cell_type": "code",
   "execution_count": 10,
   "id": "2f1ce03e-fb12-4f51-90c4-789100598be4",
   "metadata": {},
   "outputs": [
    {
     "name": "stdin",
     "output_type": "stream",
     "text": [
      " 5\n",
      " 1 2 2 2 3\n"
     ]
    },
    {
     "data": {
      "text/plain": [
       "2"
      ]
     },
     "execution_count": 10,
     "metadata": {},
     "output_type": "execute_result"
    }
   ],
   "source": [
    "# Using Boyer-Moore Voting Algorithm\n",
    "def fn(arr, n):\n",
    "    curr = arr[0]\n",
    "    count = 1\n",
    "\n",
    "    for i in range(1,n):\n",
    "        if arr[i] == curr:\n",
    "            count+=1\n",
    "            ele = arr[i]\n",
    "        else:\n",
    "            count-=1\n",
    "        if count == 0:\n",
    "            curr = arr[i]\n",
    "    return curr\n",
    "\n",
    "\n",
    "N = int(input())\n",
    "arr = list(map(int,input().split()))\n",
    "fn(arr, N)"
   ]
  },
  {
   "cell_type": "code",
   "execution_count": 1,
   "id": "5c33f745-284b-4f3f-9b31-372dd2a55026",
   "metadata": {},
   "outputs": [],
   "source": [
    "l  = [1,2,3,4]\n",
    "l2 = [4,5,6]\n",
    "l.append(l2)"
   ]
  },
  {
   "cell_type": "code",
   "execution_count": 2,
   "id": "832c4964-563b-469e-bd68-569850e9a47e",
   "metadata": {},
   "outputs": [
    {
     "data": {
      "text/plain": [
       "[1, 2, 3, 4, [4, 5, 6]]"
      ]
     },
     "execution_count": 2,
     "metadata": {},
     "output_type": "execute_result"
    }
   ],
   "source": [
    "l"
   ]
  },
  {
   "cell_type": "code",
   "execution_count": 3,
   "id": "d4cca387-a692-446e-8424-d11bca43e3e1",
   "metadata": {},
   "outputs": [
    {
     "name": "stdout",
     "output_type": "stream",
     "text": [
      "{'age': 25, 'city': 'Delhi', 'name': 'Alice'}\n"
     ]
    }
   ],
   "source": [
    "from pprint import pprint\n",
    "data = {\"name\": \"Alice\", \"age\": 25, \"city\": \"Delhi\"}\n",
    "pprint(data)\n"
   ]
  },
  {
   "cell_type": "code",
   "execution_count": 5,
   "id": "2d2a42c9-027c-4fd3-ae2e-67bb09d997b0",
   "metadata": {},
   "outputs": [
    {
     "data": {
      "text/plain": [
       "{'name': 'Aayush', 'age': 21, 'course': 'CSE'}"
      ]
     },
     "execution_count": 5,
     "metadata": {},
     "output_type": "execute_result"
    }
   ],
   "source": [
    "student = {\"name\": \"Aayush\", \"age\": 21, \"course\": \"CSE\"}\n",
    "student\n"
   ]
  },
  {
   "cell_type": "code",
   "execution_count": null,
   "id": "7c3ec29e-0d3f-44a6-8354-783b61295497",
   "metadata": {},
   "outputs": [],
   "source": []
  }
 ],
 "metadata": {
  "kernelspec": {
   "display_name": "Python 3 (ipykernel)",
   "language": "python",
   "name": "python3"
  },
  "language_info": {
   "codemirror_mode": {
    "name": "ipython",
    "version": 3
   },
   "file_extension": ".py",
   "mimetype": "text/x-python",
   "name": "python",
   "nbconvert_exporter": "python",
   "pygments_lexer": "ipython3",
   "version": "3.13.3"
  }
 },
 "nbformat": 4,
 "nbformat_minor": 5
}
