{
 "cells": [
  {
   "cell_type": "code",
   "execution_count": 1,
   "id": "dedd201e-7792-4a02-8a5d-51267c3e1529",
   "metadata": {},
   "outputs": [
    {
     "data": {
      "text/plain": [
       "{1, 2, 3, 4, 5}"
      ]
     },
     "execution_count": 1,
     "metadata": {},
     "output_type": "execute_result"
    }
   ],
   "source": [
    "#sets:--- unique collection of entities\n",
    "#time complexity o(1) hoti h to use kr skte h bhot araam se or efficiently\n",
    "# set kaise bnate h\n",
    "s = set()\n",
    "s.add(1)\n",
    "s.add(2)\n",
    "s.add(3)\n",
    "s.add(1)\n",
    "\n",
    "s1 = set()\n",
    "s1.add(1)\n",
    "s1.add(4)\n",
    "s1.add(4)\n",
    "s1.add(5)\n",
    "\n",
    "s1.union(s)\n"
   ]
  },
  {
   "cell_type": "markdown",
   "id": "f4e1cc9c-de84-43c7-a699-722f9d0299a3",
   "metadata": {},
   "source": [
    "# dictionary\n",
    "- mutable data structure\n",
    "- random access value\n",
    "- immutable keys\n",
    "- heterogeneus\n",
    "- dict functions\n",
    "- - del\n",
    "  - pop\n",
    "  - popitem\n",
    "  - item\n",
    "  - fromkeys : jitni bhi values denge  or unke aage ek single value deni h to ek value likhdo comma lgakr......d1 = d.fromkeys([1,2,3,4],\"Number\")\n",
    "  - update : puri ki puri dict. ki values dusri dict. m bhi update krdeta (union krdeta h)\n",
    "  - use for each loop for traversal in dictionaries\n",
    "  - - for t in d.items():\n",
    "    - for k,v in d.items():\n",
    "  - "
   ]
  },
  {
   "cell_type": "markdown",
   "id": "06d01fda-0abe-4750-b3f2-fbbf724a8974",
   "metadata": {},
   "source": [
    "# string\n",
    "- string formatting\n",
    "- - +\n",
    "  - %s, %d\n",
    "  - format functions\n",
    "  - f-strings\n",
    "- strip :"
   ]
  },
  {
   "cell_type": "code",
   "execution_count": 2,
   "id": "643be056-9919-4229-8e89-9016ee9219ca",
   "metadata": {},
   "outputs": [
    {
     "data": {
      "text/plain": [
       "'👋'"
      ]
     },
     "execution_count": 2,
     "metadata": {},
     "output_type": "execute_result"
    }
   ],
   "source": [
    "s = \"👋\"\n",
    "s"
   ]
  },
  {
   "cell_type": "code",
   "execution_count": null,
   "id": "a53b4787-f8d7-4887-90d7-c65c827b1751",
   "metadata": {},
   "outputs": [],
   "source": [
    "s."
   ]
  }
 ],
 "metadata": {
  "kernelspec": {
   "display_name": "Python 3 (ipykernel)",
   "language": "python",
   "name": "python3"
  },
  "language_info": {
   "codemirror_mode": {
    "name": "ipython",
    "version": 3
   },
   "file_extension": ".py",
   "mimetype": "text/x-python",
   "name": "python",
   "nbconvert_exporter": "python",
   "pygments_lexer": "ipython3",
   "version": "3.13.3"
  }
 },
 "nbformat": 4,
 "nbformat_minor": 5
}
